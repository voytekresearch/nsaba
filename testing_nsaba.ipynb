{
 "cells": [
  {
   "cell_type": "code",
   "execution_count": 1,
   "metadata": {
    "collapsed": false
   },
   "outputs": [
    {
     "name": "stdout",
     "output_type": "stream",
     "text": [
      "Populating the interactive namespace from numpy and matplotlib\n",
      "database.txt keys loaded.\n",
      "features.txt keys loaded.\n"
     ]
    },
    {
     "data": {
      "text/plain": [
       "0"
      ]
     },
     "execution_count": 1,
     "metadata": {},
     "output_type": "execute_result"
    }
   ],
   "source": [
    "%pylab inline\n",
    "from nsaba import Nsaba\n",
    "import numpy as np\n",
    "import matplotlib.pyplot as plt\n",
    "ns_path = '/Users/Torben/Documents/ABI analysis/current_data/'\n",
    "aba_path = 'blah/bluh'\n",
    "#Nsaba.aba_load(aba_path)\n",
    "Nsaba.ns_load(ns_path)"
   ]
  },
  {
   "cell_type": "code",
   "execution_count": 15,
   "metadata": {
    "collapsed": false
   },
   "outputs": [
    {
     "name": "stdout",
     "output_type": "stream",
     "text": [
      "[17629502, 21976513, 23063450, 21959173, 17175179, 23501047, 21272861, 22030268, 16624583, 16624584, 23769260, 23769608, 23246859, 15808992, 15808996, 15809000, 21543607, 19446647, 11549616, 22133748, 21511824, 16626975, 11553288, 22072686, 21254799, 24695720, 15488911, 15808995, 18603414, 18603609, 16310346, 24699035, 24633532, 22209640, 21385619, 17394210, 22571931, 17560797, 24695697, 19166942, 12744947, 25524648]\n"
     ]
    }
   ],
   "source": [
    "A = Nsaba();\n",
    "t= A.CoordtoIDs((1,2,3))\n",
    "print t\n",
    "\n",
    "#A.get_ge('7889')\n",
    "#A.get_ns_act('Alzhiemers')\n",
    "#mat = A.make_ge_ns_mat()\n"
   ]
  },
  {
   "cell_type": "code",
   "execution_count": 9,
   "metadata": {
    "collapsed": false
   },
   "outputs": [
    {
     "name": "stdout",
     "output_type": "stream",
     "text": [
      "[7233]\n"
     ]
    }
   ],
   "source": [
    "import numpy as np\n",
    "print np.where(A.ns['id_x_features'] == A.ns['unique_ids'][10])[0]"
   ]
  },
  {
   "cell_type": "code",
   "execution_count": null,
   "metadata": {
    "collapsed": true
   },
   "outputs": [],
   "source": []
  }
 ],
 "metadata": {
  "kernelspec": {
   "display_name": "Python 2",
   "language": "python",
   "name": "python2"
  },
  "language_info": {
   "codemirror_mode": {
    "name": "ipython",
    "version": 2
   },
   "file_extension": ".py",
   "mimetype": "text/x-python",
   "name": "python",
   "nbconvert_exporter": "python",
   "pygments_lexer": "ipython2",
   "version": "2.7.10"
  }
 },
 "nbformat": 4,
 "nbformat_minor": 0
}
