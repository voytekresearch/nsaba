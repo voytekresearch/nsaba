{
 "cells": [
  {
   "cell_type": "code",
   "execution_count": 1,
   "metadata": {
    "collapsed": false
   },
   "outputs": [
    {
     "name": "stdout",
     "output_type": "stream",
     "text": [
      "Populating the interactive namespace from numpy and matplotlib\n",
      "This may take a minute or two ...\n",
      "MicroarrayExpression.csv loaded.\n",
      "SampleAnnot.csv loaded.\n",
      "Probes.csv loaded.\n",
      "Nsaba.aba['mni_coords'] initialized.\n",
      "database.txt keys loaded.\n",
      "features.txt keys loaded.\n"
     ]
    },
    {
     "data": {
      "text/plain": [
       "0"
      ]
     },
     "execution_count": 1,
     "metadata": {},
     "output_type": "execute_result"
    }
   ],
   "source": [
    "%pylab inline\n",
    "from nsaba import Nsaba\n",
    "import numpy as np\n",
    "import matplotlib.pyplot as plt\n",
    "ns_path = '/Users/Torben/Documents/ABI analysis/current_data/'\n",
    "#ns_path = '/Users/SP/Documents/'\n",
    "aba_path = '/Users/Torben/Documents/ABI analysis/normalized_microarray_donor9861/'\n",
    "#Nsaba.aba_load(aba_path)\n",
    "Nsaba.aba_load(aba_path)\n",
    "Nsaba.ns_load(ns_path)"
   ]
  },
  {
   "cell_type": "code",
   "execution_count": 20,
   "metadata": {
    "collapsed": false
   },
   "outputs": [],
   "source": [
    "import pandas as pd"
   ]
  },
  {
   "cell_type": "code",
   "execution_count": 4,
   "metadata": {
    "collapsed": false
   },
   "outputs": [
    {
     "name": "stdout",
     "output_type": "stream",
     "text": [
      "[3, 4, 5]\n",
      "0\n"
     ]
    }
   ],
   "source": [
    "A = Nsaba();\n",
    "#print int(np.squeeze(np.where(A.ns['id_x_features'] == 17629502))[0])\n",
    "#t= A.get_ge(['740'])\n",
    "\n",
    "print A.get_ge([740])\n",
    "#A.get_ge('7889')\n",
    "#A.get_ns_act('Alzhiemers')\n",
    "#mat = A.make_ge_ns_mat()\n"
   ]
  },
  {
   "cell_type": "code",
   "execution_count": 10,
   "metadata": {
    "collapsed": false
   },
   "outputs": [
    {
     "name": "stdout",
     "output_type": "stream",
     "text": [
      "946\n"
     ]
    }
   ],
   "source": [
    "print len(A.ge[740][0])"
   ]
  },
  {
   "cell_type": "code",
   "execution_count": null,
   "metadata": {
    "collapsed": true
   },
   "outputs": [],
   "source": []
  }
 ],
 "metadata": {
  "kernelspec": {
   "display_name": "Python 2",
   "language": "python",
   "name": "python2"
  },
  "language_info": {
   "codemirror_mode": {
    "name": "ipython",
    "version": 2
   },
   "file_extension": ".py",
   "mimetype": "text/x-python",
   "name": "python",
   "nbconvert_exporter": "python",
   "pygments_lexer": "ipython2",
   "version": "2.7.10"
  }
 },
 "nbformat": 4,
 "nbformat_minor": 0
}
