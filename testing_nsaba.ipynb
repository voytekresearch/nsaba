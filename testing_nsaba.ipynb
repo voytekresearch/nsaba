{
 "cells": [
  {
   "cell_type": "code",
   "execution_count": 1,
   "metadata": {
    "collapsed": false
   },
   "outputs": [
    {
     "name": "stdout",
     "output_type": "stream",
     "text": [
      "Populating the interactive namespace from numpy and matplotlib\n"
     ]
    },
    {
     "ename": "NameError",
     "evalue": "name 'profile' is not defined",
     "output_type": "error",
     "traceback": [
      "\u001b[1;31m---------------------------------------------------------------------------\u001b[0m",
      "\u001b[1;31mNameError\u001b[0m                                 Traceback (most recent call last)",
      "\u001b[1;32m<ipython-input-1-2adf45243620>\u001b[0m in \u001b[0;36m<module>\u001b[1;34m()\u001b[0m\n\u001b[0;32m      1\u001b[0m \u001b[0mget_ipython\u001b[0m\u001b[1;33m(\u001b[0m\u001b[1;33m)\u001b[0m\u001b[1;33m.\u001b[0m\u001b[0mmagic\u001b[0m\u001b[1;33m(\u001b[0m\u001b[1;34mu'pylab inline'\u001b[0m\u001b[1;33m)\u001b[0m\u001b[1;33m\u001b[0m\u001b[0m\n\u001b[1;32m----> 2\u001b[1;33m \u001b[1;32mfrom\u001b[0m \u001b[0mnsaba\u001b[0m \u001b[1;32mimport\u001b[0m \u001b[0mNsaba\u001b[0m\u001b[1;33m\u001b[0m\u001b[0m\n\u001b[0m\u001b[0;32m      3\u001b[0m \u001b[1;32mimport\u001b[0m \u001b[0mnumpy\u001b[0m \u001b[1;32mas\u001b[0m \u001b[0mnp\u001b[0m\u001b[1;33m\u001b[0m\u001b[0m\n\u001b[0;32m      4\u001b[0m \u001b[1;32mimport\u001b[0m \u001b[0mos\u001b[0m\u001b[1;33m\u001b[0m\u001b[0m\n\u001b[0;32m      5\u001b[0m \u001b[1;32mimport\u001b[0m \u001b[0mmatplotlib\u001b[0m\u001b[1;33m.\u001b[0m\u001b[0mpyplot\u001b[0m \u001b[1;32mas\u001b[0m \u001b[0mplt\u001b[0m\u001b[1;33m\u001b[0m\u001b[0m\n",
      "\u001b[1;32mC:\\Users\\John\\Documents\\Code\\python\\nsaba\\nsaba.py\u001b[0m in \u001b[0;36m<module>\u001b[1;34m()\u001b[0m\n\u001b[0;32m     13\u001b[0m \u001b[1;33m\u001b[0m\u001b[0m\n\u001b[0;32m     14\u001b[0m \u001b[1;33m\u001b[0m\u001b[0m\n\u001b[1;32m---> 15\u001b[1;33m \u001b[1;32mclass\u001b[0m \u001b[0mNsaba\u001b[0m\u001b[1;33m(\u001b[0m\u001b[0mobject\u001b[0m\u001b[1;33m)\u001b[0m\u001b[1;33m:\u001b[0m\u001b[1;33m\u001b[0m\u001b[0m\n\u001b[0m\u001b[0;32m     16\u001b[0m \u001b[1;33m\u001b[0m\u001b[0m\n\u001b[0;32m     17\u001b[0m     aba = {\n",
      "\u001b[1;32mC:\\Users\\John\\Documents\\Code\\python\\nsaba\\nsaba.py\u001b[0m in \u001b[0;36mNsaba\u001b[1;34m()\u001b[0m\n\u001b[0;32m    186\u001b[0m         \u001b[1;32mreturn\u001b[0m \u001b[0mnp\u001b[0m\u001b[1;33m.\u001b[0m\u001b[0mmean\u001b[0m\u001b[1;33m(\u001b[0m\u001b[0mbucket_act_vec\u001b[0m\u001b[1;33m)\u001b[0m\u001b[1;33m*\u001b[0m\u001b[0mweight\u001b[0m\u001b[1;33m\u001b[0m\u001b[0m\n\u001b[0;32m    187\u001b[0m \u001b[1;33m\u001b[0m\u001b[0m\n\u001b[1;32m--> 188\u001b[1;33m     \u001b[1;33m@\u001b[0m\u001b[0mprofile\u001b[0m\u001b[1;33m\u001b[0m\u001b[0m\n\u001b[0m\u001b[0;32m    189\u001b[0m     \u001b[1;32mdef\u001b[0m \u001b[0mget_ns_act\u001b[0m\u001b[1;33m(\u001b[0m\u001b[0mself\u001b[0m\u001b[1;33m,\u001b[0m \u001b[0mterm\u001b[0m\u001b[1;33m,\u001b[0m \u001b[0mthresh\u001b[0m\u001b[1;33m=\u001b[0m\u001b[1;36m0\u001b[0m\u001b[1;33m)\u001b[0m\u001b[1;33m:\u001b[0m\u001b[1;33m\u001b[0m\u001b[0m\n\u001b[0;32m    190\u001b[0m         \u001b[1;34m\"\"\" Generates NS activation vector about ABA MNI coordinates  \"\"\"\u001b[0m\u001b[1;33m\u001b[0m\u001b[0m\n",
      "\u001b[1;31mNameError\u001b[0m: name 'profile' is not defined"
     ]
    }
   ],
   "source": [
    "%pylab inline\n",
    "from nsaba import Nsaba\n",
    "import numpy as np\n",
    "import os\n",
    "import matplotlib.pyplot as plt\n",
    "import pandas as pd\n",
    "import itertools"
   ]
  },
  {
   "cell_type": "code",
   "execution_count": 2,
   "metadata": {
    "collapsed": false
   },
   "outputs": [],
   "source": [
    "%load_ext line_profiler"
   ]
  },
  {
   "cell_type": "code",
   "execution_count": 3,
   "metadata": {
    "collapsed": false
   },
   "outputs": [
    {
     "name": "stdout",
     "output_type": "stream",
     "text": [
      "This may take a minute or two ...\n",
      "SampleAnnot.csv loaded.\n",
      "MicroarrayExpression.csv loaded.\n",
      "Probes.csv loaded.\n",
      "Nsaba.aba['mni_coords'] initialized.\n",
      "database.txt loaded.\n",
      "features.txt loaded.\n"
     ]
    }
   ],
   "source": [
    "# Simon Path IO\n",
    "\n",
    "data_dir = 'C:\\Users\\\\John\\\\Documents\\\\Code\\\\Python\\\\nsaba\\\\data_dir'\n",
    "os.chdir(data_dir)\n",
    "Nsaba.aba_load()\n",
    "Nsaba.ns_load()"
   ]
  },
  {
   "cell_type": "code",
   "execution_count": 1,
   "metadata": {
    "collapsed": true
   },
   "outputs": [],
   "source": [
    "#Torben Path IO\n",
    "\n",
    "ns_path = \"/Users/Torben/Documents/ABI analysis/current_data/\"\n",
    "#ns_path = '/Users/SP/Documents/'\n",
    "aba_path = '/Users/Torben/Documents/ABI analysis/normalized_microarray_donor9861/'\n",
    "#aba_path = '/Users/SP/Documents/'\n",
    "Nsaba.aba_load(aba_path)\n",
    "Nsaba.ns_load(ns_path)"
   ]
  },
  {
   "cell_type": "code",
   "execution_count": 4,
   "metadata": {
    "collapsed": false
   },
   "outputs": [],
   "source": [
    "A = Nsaba()\n",
    "A.get_aba_ge([733, 33, 88])"
   ]
  },
  {
   "cell_type": "code",
   "execution_count": 5,
   "metadata": {
    "collapsed": false
   },
   "outputs": [
    {
     "name": "stderr",
     "output_type": "stream",
     "text": [
      "c:\\Users\\John\\Anaconda\\lib\\site-packages\\line_profiler.py:298: UserWarning: Could not extract a code object for the object <class 'nsaba.Nsaba'>\n",
      "  profile = LineProfiler(*funcs)\n",
      "c:\\Users\\John\\Anaconda\\lib\\site-packages\\numpy\\core\\_methods.py:59: RuntimeWarning: Mean of empty slice.\n",
      "  warnings.warn(\"Mean of empty slice.\", RuntimeWarning)\n"
     ]
    }
   ],
   "source": [
    "%lprun -f Nsaba A.get_ns_act(\"attention\", thresh=.3)"
   ]
  },
  {
   "cell_type": "code",
   "execution_count": 64,
   "metadata": {
    "collapsed": false
   },
   "outputs": [
    {
     "data": {
      "text/plain": [
       "array([[ 3.16345034,  0.14669315],\n",
       "       [ 2.72313138,  0.14669315],\n",
       "       [ 3.29699796,  0.14669315],\n",
       "       [ 2.61963057,  0.34460096],\n",
       "       [ 3.92301243,  0.14669315],\n",
       "       [ 3.83224791,  0.12175331],\n",
       "       [ 3.94104321,  0.14669315],\n",
       "       [ 3.79406417,  0.11257082],\n",
       "       [ 4.04943338,  0.12175331],\n",
       "       [ 3.23937163,  0.11257082],\n",
       "       [ 3.2776997 ,  0.15065068],\n",
       "       [ 3.34604728,  0.15065068],\n",
       "       [ 3.97072034,  0.10649011],\n",
       "       [ 1.87784461,  0.10425399],\n",
       "       [ 3.62450531,  0.11257082],\n",
       "       [ 3.54922194,  0.13374953],\n",
       "       [ 3.89261207,  0.11036896],\n",
       "       [ 2.848666  ,  0.11126622],\n",
       "       [ 4.39443322,  0.10421777],\n",
       "       [ 3.24186496,  0.10421777],\n",
       "       [ 2.80469559,  0.15828335],\n",
       "       [ 3.27025492,  0.15828335],\n",
       "       [ 2.77958103,  0.15828335],\n",
       "       [ 3.74157808,  0.10649011],\n",
       "       [ 2.6856449 ,  0.10421777],\n",
       "       [ 3.35863718,  0.12175331],\n",
       "       [ 3.55011694,  0.10421777],\n",
       "       [ 3.24996892,  0.15065068],\n",
       "       [ 3.35486739,  0.10649011],\n",
       "       [ 3.59081305,  0.10649011],\n",
       "       [ 2.73046712,  0.14669315]])"
      ]
     },
     "execution_count": 64,
     "metadata": {},
     "output_type": "execute_result"
    }
   ],
   "source": [
    "A.make_ge_ns_mat('oscillations', 733)"
   ]
  },
  {
   "cell_type": "code",
   "execution_count": null,
   "metadata": {
    "collapsed": false
   },
   "outputs": [],
   "source": []
  },
  {
   "cell_type": "code",
   "execution_count": null,
   "metadata": {
    "collapsed": true
   },
   "outputs": [],
   "source": []
  }
 ],
 "metadata": {
  "kernelspec": {
   "display_name": "Python 2",
   "language": "python",
   "name": "python2"
  },
  "language_info": {
   "codemirror_mode": {
    "name": "ipython",
    "version": 2
   },
   "file_extension": ".py",
   "mimetype": "text/x-python",
   "name": "python",
   "nbconvert_exporter": "python",
   "pygments_lexer": "ipython2",
   "version": "2.7.8"
  }
 },
 "nbformat": 4,
 "nbformat_minor": 0
}
