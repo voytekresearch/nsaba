{
 "cells": [
  {
   "cell_type": "code",
   "execution_count": 1,
   "metadata": {
    "collapsed": false
   },
   "outputs": [
    {
     "name": "stdout",
     "output_type": "stream",
     "text": [
      "Populating the interactive namespace from numpy and matplotlib\n"
     ]
    }
   ],
   "source": [
    "#importing data\n",
    "\n",
    "%pylab inline\n",
    "import neurosynth as ns\n",
    "import pandas as pd\n",
    "import numpy as np\n",
    "import matplotlib.pyplot as plt\n",
    "import csv\n",
    "#only once\n",
    "#ns.dataset.download(path='.', unpack=True)"
   ]
  },
  {
   "cell_type": "code",
   "execution_count": 2,
   "metadata": {
    "collapsed": false
   },
   "outputs": [],
   "source": [
    "#long runtime \n",
    "#from neurosynth.base.dataset import Dataset\n",
    "dataset = ns.base.dataset.Dataset('database.txt');"
   ]
  },
  {
   "cell_type": "code",
   "execution_count": 3,
   "metadata": {
    "collapsed": false
   },
   "outputs": [],
   "source": [
    "#medium runtime\n",
    "dataset.add_features('features.txt');"
   ]
  },
  {
   "cell_type": "code",
   "execution_count": 24,
   "metadata": {
    "collapsed": false
   },
   "outputs": [],
   "source": [
    "ids1 = dataset.get_studies(expression='alzheimer', frequency_threshold=0.001)"
   ]
  },
  {
   "cell_type": "code",
   "execution_count": 28,
   "metadata": {
    "collapsed": false,
    "scrolled": true
   },
   "outputs": [
    {
     "name": "stdout",
     "output_type": "stream",
     "text": [
      "['id' 'doi' 'x' 'y' 'z' 'space' 'peak_id' 'table_id' 'table_num' 'title'\n",
      " 'authors' 'year' 'journal']\n"
     ]
    }
   ],
   "source": [
    "#data is saved in studies and \n",
    "df= pd.read_table('database.txt')\n",
    "#t= mni_space['MNI'];\n",
    "mni_space= df[df['space'].str.contains(\"MNI\")];\n",
    "x_vals = list(mni_space['x']);\n",
    "y_vals = list(mni_space['y']);\n",
    "z_vals = list(mni_space['z']);\n",
    "study_ids = list(mni_space['id']);\n",
    "unique_ids = list(set(study_ids)); #removing duplicates\n",
    "\n",
    "term_table= pd.read_table('features.txt');\n",
    "new_term_table = term_table.loc[term_table['pmid'].isin(unique_ids)];\n",
    "terms = term_table.columns.values;\n",
    "\n",
    "id_x_features = np.array(term_table['pmid']);\n",
    "\n",
    "database_labels = df.columns.values;\n",
    "print database_labels\n"
   ]
  },
  {
   "cell_type": "code",
   "execution_count": null,
   "metadata": {
    "collapsed": false
   },
   "outputs": [],
   "source": []
  },
  {
   "cell_type": "code",
   "execution_count": 179,
   "metadata": {
    "collapsed": false
   },
   "outputs": [],
   "source": [
    "def initStudyDict():\n",
    "    '''Creates a dictionary with Keys = study ids and Vals = tuples of x,y,z locations in NMI space'''\n",
    "    \n",
    "    '''Add parameter to smear xyz locations'''\n",
    "    ids = {};\n",
    "    c = 0;\n",
    "    for i in study_ids:\n",
    "        #print i\n",
    "        if i not in ids:\n",
    "            ids[i] = [(x_vals[c],y_vals[c],z_vals[c])];\n",
    "            c +=1;\n",
    "        elif (x_vals[c],y_vals[c],z_vals[c]) in ids[i]:\n",
    "            c+=1\n",
    "        else:\n",
    "            ids[i].append((x_vals[c],y_vals[c],z_vals[c]))\n",
    "    return ids     \n",
    "id_mat = initStudyDict();"
   ]
  },
  {
   "cell_type": "code",
   "execution_count": 190,
   "metadata": {
    "collapsed": false
   },
   "outputs": [
    {
     "name": "stdout",
     "output_type": "stream",
     "text": [
      "[(-6.0, 21.0, 41.0), (-6.0, 34.0, 41.0), (-6.0, 34.0, 28.0), (-6.0, 21.0, 28.0), (38.0, 15.0, -18.0), (36.0, 15.0, -18.0), (36.0, 26.0, -18.0), (36.0, 26.0, -16.0), (36.0, 17.0, -16.0), (36.0, 17.0, -13.0), (-44.0, 17.0, 23.0), (-44.0, 30.0, 23.0), (-44.0, 30.0, 21.0), (-42.0, 30.0, 21.0), (-42.0, 19.0, 21.0), (-42.0, 19.0, 27.0), (-4.0, 22.0, 50.0), (-4.0, 20.0, 50.0)]\n"
     ]
    }
   ],
   "source": [
    "def isTerm(term):\n",
    "    '''Checks if this term is in the neurosynth database'''\n",
    "    if term in new_term_table:\n",
    "        return True\n",
    "    else:\n",
    "        return False\n",
    "\n",
    "def isLocation(coords):\n",
    "    '''Checks if coordinate set (x,y,z) is mentioned in any studies'''\n",
    "    if coords[0] in x_vals:\n",
    "        ind = x_vals.index(coords[0]);\n",
    "        if y_vals[ind] == coords[1] and z_vals[ind] == coords[2]:\n",
    "            return True\n",
    "        else:\n",
    "            return False\n",
    "    else: \n",
    "        return False\n",
    "    \n",
    "def isID(ID):\n",
    "    '''Checks if ID is an ID with NMI coordinates'''\n",
    "    if ID in id_mat:\n",
    "        return True\n",
    "    else:\n",
    "        return False\n",
    "    \n",
    "    \n",
    "def CoordtoIDs(coord):\n",
    "    '''Uses the study dictionary above to find study ids from x,y,z coordinates'''\n",
    "    if isLocation(coord):\n",
    "        IDs = [];\n",
    "        for i, coords in id_mat.items():\n",
    "            if coord in coords:\n",
    "                IDs.append(i)\n",
    "        return IDs\n",
    "    else:\n",
    "        return \"These coordinates don't match any studies\"\n",
    "\n",
    "def IDtoTerms(ID):\n",
    "    '''Finds all of the term heat values of a given ID'''\n",
    "    if isID(ID):\n",
    "        ind= int(np.squeeze(np.where(id_x_features == ID)))\n",
    "        #print ind\n",
    "        return list(new_term_table.iloc[ind][1:])\n",
    "    else:\n",
    "        return 'Not an ID of a study in NMI space';\n",
    "\n",
    "def IDtoCoords(ID):\n",
    "    '''Finds coordinates associated with a given study ID'''\n",
    "    if isID(ID):\n",
    "        return id_mat[ID]\n",
    "    else:\n",
    "        return 'Not an ID of a study in NMI space'\n",
    "\n",
    "#c = isID(15949653);\n",
    "#print c\n",
    "\n",
    "def CoordtoTerms(coord):\n",
    "    '''Returns the vector of term heats for a given (x,y,z) coordinate set. \n",
    "    If there are multiple studies that mention the same coordinates, the average is taken.'''\n",
    "    if isLocation(coord):\n",
    "        ids = CoordtoIDs(coord)\n",
    "        if len(ids) == 1:\n",
    "            return IDtoTerms(ids[0])\n",
    "        else: \n",
    "            temp = np.zeros((len(ids),3406));\n",
    "            for i in xrange(len(ids)):\n",
    "                temp[i,:] = IDtoTerms(ids[i]);\n",
    "            return list(mean(temp,0))\n",
    "    else:\n",
    "        return []\n",
    "\n",
    "    \n",
    "def TermtoIDs(term,thresh):\n",
    "    '''Matches a term to the IDs of studies that use that term above a given threshold'''\n",
    "    if isTerm(term):\n",
    "        term_all_ids = np.array(new_term_table[term]);\n",
    "        id_inds = squeeze(np.where(term_all_ids>thresh));\n",
    "        return id_x_features[id_inds]\n",
    "    else:\n",
    "        return []\n",
    "    \n",
    "def TermtoCoords(term,thresh):\n",
    "    '''Finds the coordinates that are associated with a given term up to a given threshold'''\n",
    "    ids = TermtoIDs(term,thresh);\n",
    "    coords = [];\n",
    "    coords = [IDtoCoords(i) for i in ids]\n",
    "    coords= coords[0] #removing weird extra set of []\n",
    "    return coords\n",
    "\n",
    "\n",
    "#print TermtoIDs('schizophrenia',0.5)\n",
    "c = TermtoCoords('schizophrenia',0.5)\n",
    "print c"
   ]
  },
  {
   "cell_type": "code",
   "execution_count": null,
   "metadata": {
    "collapsed": false
   },
   "outputs": [],
   "source": []
  },
  {
   "cell_type": "code",
   "execution_count": null,
   "metadata": {
    "collapsed": false
   },
   "outputs": [],
   "source": []
  },
  {
   "cell_type": "code",
   "execution_count": null,
   "metadata": {
    "collapsed": false
   },
   "outputs": [],
   "source": []
  },
  {
   "cell_type": "code",
   "execution_count": null,
   "metadata": {
    "collapsed": false
   },
   "outputs": [],
   "source": []
  },
  {
   "cell_type": "code",
   "execution_count": 10,
   "metadata": {
    "collapsed": true
   },
   "outputs": [],
   "source": [
    "#ns.network.coactivation(dataset, [[0, 20, 28]], threshold=0.1, output_dir='seed_test', prefix='acc_seed')"
   ]
  },
  {
   "cell_type": "code",
   "execution_count": null,
   "metadata": {
    "collapsed": false,
    "scrolled": true
   },
   "outputs": [],
   "source": [
    "\n",
    "    "
   ]
  },
  {
   "cell_type": "code",
   "execution_count": 16,
   "metadata": {
    "collapsed": false
   },
   "outputs": [
    {
     "name": "stdout",
     "output_type": "stream",
     "text": [
      "True\n"
     ]
    }
   ],
   "source": []
  },
  {
   "cell_type": "code",
   "execution_count": 15,
   "metadata": {
    "collapsed": false
   },
   "outputs": [
    {
     "data": {
      "text/plain": [
       "-34.0"
      ]
     },
     "execution_count": 15,
     "metadata": {},
     "output_type": "execute_result"
    }
   ],
   "source": []
  },
  {
   "cell_type": "code",
   "execution_count": null,
   "metadata": {
    "collapsed": true
   },
   "outputs": [],
   "source": []
  }
 ],
 "metadata": {
  "kernelspec": {
   "display_name": "Python 2",
   "language": "python",
   "name": "python2"
  },
  "language_info": {
   "codemirror_mode": {
    "name": "ipython",
    "version": 2
   },
   "file_extension": ".py",
   "mimetype": "text/x-python",
   "name": "python",
   "nbconvert_exporter": "python",
   "pygments_lexer": "ipython2",
   "version": "2.7.10"
  }
 },
 "nbformat": 4,
 "nbformat_minor": 0
}
