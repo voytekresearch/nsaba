{
 "cells": [
  {
   "cell_type": "code",
   "execution_count": 2,
   "metadata": {
    "collapsed": false
   },
   "outputs": [
    {
     "name": "stdout",
     "output_type": "stream",
     "text": [
      "Populating the interactive namespace from numpy and matplotlib\n"
     ]
    }
   ],
   "source": [
    "#importing data\n",
    "\n",
    "%pylab inline\n",
    "import neurosynth as ns\n",
    "import pandas as pd\n",
    "import numpy as np\n",
    "import matplotlib.pyplot as plt\n",
    "import csv\n",
    "#only once\n",
    "#ns.dataset.download(path='.', unpack=True)"
   ]
  },
  {
   "cell_type": "code",
   "execution_count": 3,
   "metadata": {
    "collapsed": false
   },
   "outputs": [],
   "source": [
    "#long runtime \n",
    "#from neurosynth.base.dataset import Dataset\n",
    "#dataset = ns.base.dataset.Dataset('database.txt');"
   ]
  },
  {
   "cell_type": "code",
   "execution_count": 4,
   "metadata": {
    "collapsed": false
   },
   "outputs": [],
   "source": [
    "#medium runtime\n",
    "#dataset.add_features('features.txt');"
   ]
  },
  {
   "cell_type": "code",
   "execution_count": 5,
   "metadata": {
    "collapsed": false
   },
   "outputs": [],
   "source": [
    "#ids1 = dataset.get_studies(expression='alzheimer', frequency_threshold=0.001)"
   ]
  },
  {
   "cell_type": "code",
   "execution_count": 6,
   "metadata": {
    "collapsed": false,
    "scrolled": true
   },
   "outputs": [
    {
     "name": "stdout",
     "output_type": "stream",
     "text": [
      "['id' 'doi' 'x' 'y' 'z' 'space' 'peak_id' 'table_id' 'table_num' 'title'\n",
      " 'authors' 'year' 'journal']\n",
      "(7669, 3407)\n"
     ]
    }
   ],
   "source": [
    "#data is saved in studies and \n",
    "df= pd.read_table('database.txt')\n",
    "#t= mni_space['MNI'];\n",
    "mni_space= df[df['space'].str.contains(\"MNI\")];\n",
    "x_vals = list(mni_space['x']);\n",
    "y_vals = list(mni_space['y']);\n",
    "z_vals = list(mni_space['z']);\n",
    "study_ids = list(mni_space['id']);\n",
    "unique_ids = list(set(study_ids)); #removing duplicates\n",
    "\n",
    "term_table= pd.read_table('features.txt');\n",
    "mni_term_table = term_table.loc[term_table['pmid'].isin(unique_ids)];\n",
    "terms = term_table.columns.values;\n",
    "\n",
    "id_x_features = np.array(mni_term_table['pmid']);\n",
    "\n",
    "database_labels = df.columns.values;\n",
    "print database_labels\n",
    "\n",
    "print mni_term_table.shape"
   ]
  },
  {
   "cell_type": "code",
   "execution_count": 7,
   "metadata": {
    "collapsed": false
   },
   "outputs": [],
   "source": [
    "#print id_x_features[9243]\n",
    "#print mni_term_table#.iloc[9243][1:]"
   ]
  },
  {
   "cell_type": "code",
   "execution_count": 8,
   "metadata": {
    "collapsed": false
   },
   "outputs": [],
   "source": [
    "def initStudyDict():\n",
    "    '''Creates a dictionary with Keys = study ids and Vals = tuples of x,y,z locations in NMI space'''\n",
    "    \n",
    "    '''Add parameter to smear xyz locations'''\n",
    "    ids = {};\n",
    "    c = 0;\n",
    "    for i in study_ids:\n",
    "        #print i\n",
    "        if i not in ids:\n",
    "            ids[i] = [(x_vals[c],y_vals[c],z_vals[c])];\n",
    "            c +=1;\n",
    "        elif (x_vals[c],y_vals[c],z_vals[c]) in ids[i]:\n",
    "            c+=1\n",
    "        else:\n",
    "            ids[i].append((x_vals[c],y_vals[c],z_vals[c]))\n",
    "    return ids     \n",
    "id_mat = initStudyDict();"
   ]
  },
  {
   "cell_type": "code",
   "execution_count": 9,
   "metadata": {
    "collapsed": false
   },
   "outputs": [
    {
     "name": "stdout",
     "output_type": "stream",
     "text": [
      "[16337921 20692350]\n"
     ]
    }
   ],
   "source": [
    "#bookeeping methods\n",
    "\n",
    "def isTerm(term):\n",
    "    '''Checks if this term is in the neurosynth database'''\n",
    "    if term in mni_term_table:\n",
    "        return True\n",
    "    else:\n",
    "        return False\n",
    "\n",
    "def isLocation(coords):\n",
    "    '''Checks if coordinate set (x,y,z) is mentioned in any studies'''\n",
    "    if np.floor(coords[0]) in np.floor(x_vals):\n",
    "        #ind = x_vals.index(coords[0]);\n",
    "        \n",
    "        for xind in xrange(len(x_vals)):\n",
    "            if coords[0] == x_vals[xind]:\n",
    "                if np.floor(y_vals[xind]) == np.floor(coords[1]): \n",
    "                    #print '2'\n",
    "                    if np.floor(z_vals[xind]) == np.floor(coords[2]):\n",
    "                        return True\n",
    "        else:\n",
    "            return False\n",
    "    else: \n",
    "        return False\n",
    "    \n",
    "def isID(ID):\n",
    "    '''Checks if ID is an ID with NMI coordinates'''\n",
    "    if ID in id_mat:\n",
    "        return True\n",
    "    else:\n",
    "        return False\n",
    "    \n",
    "    \n",
    "def CoordtoIDs(coord):\n",
    "    '''Uses the study dictionary above to find study ids from x,y,z coordinates'''\n",
    "    if isLocation(coord):\n",
    "        IDs = [];\n",
    "        for i, coords in id_mat.items():\n",
    "            if coord in coords:\n",
    "                IDs.append(i)\n",
    "        return IDs\n",
    "    else:\n",
    "        return \"These coordinates don't match any studies\"\n",
    "\n",
    "def IDtoTerms(ID):\n",
    "    '''Finds all of the term heat values of a given ID'''\n",
    "    if isID(ID):\n",
    "        ind= int(np.squeeze(np.where(id_x_features == ID)))\n",
    "        return list(mni_term_table.iloc[ind][1:])\n",
    "    else:\n",
    "        return 'Not an ID of a study in NMI space';\n",
    "\n",
    "def IDtoCoords(ID):\n",
    "    '''Finds coordinates associated with a given study ID'''\n",
    "    if isID(ID):\n",
    "        return id_mat[ID]\n",
    "    else:\n",
    "        return 'Not an ID of a study in NMI space'\n",
    "\n",
    "\n",
    "def CoordtoTerms(coord):\n",
    "    '''Returns the vector of term heats for a given (x,y,z) coordinate set. \n",
    "    If there are multiple studies that mention the same coordinates, the average is taken.'''\n",
    "    if isLocation(coord):\n",
    "        ids = CoordtoIDs(coord)\n",
    "        if len(ids) == 1:\n",
    "            return IDtoTerms(ids[0])\n",
    "        else: \n",
    "            temp = np.zeros((len(ids),3406));\n",
    "            for i in xrange(len(ids)):\n",
    "                temp[i,:] = IDtoTerms(ids[i]);\n",
    "            return list(mean(temp,0))\n",
    "    else:\n",
    "        return 'not valid location'\n",
    "\n",
    "    \n",
    "def TermtoIDs(term,thresh):\n",
    "    '''Matches a term to the IDs of studies that use that term above a given threshold'''\n",
    "    if isTerm(term):\n",
    "        term_all_ids = np.array(mni_term_table[term]);\n",
    "        id_inds = squeeze(np.where(term_all_ids>thresh));\n",
    "        return id_x_features[id_inds]\n",
    "    else:\n",
    "        return 'This is not a valid term'\n",
    "    \n",
    "def TermtoCoords(term,thresh):\n",
    "    '''Finds the coordinates that are associated with a given term up to a given threshold'''\n",
    "    ids = TermtoIDs(term,thresh);\n",
    "    coords = [IDtoCoords(i) for i in ids]\n",
    "    return coords\n",
    "\n",
    "\n",
    "#print TermtoIDs('schizophrenia',0.5)\n",
    "c = TermtoIDs('vision',0.3)\n",
    "print c"
   ]
  },
  {
   "cell_type": "code",
   "execution_count": 10,
   "metadata": {
    "collapsed": false
   },
   "outputs": [],
   "source": [
    "#distance methods\n",
    "\n",
    "def calcDistance(coord1,coord2):\n",
    "    '''Calculates Euclidian distance between two coordinates'''\n",
    "    dist = np.sqrt((coord1[0]-coord2[0])**2 + (coord1[1]-coord2[1])**2 + (coord1[2]-coord2[2])**2);\n",
    "    return dist\n",
    "\n",
    "def findNeighbors(coord,dist):\n",
    "    neighbors = [];\n",
    "    for x in xrange(int(coord[0]-(dist+1)),int(coord[0]+(dist+1))):\n",
    "        for y in xrange(int(coord[1]-(dist+1)),int(coord[1]+(dist+1))):\n",
    "            for z in xrange(int(coord[2]-(dist+1)),int(coord[2]+(dist+1))):\n",
    "                if calcDistance(coord,(x,y,z)) == dist:\n",
    "                    neighbors.append((float(x),float(y),float(z)))    \n",
    "    return neighbors\n",
    "  \n",
    "def sphere(coord,maxDist):\n",
    "    '''Finds every point in a sphere around a given point of radius maxDist'''\n",
    "    ind_sphere = [];\n",
    "    for d in xrange(maxDist):\n",
    "        ind_sphere.append(findNeighbors(coord,d));\n",
    "    return ind_sphere\n",
    "    \n",
    "    \n",
    "    \n",
    "def assignWeights(ind_sphere,weight = 2):\n",
    "    '''Assigns weights to a point sphere produced by the sphere method'''\n",
    "    '''weight must be >1'''\n",
    "    weight_vector = np.ones((1,len(ind_sphere)));  \n",
    "    for layer in xrange(1,len(ind_sphere)):\n",
    "        weight_vector[0,layer] = 1/(float(layer)*weight)\n",
    "    \n",
    "    return weight_vector"
   ]
  },
  {
   "cell_type": "code",
   "execution_count": 39,
   "metadata": {
    "collapsed": false
   },
   "outputs": [
    {
     "name": "stdout",
     "output_type": "stream",
     "text": [
      "found a nearby point\n",
      "(-2.0, -98.0, -8.0)\n",
      "0.25\n",
      "found a nearby point\n",
      "(-2.0, -98.0, -4.0)\n",
      "found a nearby point\n",
      "(-6.0, -98.0, -6.0)\n",
      "0.125\n",
      "found a nearby point\n",
      "(-2.0, -98.0, -10.0)\n",
      "0.125\n",
      "found a nearby point\n",
      "(-2.0, -95.0, -2.0)\n",
      "0.1\n",
      "found a nearby point\n",
      "(-8.0, -98.0, -6.0)\n",
      "0.0833333333333\n",
      "found a nearby point\n",
      "(-6.0, -96.0, -10.0)\n",
      "0.0833333333333\n",
      "found a nearby point\n",
      "(-6.0, -96.0, -2.0)\n",
      "found a nearby point\n",
      "(-6.0, -94.0, -4.0)\n",
      "0.0833333333333\n",
      "found a nearby point\n",
      "(-4.0, -94.0, -10.0)\n",
      "found a nearby point\n",
      "(-4.0, -94.0, -2.0)\n",
      "found a nearby point\n",
      "(-2.0, -98.0, 0.0)\n",
      "0.0833333333333\n",
      "found a nearby point\n",
      "(0.0, -94.0, -2.0)\n",
      "0.0833333333333\n",
      "found a nearby point\n",
      "(2.0, -94.0, -4.0)\n",
      "0.0833333333333\n",
      "found a nearby point\n",
      "(-9.0, -98.0, -6.0)\n",
      "found a nearby point\n",
      "(-5.0, -92.0, -4.0)\n",
      "3406\n"
     ]
    }
   ],
   "source": [
    "#estimating term weights of unknown location\n",
    "\n",
    "def termVectorOfUnknownPoint(coord,maxDist):   \n",
    "    '''Estimates the terms of an unknown point by drawing from known points around it using a sphere of radius maxDist'''\n",
    "    if isLocation(coord) == True:\n",
    "        return CoordtoTerms(coord)\n",
    "    else:\n",
    "        ind_sphere = sphere(coord,maxDist);\n",
    "        weight_vect = assignWeights(ind_sphere);\n",
    "        termVect = [];\n",
    "        for layer in xrange(len(ind_sphere)):\n",
    "            for c in ind_sphere[layer]:\n",
    "                #print c\n",
    "                if isLocation(c) == True:\n",
    "                    print 'found a nearby point'\n",
    "                    print c\n",
    "                    if ~np.isnan(np.sum(CoordtoTerms(c))):\n",
    "                        temp = CoordtoTerms(c);\n",
    "                        termVect.append([t*weight_vect[0,layer] for t in temp])\n",
    "                        print weight_vect[0,layer]\n",
    "        \n",
    "        if len(termVect)>1:\n",
    "            #Need a better way to normalize\n",
    "            termVect = np.sum(termVect,0);\n",
    "            \n",
    "        return termVect\n",
    "    \n",
    "#print termVectorOfUnknownPoint((-2.0, -34.0, -46.0),10)\n",
    "tV = termVectorOfUnknownPoint((-2.0, -98.0, -6.0),8);\n",
    "print len(tV)"
   ]
  },
  {
   "cell_type": "code",
   "execution_count": 38,
   "metadata": {
    "collapsed": false
   },
   "outputs": [
    {
     "name": "stdout",
     "output_type": "stream",
     "text": [
      "[ 0.  0.  0. ...,  0.  0.  0.]\n"
     ]
    }
   ],
   "source": [
    "print sum(tV,0)"
   ]
  },
  {
   "cell_type": "code",
   "execution_count": 151,
   "metadata": {
    "collapsed": false
   },
   "outputs": [
    {
     "name": "stdout",
     "output_type": "stream",
     "text": [
      "-2.0\n",
      "-98.0\n",
      "-8.0\n"
     ]
    }
   ],
   "source": [
    "print x_vals[0]\n",
    "print y_vals[0]\n",
    "print z_vals[0]"
   ]
  },
  {
   "cell_type": "code",
   "execution_count": 10,
   "metadata": {
    "collapsed": true
   },
   "outputs": [],
   "source": [
    "#ns.network.coactivation(dataset, [[0, 20, 28]], threshold=0.1, output_dir='seed_test', prefix='acc_seed')"
   ]
  },
  {
   "cell_type": "code",
   "execution_count": null,
   "metadata": {
    "collapsed": false,
    "scrolled": true
   },
   "outputs": [],
   "source": [
    "\n",
    "    "
   ]
  },
  {
   "cell_type": "code",
   "execution_count": 16,
   "metadata": {
    "collapsed": false
   },
   "outputs": [
    {
     "name": "stdout",
     "output_type": "stream",
     "text": [
      "True\n"
     ]
    }
   ],
   "source": []
  },
  {
   "cell_type": "code",
   "execution_count": 15,
   "metadata": {
    "collapsed": false
   },
   "outputs": [
    {
     "data": {
      "text/plain": [
       "-34.0"
      ]
     },
     "execution_count": 15,
     "metadata": {},
     "output_type": "execute_result"
    }
   ],
   "source": []
  },
  {
   "cell_type": "code",
   "execution_count": null,
   "metadata": {
    "collapsed": true
   },
   "outputs": [],
   "source": []
  }
 ],
 "metadata": {
  "kernelspec": {
   "display_name": "Python 2",
   "language": "python",
   "name": "python2"
  },
  "language_info": {
   "codemirror_mode": {
    "name": "ipython",
    "version": 2
   },
   "file_extension": ".py",
   "mimetype": "text/x-python",
   "name": "python",
   "nbconvert_exporter": "python",
   "pygments_lexer": "ipython2",
   "version": "2.7.10"
  }
 },
 "nbformat": 4,
 "nbformat_minor": 0
}
