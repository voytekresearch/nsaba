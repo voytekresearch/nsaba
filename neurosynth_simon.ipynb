{
 "cells": [
  {
   "cell_type": "code",
   "execution_count": 1,
   "metadata": {
    "collapsed": true
   },
   "outputs": [],
   "source": [
    "import nibabel\n",
    "from nilearn import plotting\n",
    "import os\n",
    "import numpy as np\n",
    "import pandas as pd\n",
    "import scipy as sp\n",
    "import random as rn"
   ]
  },
  {
   "cell_type": "code",
   "execution_count": 2,
   "metadata": {
    "collapsed": true
   },
   "outputs": [],
   "source": [
    "os.chdir('C:\\Users\\John\\Documents\\Code\\\\Python\\\\nsaba\\\\data_dir')"
   ]
  },
  {
   "cell_type": "code",
   "execution_count": 3,
   "metadata": {
    "collapsed": true
   },
   "outputs": [],
   "source": [
    "db_table = pd.read_table('database.txt')\n",
    "feat_table = pd.read_table('features.txt')\n",
    "expres_aba = pd.read_csv('MicroArrayExpression.csv')\n",
    "annot_aba = pd.read_csv('SampleAnnot.csv')\n",
    "probes_aba = pd.read_csv('Probes.csv')"
   ]
  },
  {
   "cell_type": "code",
   "execution_count": 4,
   "metadata": {
    "collapsed": false
   },
   "outputs": [
    {
     "name": "stdout",
     "output_type": "stream",
     "text": [
      "(10903, 3407)\n",
      "(386455, 13)\n"
     ]
    }
   ],
   "source": [
    "print feat_table.shape\n",
    "print db_table.shape"
   ]
  },
  {
   "cell_type": "code",
   "execution_count": 526,
   "metadata": {
    "collapsed": false
   },
   "outputs": [
    {
     "data": {
      "text/plain": [
       "array([[-10.1,   5.9,  -8.4],\n",
       "       [  8.9,   8.5,  -7.4],\n",
       "       [  7.9,   0.8,  -6.7],\n",
       "       ..., \n",
       "       [ 26. , -15.4,  -8.8],\n",
       "       [ 27.2, -15.4,  -8.8],\n",
       "       [ 26. , -15.4,  -9.9]])"
      ]
     },
     "execution_count": 526,
     "metadata": {},
     "output_type": "execute_result"
    }
   ],
   "source": [
    "mni_coords"
   ]
  },
  {
   "cell_type": "code",
   "execution_count": 5,
   "metadata": {
    "collapsed": false
   },
   "outputs": [
    {
     "name": "stdout",
     "output_type": "stream",
     "text": [
      "[[ 13.4   2.2   0.2]\n",
      " [  1.    3.3   4.8]\n",
      " [  2.1   4.5   7.1]\n",
      " [  3.2   8.7   3.2]]\n"
     ]
    }
   ],
   "source": [
    "#KDTree for efficient MNI Coordinate Extraction\n",
    "mni_coords = annot_aba.as_matrix()[1:, 10:].astype(float)\n",
    "coord_tree = sp.spatial.KDTree(mni_coords)\n",
    "\n",
    "pts = [rn.uniform(-10,10), rn.uniform(-10,10), rn.uniform(-10,10)]\n",
    "i = coord_tree.query_ball_point(pts,8.0)\n",
    "print coord_tree.data[i]"
   ]
  },
  {
   "cell_type": "code",
   "execution_count": 6,
   "metadata": {
    "collapsed": true
   },
   "outputs": [],
   "source": [
    "# Get only MNI Coordinates\n",
    "dbmni = db_table[db_table.space == 'MNI']"
   ]
  },
  {
   "cell_type": "code",
   "execution_count": 7,
   "metadata": {
    "collapsed": false
   },
   "outputs": [
    {
     "data": {
      "text/plain": [
       "array([[-29.2,   5.8,  -2.6],\n",
       "       [-10.1,   5.9,  -8.4],\n",
       "       [  8.9,   8.5,  -7.4],\n",
       "       ..., \n",
       "       [ 26. , -15.4,  -8.8],\n",
       "       [ 27.2, -15.4,  -8.8],\n",
       "       [ 26. , -15.4,  -9.9]])"
      ]
     },
     "execution_count": 7,
     "metadata": {},
     "output_type": "execute_result"
    }
   ],
   "source": [
    "annot_aba.loc[:,'mni_x':'mni_z'].as_matrix()"
   ]
  },
  {
   "cell_type": "code",
   "execution_count": 8,
   "metadata": {
    "collapsed": true
   },
   "outputs": [],
   "source": [
    "db_table = db_table.loc[db_table.space == 'MNI', ['id','x','y','z']]"
   ]
  },
  {
   "cell_type": "code",
   "execution_count": 9,
   "metadata": {
    "collapsed": false
   },
   "outputs": [
    {
     "data": {
      "text/html": [
       "<div style=\"max-height:1000px;max-width:1500px;overflow:auto;\">\n",
       "<table border=\"1\" class=\"dataframe\">\n",
       "  <thead>\n",
       "    <tr style=\"text-align: right;\">\n",
       "      <th></th>\n",
       "      <th>pmid</th>\n",
       "      <th>accounted</th>\n",
       "      <th>anterior</th>\n",
       "      <th>anterior temporal</th>\n",
       "      <th>bilaterally</th>\n",
       "      <th>blood</th>\n",
       "      <th>blood flow</th>\n",
       "      <th>central</th>\n",
       "      <th>cerebral</th>\n",
       "      <th>cerebral blood</th>\n",
       "      <th>...</th>\n",
       "      <th>stimulation</th>\n",
       "      <th>structures</th>\n",
       "      <th>suggest</th>\n",
       "      <th>temporal</th>\n",
       "      <th>temporal lobe</th>\n",
       "      <th>thresholds</th>\n",
       "      <th>tomography</th>\n",
       "      <th>treatment</th>\n",
       "      <th>using</th>\n",
       "      <th>water</th>\n",
       "    </tr>\n",
       "  </thead>\n",
       "  <tbody>\n",
       "    <tr>\n",
       "      <th>2</th>\n",
       "      <td> 9185551</td>\n",
       "      <td> 0.126286</td>\n",
       "      <td> 0.04888</td>\n",
       "      <td> 0.112669</td>\n",
       "      <td> 0.083018</td>\n",
       "      <td> 0.077009</td>\n",
       "      <td> 0.111414</td>\n",
       "      <td> 0.081773</td>\n",
       "      <td> 0.152437</td>\n",
       "      <td> 0.113549</td>\n",
       "      <td>...</td>\n",
       "      <td> 0.079183</td>\n",
       "      <td> 0.0764</td>\n",
       "      <td> 0.046337</td>\n",
       "      <td> 0.179396</td>\n",
       "      <td> 0.253363</td>\n",
       "      <td> 0.39559</td>\n",
       "      <td> 0.098813</td>\n",
       "      <td> 0.092124</td>\n",
       "      <td> 0.040626</td>\n",
       "      <td> 0.131512</td>\n",
       "    </tr>\n",
       "  </tbody>\n",
       "</table>\n",
       "<p>1 rows × 63 columns</p>\n",
       "</div>"
      ],
      "text/plain": [
       "      pmid  accounted  anterior  anterior temporal  bilaterally     blood  \\\n",
       "2  9185551   0.126286   0.04888           0.112669     0.083018  0.077009   \n",
       "\n",
       "   blood flow   central  cerebral  cerebral blood       ...        \\\n",
       "2    0.111414  0.081773  0.152437        0.113549       ...         \n",
       "\n",
       "   stimulation  structures   suggest  temporal  temporal lobe  thresholds  \\\n",
       "2     0.079183      0.0764  0.046337  0.179396       0.253363     0.39559   \n",
       "\n",
       "   tomography  treatment     using     water  \n",
       "2    0.098813   0.092124  0.040626  0.131512  \n",
       "\n",
       "[1 rows x 63 columns]"
      ]
     },
     "execution_count": 9,
     "metadata": {},
     "output_type": "execute_result"
    }
   ],
   "source": [
    "# ID to terms\n",
    "ID = 9185551\n",
    "df = feat_table.loc[feat_table['pmid'] == ID, feat_table.loc[feat_table['pmid'] == ID].iloc[0] > 0]\n",
    "df"
   ]
  },
  {
   "cell_type": "code",
   "execution_count": 10,
   "metadata": {
    "collapsed": false
   },
   "outputs": [
    {
     "data": {
      "text/html": [
       "<div style=\"max-height:1000px;max-width:1500px;overflow:auto;\">\n",
       "<table border=\"1\" class=\"dataframe\">\n",
       "  <thead>\n",
       "    <tr style=\"text-align: right;\">\n",
       "      <th></th>\n",
       "      <th>pmid</th>\n",
       "      <th>attention</th>\n",
       "    </tr>\n",
       "  </thead>\n",
       "  <tbody>\n",
       "    <tr>\n",
       "      <th>7    </th>\n",
       "      <td>  9408106</td>\n",
       "      <td> 0.059474</td>\n",
       "    </tr>\n",
       "    <tr>\n",
       "      <th>20   </th>\n",
       "      <td>  9787003</td>\n",
       "      <td> 0.167045</td>\n",
       "    </tr>\n",
       "    <tr>\n",
       "      <th>21   </th>\n",
       "      <td>  9808463</td>\n",
       "      <td> 0.111859</td>\n",
       "    </tr>\n",
       "    <tr>\n",
       "      <th>23   </th>\n",
       "      <td>  9886448</td>\n",
       "      <td> 0.055644</td>\n",
       "    </tr>\n",
       "    <tr>\n",
       "      <th>39   </th>\n",
       "      <td> 10349031</td>\n",
       "      <td> 0.090629</td>\n",
       "    </tr>\n",
       "    <tr>\n",
       "      <th>43   </th>\n",
       "      <td> 10376114</td>\n",
       "      <td> 0.086412</td>\n",
       "    </tr>\n",
       "    <tr>\n",
       "      <th>60   </th>\n",
       "      <td> 10554989</td>\n",
       "      <td> 0.339903</td>\n",
       "    </tr>\n",
       "    <tr>\n",
       "      <th>77   </th>\n",
       "      <td> 10648440</td>\n",
       "      <td> 0.042161</td>\n",
       "    </tr>\n",
       "    <tr>\n",
       "      <th>89   </th>\n",
       "      <td> 10686176</td>\n",
       "      <td> 0.109010</td>\n",
       "    </tr>\n",
       "    <tr>\n",
       "      <th>91   </th>\n",
       "      <td> 10689056</td>\n",
       "      <td> 0.334503</td>\n",
       "    </tr>\n",
       "    <tr>\n",
       "      <th>92   </th>\n",
       "      <td> 10717412</td>\n",
       "      <td> 0.085585</td>\n",
       "    </tr>\n",
       "    <tr>\n",
       "      <th>97   </th>\n",
       "      <td> 10751455</td>\n",
       "      <td> 0.043872</td>\n",
       "    </tr>\n",
       "    <tr>\n",
       "      <th>108  </th>\n",
       "      <td> 10858628</td>\n",
       "      <td> 0.083504</td>\n",
       "    </tr>\n",
       "    <tr>\n",
       "      <th>110  </th>\n",
       "      <td> 10859136</td>\n",
       "      <td> 0.134538</td>\n",
       "    </tr>\n",
       "    <tr>\n",
       "      <th>111  </th>\n",
       "      <td> 10861020</td>\n",
       "      <td> 0.044623</td>\n",
       "    </tr>\n",
       "    <tr>\n",
       "      <th>119  </th>\n",
       "      <td> 10900023</td>\n",
       "      <td> 0.360326</td>\n",
       "    </tr>\n",
       "    <tr>\n",
       "      <th>121  </th>\n",
       "      <td> 10906317</td>\n",
       "      <td> 0.383311</td>\n",
       "    </tr>\n",
       "    <tr>\n",
       "      <th>123  </th>\n",
       "      <td> 10908192</td>\n",
       "      <td> 0.049751</td>\n",
       "    </tr>\n",
       "    <tr>\n",
       "      <th>126  </th>\n",
       "      <td> 10912590</td>\n",
       "      <td> 0.143739</td>\n",
       "    </tr>\n",
       "    <tr>\n",
       "      <th>137  </th>\n",
       "      <td> 11018487</td>\n",
       "      <td> 0.138712</td>\n",
       "    </tr>\n",
       "    <tr>\n",
       "      <th>140  </th>\n",
       "      <td> 11050027</td>\n",
       "      <td> 0.205198</td>\n",
       "    </tr>\n",
       "    <tr>\n",
       "      <th>148  </th>\n",
       "      <td> 11099442</td>\n",
       "      <td> 0.047400</td>\n",
       "    </tr>\n",
       "    <tr>\n",
       "      <th>154  </th>\n",
       "      <td> 11113037</td>\n",
       "      <td> 0.076640</td>\n",
       "    </tr>\n",
       "    <tr>\n",
       "      <th>157  </th>\n",
       "      <td> 11126640</td>\n",
       "      <td> 0.064695</td>\n",
       "    </tr>\n",
       "    <tr>\n",
       "      <th>187  </th>\n",
       "      <td> 11240114</td>\n",
       "      <td> 0.065971</td>\n",
       "    </tr>\n",
       "    <tr>\n",
       "      <th>191  </th>\n",
       "      <td> 11264319</td>\n",
       "      <td> 0.076035</td>\n",
       "    </tr>\n",
       "    <tr>\n",
       "      <th>204  </th>\n",
       "      <td> 11322985</td>\n",
       "      <td> 0.260363</td>\n",
       "    </tr>\n",
       "    <tr>\n",
       "      <th>213  </th>\n",
       "      <td> 11430815</td>\n",
       "      <td> 0.221877</td>\n",
       "    </tr>\n",
       "    <tr>\n",
       "      <th>214  </th>\n",
       "      <td> 11430841</td>\n",
       "      <td> 0.052545</td>\n",
       "    </tr>\n",
       "    <tr>\n",
       "      <th>215  </th>\n",
       "      <td> 11438601</td>\n",
       "      <td> 0.050729</td>\n",
       "    </tr>\n",
       "    <tr>\n",
       "      <th>...</th>\n",
       "      <td>...</td>\n",
       "      <td>...</td>\n",
       "    </tr>\n",
       "    <tr>\n",
       "      <th>10620</th>\n",
       "      <td> 25258246</td>\n",
       "      <td> 0.034005</td>\n",
       "    </tr>\n",
       "    <tr>\n",
       "      <th>10631</th>\n",
       "      <td> 25272154</td>\n",
       "      <td> 0.036920</td>\n",
       "    </tr>\n",
       "    <tr>\n",
       "      <th>10642</th>\n",
       "      <td> 25281800</td>\n",
       "      <td> 0.050922</td>\n",
       "    </tr>\n",
       "    <tr>\n",
       "      <th>10651</th>\n",
       "      <td> 25289490</td>\n",
       "      <td> 0.048031</td>\n",
       "    </tr>\n",
       "    <tr>\n",
       "      <th>10662</th>\n",
       "      <td> 25310815</td>\n",
       "      <td> 0.034303</td>\n",
       "    </tr>\n",
       "    <tr>\n",
       "      <th>10664</th>\n",
       "      <td> 25311282</td>\n",
       "      <td> 0.237685</td>\n",
       "    </tr>\n",
       "    <tr>\n",
       "      <th>10688</th>\n",
       "      <td> 25356830</td>\n",
       "      <td> 0.074376</td>\n",
       "    </tr>\n",
       "    <tr>\n",
       "      <th>10697</th>\n",
       "      <td> 25379437</td>\n",
       "      <td> 0.046479</td>\n",
       "    </tr>\n",
       "    <tr>\n",
       "      <th>10713</th>\n",
       "      <td> 25433424</td>\n",
       "      <td> 0.041295</td>\n",
       "    </tr>\n",
       "    <tr>\n",
       "      <th>10720</th>\n",
       "      <td> 25443178</td>\n",
       "      <td> 0.081968</td>\n",
       "    </tr>\n",
       "    <tr>\n",
       "      <th>10728</th>\n",
       "      <td> 25446966</td>\n",
       "      <td> 0.019978</td>\n",
       "    </tr>\n",
       "    <tr>\n",
       "      <th>10754</th>\n",
       "      <td> 25458571</td>\n",
       "      <td> 0.028776</td>\n",
       "    </tr>\n",
       "    <tr>\n",
       "      <th>10769</th>\n",
       "      <td> 25462688</td>\n",
       "      <td> 0.106313</td>\n",
       "    </tr>\n",
       "    <tr>\n",
       "      <th>10773</th>\n",
       "      <td> 25463140</td>\n",
       "      <td> 0.057683</td>\n",
       "    </tr>\n",
       "    <tr>\n",
       "      <th>10774</th>\n",
       "      <td> 25463450</td>\n",
       "      <td> 0.089923</td>\n",
       "    </tr>\n",
       "    <tr>\n",
       "      <th>10790</th>\n",
       "      <td> 25480358</td>\n",
       "      <td> 0.066317</td>\n",
       "    </tr>\n",
       "    <tr>\n",
       "      <th>10794</th>\n",
       "      <td> 25482265</td>\n",
       "      <td> 0.053748</td>\n",
       "    </tr>\n",
       "    <tr>\n",
       "      <th>10798</th>\n",
       "      <td> 25487911</td>\n",
       "      <td> 0.049141</td>\n",
       "    </tr>\n",
       "    <tr>\n",
       "      <th>10807</th>\n",
       "      <td> 25498391</td>\n",
       "      <td> 0.176713</td>\n",
       "    </tr>\n",
       "    <tr>\n",
       "      <th>10816</th>\n",
       "      <td> 25505309</td>\n",
       "      <td> 0.082626</td>\n",
       "    </tr>\n",
       "    <tr>\n",
       "      <th>10836</th>\n",
       "      <td> 25534111</td>\n",
       "      <td> 0.196797</td>\n",
       "    </tr>\n",
       "    <tr>\n",
       "      <th>10848</th>\n",
       "      <td> 25554429</td>\n",
       "      <td> 0.051477</td>\n",
       "    </tr>\n",
       "    <tr>\n",
       "      <th>10852</th>\n",
       "      <td> 25557401</td>\n",
       "      <td> 0.440833</td>\n",
       "    </tr>\n",
       "    <tr>\n",
       "      <th>10854</th>\n",
       "      <td> 25562175</td>\n",
       "      <td> 0.087249</td>\n",
       "    </tr>\n",
       "    <tr>\n",
       "      <th>10856</th>\n",
       "      <td> 25562826</td>\n",
       "      <td> 0.033271</td>\n",
       "    </tr>\n",
       "    <tr>\n",
       "      <th>10868</th>\n",
       "      <td> 25582407</td>\n",
       "      <td> 0.046654</td>\n",
       "    </tr>\n",
       "    <tr>\n",
       "      <th>10880</th>\n",
       "      <td> 25596444</td>\n",
       "      <td> 0.148209</td>\n",
       "    </tr>\n",
       "    <tr>\n",
       "      <th>10884</th>\n",
       "      <td> 25610763</td>\n",
       "      <td> 0.037302</td>\n",
       "    </tr>\n",
       "    <tr>\n",
       "      <th>10888</th>\n",
       "      <td> 25610783</td>\n",
       "      <td> 0.133153</td>\n",
       "    </tr>\n",
       "    <tr>\n",
       "      <th>10890</th>\n",
       "      <td> 25613405</td>\n",
       "      <td> 0.377714</td>\n",
       "    </tr>\n",
       "  </tbody>\n",
       "</table>\n",
       "<p>1340 rows × 2 columns</p>\n",
       "</div>"
      ],
      "text/plain": [
       "           pmid  attention\n",
       "7       9408106   0.059474\n",
       "20      9787003   0.167045\n",
       "21      9808463   0.111859\n",
       "23      9886448   0.055644\n",
       "39     10349031   0.090629\n",
       "43     10376114   0.086412\n",
       "60     10554989   0.339903\n",
       "77     10648440   0.042161\n",
       "89     10686176   0.109010\n",
       "91     10689056   0.334503\n",
       "92     10717412   0.085585\n",
       "97     10751455   0.043872\n",
       "108    10858628   0.083504\n",
       "110    10859136   0.134538\n",
       "111    10861020   0.044623\n",
       "119    10900023   0.360326\n",
       "121    10906317   0.383311\n",
       "123    10908192   0.049751\n",
       "126    10912590   0.143739\n",
       "137    11018487   0.138712\n",
       "140    11050027   0.205198\n",
       "148    11099442   0.047400\n",
       "154    11113037   0.076640\n",
       "157    11126640   0.064695\n",
       "187    11240114   0.065971\n",
       "191    11264319   0.076035\n",
       "204    11322985   0.260363\n",
       "213    11430815   0.221877\n",
       "214    11430841   0.052545\n",
       "215    11438601   0.050729\n",
       "...         ...        ...\n",
       "10620  25258246   0.034005\n",
       "10631  25272154   0.036920\n",
       "10642  25281800   0.050922\n",
       "10651  25289490   0.048031\n",
       "10662  25310815   0.034303\n",
       "10664  25311282   0.237685\n",
       "10688  25356830   0.074376\n",
       "10697  25379437   0.046479\n",
       "10713  25433424   0.041295\n",
       "10720  25443178   0.081968\n",
       "10728  25446966   0.019978\n",
       "10754  25458571   0.028776\n",
       "10769  25462688   0.106313\n",
       "10773  25463140   0.057683\n",
       "10774  25463450   0.089923\n",
       "10790  25480358   0.066317\n",
       "10794  25482265   0.053748\n",
       "10798  25487911   0.049141\n",
       "10807  25498391   0.176713\n",
       "10816  25505309   0.082626\n",
       "10836  25534111   0.196797\n",
       "10848  25554429   0.051477\n",
       "10852  25557401   0.440833\n",
       "10854  25562175   0.087249\n",
       "10856  25562826   0.033271\n",
       "10868  25582407   0.046654\n",
       "10880  25596444   0.148209\n",
       "10884  25610763   0.037302\n",
       "10888  25610783   0.133153\n",
       "10890  25613405   0.377714\n",
       "\n",
       "[1340 rows x 2 columns]"
      ]
     },
     "execution_count": 10,
     "metadata": {},
     "output_type": "execute_result"
    }
   ],
   "source": [
    "# Term to IDs\n",
    "\n",
    "term = 'attention'\n",
    "term_ids_act = feat_table.loc[feat_table[term] > 0, ['pmid', term]]\n",
    "term_ids = term_ids_act['pmid'].tolist()\n",
    "term_ids_act"
   ]
  },
  {
   "cell_type": "code",
   "execution_count": 12,
   "metadata": {
    "collapsed": true
   },
   "outputs": [],
   "source": [
    "# IDs to Coords\n",
    "term_coords = db_table.loc[db_table['id'].isin(term_ids)]\n",
    "tc = term_coords.loc[:,'x':'z'].as_matrix().astype(float)\n",
    "ns_coord_tree = sp.spatial.KDTree(tc)\n",
    "\n",
    "term_ids_act.rename(columns={'pmid':'id'}, inplace=True)\n",
    "df = term_coords.merge(term_ids_act)"
   ]
  },
  {
   "cell_type": "code",
   "execution_count": 32,
   "metadata": {
    "collapsed": false
   },
   "outputs": [
    {
     "name": "stdout",
     "output_type": "stream",
     "text": [
      "Wall time: 5 ms\n"
     ]
    }
   ],
   "source": [
    "# Getting activation based on Coordinate\n",
    "coords = [-241,-661,516]\n",
    "%time mean = np.mean(df[(df['x'] == coords[0]) & (df['y'] == coords[1]) & (df['z'] == coords[2])][term].mean())"
   ]
  },
  {
   "cell_type": "code",
   "execution_count": null,
   "metadata": {
    "collapsed": true
   },
   "outputs": [],
   "source": [
    "# Returns Sphere about point\n",
    "\n",
    "def sphere():\n",
    "    sphere_bucket = []\n",
    "    set_bucket = []\n",
    "    for i, r in enumerate(range(4,0,-1)):\n",
    "        pts = ns_coord_tree.query_ball_point([-2,6,3], r)\n",
    "        set_bucket.append(set(map(tuple, ns_coord_tree.data[pts])))\n",
    "   \n",
    "    for i in range(0,3):\n",
    "        sphere_bucket.append(list(set_bucket[i].difference(set_bucket[i+1])))\n",
    "    sphere_bucket.append(list(set_bucket[3]))\n",
    "    rev_iter = reversed(sphere_bucket)\n",
    "    \n",
    "    return np.array([layer for layer in rev_iter])\n",
    "\n",
    "def sphere()"
   ]
  },
  {
   "cell_type": "code",
   "execution_count": null,
   "metadata": {
    "collapsed": false
   },
   "outputs": [],
   "source": [
    "%time for i in range(800): sphere()"
   ]
  },
  {
   "cell_type": "code",
   "execution_count": null,
   "metadata": {
    "collapsed": true
   },
   "outputs": [],
   "source": []
  },
  {
   "cell_type": "code",
   "execution_count": null,
   "metadata": {
    "collapsed": true
   },
   "outputs": [],
   "source": []
  }
 ],
 "metadata": {
  "kernelspec": {
   "display_name": "Python 2",
   "language": "python",
   "name": "python2"
  },
  "language_info": {
   "codemirror_mode": {
    "name": "ipython",
    "version": 2
   },
   "file_extension": ".py",
   "mimetype": "text/x-python",
   "name": "python",
   "nbconvert_exporter": "python",
   "pygments_lexer": "ipython2",
   "version": "2.7.8"
  }
 },
 "nbformat": 4,
 "nbformat_minor": 0
}
