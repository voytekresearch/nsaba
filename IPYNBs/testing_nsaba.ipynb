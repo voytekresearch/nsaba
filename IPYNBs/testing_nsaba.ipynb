{
 "cells": [
  {
   "cell_type": "markdown",
   "metadata": {},
   "source": [
    "# Testing Nsaba Functionality\n",
    "\n",
    "##### Current Methods\n",
    "- get_aba_ge()\n",
    "- get_ns_act()\n",
    "- make_ge_ns_mat()\n",
    "- coords_to_ge()"
   ]
  },
  {
   "cell_type": "code",
   "execution_count": 3,
   "metadata": {
    "collapsed": false
   },
   "outputs": [
    {
     "name": "stdout",
     "output_type": "stream",
     "text": [
      "Populating the interactive namespace from numpy and matplotlib\n"
     ]
    }
   ],
   "source": [
    "%pylab inline\n",
    "from nsaba.nsaba import Nsaba\n",
    "import numpy as np\n",
    "import os\n",
    "import matplotlib.pyplot as plt\n",
    "import pandas as pd\n",
    "import itertools"
   ]
  },
  {
   "cell_type": "code",
   "execution_count": 1,
   "metadata": {
    "collapsed": true
   },
   "outputs": [],
   "source": [
    "%load_ext line_profiler"
   ]
  },
  {
   "cell_type": "code",
   "execution_count": 4,
   "metadata": {
    "collapsed": false
   },
   "outputs": [
    {
     "name": "stdout",
     "output_type": "stream",
     "text": [
      "This may take a minute or two ...\n",
      "SampleAnnot.csv loaded.\n",
      "MicroarrayExpression.csv loaded.\n",
      "Probes.csv loaded.\n",
      "Nsaba.aba['mni_coords'] initialized.\n",
      "database.txt loaded.\n",
      "features.txt loaded.\n",
      "Nsaba.ns['mni_coords'] initialized.\n"
     ]
    },
    {
     "data": {
      "text/plain": [
       "0"
      ]
     },
     "execution_count": 4,
     "metadata": {},
     "output_type": "execute_result"
    }
   ],
   "source": [
    "# Simon Path IO\n",
    "\n",
    "data_dir = 'C:\\Users\\\\John\\\\Documents\\\\Code\\\\Python\\\\nsaba\\\\data_dir'\n",
    "os.chdir(data_dir)\n",
    "Nsaba.aba_load()\n",
    "Nsaba.ns_load()"
   ]
  },
  {
   "cell_type": "code",
   "execution_count": 2,
   "metadata": {
    "collapsed": false
   },
   "outputs": [
    {
     "name": "stdout",
     "output_type": "stream",
     "text": [
      "This may take a minute or two ...\n",
      "SampleAnnot.csv loaded.\n",
      "MicroarrayExpression.csv loaded.\n",
      "Probes.csv loaded.\n",
      "Nsaba.aba['mni_coords'] initialized.\n",
      "database.txt loaded.\n",
      "features.txt loaded.\n",
      "Nsaba.ns['mni_coords'] initialized.\n"
     ]
    },
    {
     "data": {
      "text/plain": [
       "0"
      ]
     },
     "execution_count": 2,
     "metadata": {},
     "output_type": "execute_result"
    }
   ],
   "source": [
    "#Torben Path IO\n",
    "\n",
    "ns_path = \"/Users/Torben/Documents/ABI analysis/current_data_new/\"\n",
    "aba_path = '/Users/Torben/Documents/ABI analysis/normalized_microarray_donor9861/'\n",
    "#ns_path = '/Users/SP/Documents/'\n",
    "#aba_path = '/Users/SP/Documents/'\n",
    "\n",
    "Nsaba.aba_load(aba_path)\n",
    "Nsaba.ns_load(ns_path)"
   ]
  },
  {
   "cell_type": "code",
   "execution_count": 5,
   "metadata": {
    "collapsed": false
   },
   "outputs": [
    {
     "name": "stdout",
     "output_type": "stream",
     "text": [
      "'ge' dictionary successfully loaded\n",
      "Wall time: 1min 27s\n"
     ]
    }
   ],
   "source": [
    "# Loading gene expression for all ABA registered Entrez IDs.\n",
    "A = Nsaba()\n",
    "A.load_ge_pickle('Nsaba_ABA_ge.pkl')\n",
    "%time A.get_ns_act('attention',thresh = -1)"
   ]
  },
  {
   "cell_type": "code",
   "execution_count": null,
   "metadata": {
    "collapsed": true
   },
   "outputs": [],
   "source": []
  },
  {
   "cell_type": "markdown",
   "metadata": {},
   "source": [
    "### Coordinates to gene expression:\n",
    "\n",
    "Provide a list of coordinates and entrez_ids and the function will return matrix of coordinates by gene expression"
   ]
  },
  {
   "cell_type": "code",
   "execution_count": 20,
   "metadata": {
    "collapsed": false
   },
   "outputs": [
    {
     "data": {
      "text/plain": [
       "array([[  2.95252348,   6.03561137,   2.69794285],\n",
       "       [  3.52519708,   6.458542  ,   2.4030091 ],\n",
       "       [  2.84469617,   7.89788825,   3.99618469],\n",
       "       [  2.99453096,   7.1353023 ,   2.9386428 ],\n",
       "       [  3.4826444 ,   6.66018503,   2.58705114],\n",
       "       [  2.96720005,  10.3898135 ,   2.89236149],\n",
       "       [  2.90893164,   8.40273253,   3.87202044],\n",
       "       [  2.85349948,   9.2817149 ,   2.48898334],\n",
       "       [  3.73756151,   7.13741913,   2.47894927],\n",
       "       [  3.25248937,   6.85801368,   2.98475387],\n",
       "       [  3.14981697,   6.78971634,   2.66228961],\n",
       "       [  2.51228372,   7.47008172,   3.6751625 ],\n",
       "       [  3.54085305,   7.90193468,   4.38219196],\n",
       "       [  3.37034544,   7.0325413 ,   3.06462396],\n",
       "       [  3.27035588,   9.07505534,   3.67968551],\n",
       "       [  3.08111389,   6.55549416,   2.57867783],\n",
       "       [  2.89267203,   9.68816812,   2.50871988],\n",
       "       [  2.74803579,   9.39299141,   2.34289985],\n",
       "       [  3.0203406 ,   5.88909839,   2.77142903],\n",
       "       [  3.20993856,  10.41934352,   2.74933435]])"
      ]
     },
     "execution_count": 20,
     "metadata": {},
     "output_type": "execute_result"
    }
   ],
   "source": [
    "rand = lambda null: np.random.uniform(-10,10,3).tolist()\n",
    "coord_num = 20\n",
    "coords = [rand(0) for i in range(coord_num)]\n",
    "\n",
    "A.coords_to_ge(coords, entrez_ids=[733,88,33], search_radii=8)"
   ]
  },
  {
   "cell_type": "code",
   "execution_count": null,
   "metadata": {
    "collapsed": true
   },
   "outputs": [],
   "source": []
  },
  {
   "cell_type": "code",
   "execution_count": 22,
   "metadata": {
    "collapsed": false
   },
   "outputs": [
    {
     "data": {
      "text/plain": [
       "array([[  2.67576294,   3.55524357,   9.52009698,   0.4299227 ],\n",
       "       [  3.16345034,   3.09866393,   7.60823895,   0.42182709],\n",
       "       [  3.50634313,   2.99317391,   8.29352977,   0.36385783],\n",
       "       [  3.29699796,   2.78437501,   7.93032253,   0.36385783],\n",
       "       [  2.61963057,   3.77371768,   7.19261796,   0.36327587],\n",
       "       [  1.96681394,   3.65214963,   8.92154224,   0.36327587],\n",
       "       [  3.98321459,   3.4525211 ,   9.06477708,   0.37779626],\n",
       "       [  4.07375417,   3.40767968,   9.34995374,   0.44083295],\n",
       "       [  3.83224791,   3.23951905,   9.28899256,   0.41226568],\n",
       "       [  3.67989062,   3.30211262,   9.08570592,   0.42658221],\n",
       "       [  3.66007911,   3.96197038,   9.29246256,   0.43338531],\n",
       "       [  3.92544649,   3.41030426,   9.22098115,   0.41338453],\n",
       "       [  3.76139132,   2.82685937,   8.87648191,   0.37779626],\n",
       "       [  3.96556067,   3.24690584,   8.74796376,   0.41226568],\n",
       "       [  3.90611693,   3.61686791,   8.9889376 ,   0.43338531],\n",
       "       [  3.3004406 ,   2.90945454,   9.17818381,   0.41532646],\n",
       "       [  4.02726715,   3.41637531,   9.1600773 ,   0.43338531],\n",
       "       [  3.68193861,   3.03023005,   9.16452834,   0.41226568],\n",
       "       [  3.65347206,   1.62725428,   6.11276153,   0.41496127],\n",
       "       [  3.67134197,   1.95881324,   6.066726  ,   0.41226568],\n",
       "       [  3.82404922,   2.78576779,   8.98050026,   0.41596221],\n",
       "       [  3.40544289,   2.82228251,   8.78704586,   0.36766001],\n",
       "       [  4.06325231,   1.73954019,   5.96457926,   0.43338531],\n",
       "       [  3.51087524,   2.30976982,   6.21863294,   0.4684956 ],\n",
       "       [  3.6264953 ,   1.96305903,   6.87115875,   0.43338531],\n",
       "       [  3.36431072,   2.01232462,   5.63076025,   0.43338531],\n",
       "       [  3.7401637 ,   2.10302946,   6.00472859,   0.40869396],\n",
       "       [  3.67767927,   2.58960566,   6.28610722,   0.43338531],\n",
       "       [  4.22035799,   2.62575728,   6.01660943,   0.39414983],\n",
       "       [  3.43511018,   2.62684717,   8.9792864 ,   0.41304473],\n",
       "       [  3.76487673,   3.05493351,   8.92706535,   0.37508032],\n",
       "       [  2.97595779,   3.19231859,   8.89887614,   0.40682269],\n",
       "       [  3.40679979,   2.94202584,   8.78220588,   0.43338531],\n",
       "       [  2.84011781,   2.93867757,   8.93333321,   0.42883301],\n",
       "       [  3.54085305,   4.38219196,   7.90193468,   0.36327587],\n",
       "       [  3.94274689,   2.41089843,   8.84432498,   0.4034975 ],\n",
       "       [  3.06831594,   1.75848121,   9.95092151,   0.36761819],\n",
       "       [  3.23721346,   1.90480197,  10.12022032,   0.41226568],\n",
       "       [  3.47920265,   2.17291341,  10.00133068,   0.37779626],\n",
       "       [  2.24354853,   2.13659102,  10.17018296,   0.40682269],\n",
       "       [  3.55314575,   2.9461419 ,   8.89573147,   0.44083295],\n",
       "       [  2.96319549,   2.670502  ,   9.09697466,   0.41226568],\n",
       "       [  3.119562  ,   2.99248015,   9.19095047,   0.37211543],\n",
       "       [  3.81081089,   2.55673464,   9.25511899,   0.41226568],\n",
       "       [  4.08138856,   3.72167699,   8.86062391,   0.4684956 ],\n",
       "       [  3.92171939,   2.91965905,   8.90798038,   0.38550224],\n",
       "       [  4.12990772,   3.00462676,   8.41750789,   0.37211543],\n",
       "       [  4.17010142,   2.80902375,   9.1350328 ,   0.36385783],\n",
       "       [  4.34902987,   2.71618294,   9.13838302,   0.41226568],\n",
       "       [  3.84140223,   2.99588003,   8.81511733,   0.39271296],\n",
       "       [  4.02926   ,   1.81842546,   7.95281486,   0.40663916],\n",
       "       [  3.04924558,   2.38155614,   9.19583652,   0.40664493],\n",
       "       [  2.98741447,   2.58625937,   5.87258001,   0.43338531],\n",
       "       [  3.19226405,   2.34317188,   7.84667986,   0.43338531],\n",
       "       [  3.48286605,   1.93565619,   5.98641019,   0.40663916],\n",
       "       [  2.80679535,   2.9743798 ,   7.03066074,   0.39356642],\n",
       "       [  4.53137076,   2.47848656,   7.49785821,   0.35017288],\n",
       "       [  4.14257055,   2.68877399,   7.91603365,   0.44083295],\n",
       "       [  4.20171055,   3.87568123,   7.35331348,   0.37779626],\n",
       "       [  3.87404208,   3.22599915,   6.3646686 ,   0.41226568],\n",
       "       [  2.77664791,   2.76805677,   8.37676664,   0.41226568],\n",
       "       [  4.51185085,   3.97248746,   7.62788022,   0.39290379],\n",
       "       [  3.97514065,   2.91114853,   7.90510872,   0.40663916],\n",
       "       [  3.48278082,   4.02753046,   7.43578821,   0.39290379],\n",
       "       [  3.61174907,   3.62269971,   7.3095198 ,   0.39290379],\n",
       "       [  3.75006886,   4.29112633,   7.77408053,   0.39290379],\n",
       "       [  3.49183675,   2.71190748,   9.17412467,   0.41226568],\n",
       "       [  3.75891598,   3.11856892,   8.92849157,   0.4684956 ],\n",
       "       [  3.54922194,   3.10333529,   9.11003482,   0.40235566],\n",
       "       [  4.09343873,   2.48095364,   8.94607809,   0.36766001],\n",
       "       [  3.88162335,   3.65470144,   9.13651791,   0.37211543],\n",
       "       [  3.65171304,   2.41848972,   9.03361379,   0.37624193],\n",
       "       [  3.89335133,   2.00798138,   8.81004158,   0.40672517],\n",
       "       [  3.24039433,   3.26064565,   7.86314917,   0.36385783],\n",
       "       [  3.53542662,   2.74145562,   8.88929412,   0.35379799],\n",
       "       [  3.84342909,   3.16513265,   9.0468183 ,   0.42658221],\n",
       "       [  3.58476098,   3.62128228,   8.98534859,   0.40663916],\n",
       "       [  3.62973326,   2.82645362,   8.95388318,   0.36385783],\n",
       "       [  3.76416988,   3.45928651,   9.04767171,   0.44897463],\n",
       "       [  3.13049385,   3.26069675,   8.9263006 ,   0.37211543],\n",
       "       [  2.99255298,   3.41757628,   8.56764429,   0.41226568],\n",
       "       [  3.24430508,   2.85198422,   8.87796334,   0.37211543],\n",
       "       [  2.848666  ,   2.88557551,   8.90467021,   0.4299227 ],\n",
       "       [  4.04418771,   2.80037604,   8.8258605 ,   0.4298796 ],\n",
       "       [  3.90659998,   2.33336613,   8.32046178,   0.36385783],\n",
       "       [  3.76546603,   2.94197903,   9.18988505,   0.37779626],\n",
       "       [  4.12243814,   3.37524232,   8.97705741,   0.4684956 ],\n",
       "       [  3.93576795,   3.27041175,   8.82936896,   0.41345708],\n",
       "       [  3.8578399 ,   3.44469293,   9.05997485,   0.41226568],\n",
       "       [  4.25777812,   3.12898328,   8.88753242,   0.43338531],\n",
       "       [  3.85239733,   3.36134942,   8.97357698,   0.43338531],\n",
       "       [  4.05074518,   2.59420358,   8.95256225,   0.37211543],\n",
       "       [  3.47710735,   3.01391537,   9.03520788,   0.39271296],\n",
       "       [  3.32538568,   2.29632967,   9.15211488,   0.39271296],\n",
       "       [  2.07008737,   3.68433424,   5.15802026,   0.43338531],\n",
       "       [  3.20686834,   2.41338639,   7.21029078,   0.39290379],\n",
       "       [  3.31778175,   1.86398725,   5.96711231,   0.40663916],\n",
       "       [  4.2457571 ,   2.39425665,   7.49219757,   0.40663916],\n",
       "       [  2.6534337 ,   2.23061244,   5.4433759 ,   0.40663916],\n",
       "       [  3.94496425,   2.23760109,   7.16891321,   0.40663916],\n",
       "       [  3.54581703,   1.85700629,   6.41990923,   0.40663916],\n",
       "       [  4.2571185 ,   2.77713643,   7.64826655,   0.41226568],\n",
       "       [  3.76778046,   2.09304706,   8.94878061,   0.43338531],\n",
       "       [  3.35324003,   3.61062225,   8.98294016,   0.37211543],\n",
       "       [  3.4286742 ,   3.38824158,   8.9059049 ,   0.37211543],\n",
       "       [  2.6856449 ,   3.44467131,   8.95684385,   0.37211543],\n",
       "       [  3.5251805 ,   2.71808335,   8.96722456,   0.40034893],\n",
       "       [  3.3451583 ,   3.34420898,   8.8320125 ,   0.41410084],\n",
       "       [  3.44628804,   2.59239999,   8.57422921,   0.41694453],\n",
       "       [  3.30271159,   2.05510141,   8.55268995,   0.37211543],\n",
       "       [  3.43259348,   2.53739555,   8.88684416,   0.40277276],\n",
       "       [  3.91719982,   3.26449223,   8.79160029,   0.37511809],\n",
       "       [  3.35863718,   2.71378464,   9.19916766,   0.4684956 ],\n",
       "       [  3.55484694,   2.81397323,   9.06603727,   0.41226568],\n",
       "       [  3.35451978,   2.91718397,   9.27189905,   0.39290379],\n",
       "       [  3.66604077,   3.3644194 ,   9.06523039,   0.44083295],\n",
       "       [  4.18913049,   2.35498646,   6.11863507,   0.40663916],\n",
       "       [  3.64363166,   2.62507382,   8.70878429,   0.42474645],\n",
       "       [  3.68618448,   2.07303511,   8.67310949,   0.40783657],\n",
       "       [  3.97396446,   3.21910517,   7.56807351,   0.36385783],\n",
       "       [  4.07665949,   2.9704071 ,   8.11583656,   0.36385783],\n",
       "       [  4.50384709,   2.67362441,   7.20063891,   0.43338531],\n",
       "       [  2.76049111,   2.75949917,   5.74169581,   0.40682269],\n",
       "       [  3.65620882,   2.61857213,   7.40282202,   0.36385783],\n",
       "       [  3.77839228,   2.63289585,   7.94519592,   0.36385783]])"
      ]
     },
     "execution_count": 22,
     "metadata": {},
     "output_type": "execute_result"
    }
   ],
   "source": [
    "A.get_ns_act(\"attention\", thresh=.35, method='knn')\n",
    "\n",
    "# You can use the sphere method too, if you want to weight by bucket. \n",
    "# e.g:\n",
    "# A.get_ns_act(\"attention\", thresh=.3, method='sphere')\n",
    "\n",
    "A.make_ge_ns_mat('attention', [733, 33, 88])"
   ]
  },
  {
   "cell_type": "code",
   "execution_count": 21,
   "metadata": {
    "collapsed": false
   },
   "outputs": [
    {
     "name": "stdout",
     "output_type": "stream",
     "text": [
      "Either term['spatial'] or one or more Entrez ID keys does not exist; please check arguments\n"
     ]
    }
   ],
   "source": [
    "A.make_ge_ns_mat('spatial', [733, 33, 88])"
   ]
  },
  {
   "cell_type": "code",
   "execution_count": null,
   "metadata": {
    "collapsed": true
   },
   "outputs": [],
   "source": []
  },
  {
   "cell_type": "markdown",
   "metadata": {},
   "source": [
    "## Visualization Methods (testing)"
   ]
  },
  {
   "cell_type": "code",
   "execution_count": 7,
   "metadata": {
    "collapsed": false
   },
   "outputs": [
    {
     "name": "stdout",
     "output_type": "stream",
     "text": [
      "[  9.  45. -18.]\n",
      "[-26. -50.  -4.]\n",
      "[ 52.  15.  24.]\n",
      "[-54.  16.  18.]\n",
      "[-12.   9.  66.]\n",
      "[-42. -66.  -5.]\n",
      "[ 39.  -9.  27.]\n",
      "[-36.  -8. -10.]\n",
      "[ 33. -75.  -3.]\n",
      "[-52.   4. -34.]\n",
      "[ 41.  36.  23.]\n",
      "[-54.  15.  12.]\n",
      "[-66. -14.   8.]\n",
      "[  8.  -7.  21.]\n",
      "[-62. -18.  -4.]\n",
      "[ 10.  54.  20.]\n",
      "[-55.2  -2.   31. ]\n",
      "[ 70.   0.  24.]\n",
      "[ 12.  16.  34.]\n",
      "[ 28.  -4.   8.]\n",
      "[-16. -10. -15.]\n",
      "[ 57.  30.   0.]\n",
      "[-26.  16.   2.]\n",
      "[ 14. -68.   3.]\n",
      "[ 55.   4.  13.]\n",
      "[-42.  -8.  14.]\n",
      "[ 22. -84.  -4.]\n",
      "[ 28. -13.  -8.]\n",
      "[ 56.   8.  34.]\n",
      "[-8.  2.  4.]\n",
      "[ 14. -12.  54.]\n",
      "[  6. -51.  51.]\n",
      "[-49.  22.  22.]\n",
      "[ 32. -33.  -8.]\n",
      "[ 31.  25.  -5.]\n",
      "[ 51.  15.  12.]\n",
      "[ 27.   8.  55.]\n",
      "[-30. -60.  52.]\n",
      "[ 44.  20.   7.]\n",
      "[ 24. -12.   2.]\n",
      "[  8.  16.  28.]\n",
      "[ -4.  24.  62.]\n",
      "[-45. -57.  27.]\n",
      "[ 33.  29.  43.]\n",
      "[-30. -81. -36.]\n",
      "[ 45.  11.  -7.]\n",
      "[ 22.  12.  -2.]\n",
      "[ 34. -48.  58.]\n",
      "[-34.  56.   6.]\n",
      "[-20. -60.   8.]\n",
      "[-50. -16.  50.]\n",
      "[  0.  21.  44.]\n",
      "[-46. -68.   2.]\n",
      "[-43. -39.  30.]\n",
      "[-38. -56.  54.]\n",
      "[ 58. -16.  10.]\n",
      "[ -9. -15.   9.]\n",
      "[ -4. -76. -12.]\n",
      "[  0.  22.  52.]\n",
      "[ 27.   3.  18.]\n",
      "[ 28. -18.  23.]\n",
      "[  0.  -9.  45.]\n",
      "[-16. -37.  -1.]\n",
      "[-44.  -5.  56.]\n",
      "[-24. -38. -12.]\n",
      "[-15. -30.   3.]\n",
      "[ 32.  20. -16.]\n",
      "[-35. -45. -48.]\n"
     ]
    },
    {
     "ename": "KeyboardInterrupt",
     "evalue": "",
     "output_type": "error",
     "traceback": [
      "\u001b[0;31m---------------------------------------------------------------------------\u001b[0m",
      "\u001b[0;31mKeyboardInterrupt\u001b[0m                         Traceback (most recent call last)",
      "\u001b[0;32m<ipython-input-7-9df70233d41f>\u001b[0m in \u001b[0;36m<module>\u001b[0;34m()\u001b[0m\n\u001b[1;32m     31\u001b[0m         \u001b[0;32mreturn\u001b[0m \u001b[0mfig\u001b[0m\u001b[0;34m\u001b[0m\u001b[0m\n\u001b[1;32m     32\u001b[0m \u001b[0;34m\u001b[0m\u001b[0m\n\u001b[0;32m---> 33\u001b[0;31m \u001b[0mvisualize_ns\u001b[0m\u001b[0;34m(\u001b[0m\u001b[0;34m'attention'\u001b[0m\u001b[0;34m)\u001b[0m\u001b[0;34m\u001b[0m\u001b[0m\n\u001b[0m",
      "\u001b[0;32m<ipython-input-7-9df70233d41f>\u001b[0m in \u001b[0;36mvisualize_ns\u001b[0;34m(term, points)\u001b[0m\n\u001b[1;32m     10\u001b[0m             \u001b[0minds_of_real_points_with_no_fucking_missing_study_ids\u001b[0m \u001b[0;34m=\u001b[0m \u001b[0;34m[\u001b[0m\u001b[0;34m]\u001b[0m\u001b[0;34m\u001b[0m\u001b[0m\n\u001b[1;32m     11\u001b[0m             \u001b[0;32mfor\u001b[0m \u001b[0mrand_point\u001b[0m \u001b[0;32min\u001b[0m \u001b[0mrange\u001b[0m\u001b[0;34m(\u001b[0m\u001b[0mlen\u001b[0m\u001b[0;34m(\u001b[0m\u001b[0mrand_points\u001b[0m\u001b[0;34m)\u001b[0m\u001b[0;34m)\u001b[0m\u001b[0;34m:\u001b[0m\u001b[0;34m\u001b[0m\u001b[0m\n\u001b[0;32m---> 12\u001b[0;31m                 \u001b[0;32mif\u001b[0m \u001b[0mlen\u001b[0m\u001b[0;34m(\u001b[0m\u001b[0mA\u001b[0m\u001b[0;34m.\u001b[0m\u001b[0mcoord_to_terms\u001b[0m\u001b[0;34m(\u001b[0m\u001b[0mrand_points\u001b[0m\u001b[0;34m[\u001b[0m\u001b[0mrand_point\u001b[0m\u001b[0;34m]\u001b[0m\u001b[0;34m.\u001b[0m\u001b[0mastype\u001b[0m\u001b[0;34m(\u001b[0m\u001b[0mlist\u001b[0m\u001b[0;34m)\u001b[0m\u001b[0;34m)\u001b[0m\u001b[0;34m)\u001b[0m \u001b[0;34m>\u001b[0m \u001b[0;36m0\u001b[0m\u001b[0;34m:\u001b[0m\u001b[0;34m\u001b[0m\u001b[0m\n\u001b[0m\u001b[1;32m     13\u001b[0m                     \u001b[0minds_of_real_points_with_no_fucking_missing_study_ids\u001b[0m\u001b[0;34m.\u001b[0m\u001b[0mappend\u001b[0m\u001b[0;34m(\u001b[0m\u001b[0mrand_point_inds\u001b[0m\u001b[0;34m[\u001b[0m\u001b[0mrand_point\u001b[0m\u001b[0;34m]\u001b[0m\u001b[0;34m)\u001b[0m\u001b[0;34m\u001b[0m\u001b[0m\n\u001b[1;32m     14\u001b[0m                     \u001b[0mweights\u001b[0m\u001b[0;34m.\u001b[0m\u001b[0mappend\u001b[0m\u001b[0;34m(\u001b[0m\u001b[0mA\u001b[0m\u001b[0;34m.\u001b[0m\u001b[0mcoord_to_terms\u001b[0m\u001b[0;34m(\u001b[0m\u001b[0mrand_points\u001b[0m\u001b[0;34m[\u001b[0m\u001b[0mrand_point\u001b[0m\u001b[0;34m]\u001b[0m\u001b[0;34m.\u001b[0m\u001b[0mastype\u001b[0m\u001b[0;34m(\u001b[0m\u001b[0mlist\u001b[0m\u001b[0;34m)\u001b[0m\u001b[0;34m)\u001b[0m\u001b[0;34m[\u001b[0m\u001b[0mterm_index\u001b[0m\u001b[0;34m]\u001b[0m\u001b[0;34m)\u001b[0m\u001b[0;34m\u001b[0m\u001b[0m\n",
      "\u001b[0;32m/Users/Torben/Code/nsaba/nsaba.py\u001b[0m in \u001b[0;36mcoord_to_terms\u001b[0;34m(self, coord)\u001b[0m\n\u001b[1;32m    207\u001b[0m \u001b[0;34m\u001b[0m\u001b[0m\n\u001b[1;32m    208\u001b[0m     \u001b[0;32mdef\u001b[0m \u001b[0mcoord_to_terms\u001b[0m\u001b[0;34m(\u001b[0m\u001b[0mself\u001b[0m\u001b[0;34m,\u001b[0m \u001b[0mcoord\u001b[0m\u001b[0;34m)\u001b[0m\u001b[0;34m:\u001b[0m\u001b[0;34m\u001b[0m\u001b[0m\n\u001b[0;32m--> 209\u001b[0;31m         \u001b[0mids\u001b[0m \u001b[0;34m=\u001b[0m \u001b[0mself\u001b[0m\u001b[0;34m.\u001b[0m\u001b[0mcoord_to_ids\u001b[0m\u001b[0;34m(\u001b[0m\u001b[0mcoord\u001b[0m\u001b[0;34m)\u001b[0m\u001b[0;34m\u001b[0m\u001b[0m\n\u001b[0m\u001b[1;32m    210\u001b[0m         \u001b[0;32mif\u001b[0m \u001b[0mlen\u001b[0m\u001b[0;34m(\u001b[0m\u001b[0mids\u001b[0m\u001b[0;34m)\u001b[0m \u001b[0;34m==\u001b[0m \u001b[0;36m1\u001b[0m\u001b[0;34m:\u001b[0m\u001b[0;34m\u001b[0m\u001b[0m\n\u001b[1;32m    211\u001b[0m             \u001b[0;31m# one study\u001b[0m\u001b[0;34m\u001b[0m\u001b[0;34m\u001b[0m\u001b[0m\n",
      "\u001b[0;32m/Users/Torben/Code/nsaba/nsaba.py\u001b[0m in \u001b[0;36mcoord_to_ids\u001b[0;34m(self, coordinate)\u001b[0m\n\u001b[1;32m    189\u001b[0m         \u001b[0;32mfor\u001b[0m \u001b[0mi\u001b[0m\u001b[0;34m,\u001b[0m \u001b[0mcoords\u001b[0m \u001b[0;32min\u001b[0m \u001b[0mself\u001b[0m\u001b[0;34m.\u001b[0m\u001b[0mns\u001b[0m\u001b[0;34m[\u001b[0m\u001b[0;34m'id_dict'\u001b[0m\u001b[0;34m]\u001b[0m\u001b[0;34m.\u001b[0m\u001b[0mitems\u001b[0m\u001b[0;34m(\u001b[0m\u001b[0;34m)\u001b[0m\u001b[0;34m:\u001b[0m\u001b[0;34m\u001b[0m\u001b[0m\n\u001b[1;32m    190\u001b[0m             \u001b[0;32mfor\u001b[0m \u001b[0mthis_coordinate\u001b[0m \u001b[0;32min\u001b[0m \u001b[0mcoords\u001b[0m\u001b[0;34m:\u001b[0m\u001b[0;34m\u001b[0m\u001b[0m\n\u001b[0;32m--> 191\u001b[0;31m                 \u001b[0;32mif\u001b[0m \u001b[0mthis_coordinate\u001b[0m\u001b[0;34m[\u001b[0m\u001b[0;36m0\u001b[0m\u001b[0;34m]\u001b[0m \u001b[0;34m==\u001b[0m \u001b[0mcoordinate\u001b[0m\u001b[0;34m[\u001b[0m\u001b[0;36m0\u001b[0m\u001b[0;34m]\u001b[0m\u001b[0;34m:\u001b[0m\u001b[0;34m\u001b[0m\u001b[0m\n\u001b[0m\u001b[1;32m    192\u001b[0m                     \u001b[0;32mif\u001b[0m \u001b[0mthis_coordinate\u001b[0m\u001b[0;34m[\u001b[0m\u001b[0;36m1\u001b[0m\u001b[0;34m]\u001b[0m \u001b[0;34m==\u001b[0m \u001b[0mcoordinate\u001b[0m\u001b[0;34m[\u001b[0m\u001b[0;36m1\u001b[0m\u001b[0;34m]\u001b[0m\u001b[0;34m:\u001b[0m\u001b[0;34m\u001b[0m\u001b[0m\n\u001b[1;32m    193\u001b[0m                         \u001b[0;32mif\u001b[0m \u001b[0mthis_coordinate\u001b[0m\u001b[0;34m[\u001b[0m\u001b[0;36m2\u001b[0m\u001b[0;34m]\u001b[0m \u001b[0;34m==\u001b[0m \u001b[0mcoordinate\u001b[0m\u001b[0;34m[\u001b[0m\u001b[0;36m2\u001b[0m\u001b[0;34m]\u001b[0m\u001b[0;34m:\u001b[0m\u001b[0;34m\u001b[0m\u001b[0m\n",
      "\u001b[0;31mKeyboardInterrupt\u001b[0m: "
     ]
    }
   ],
   "source": [
    "def visualize_ns(term, points=200):\n",
    "        if term in A.term:\n",
    "            term_index = A.ns['features_df'].columns.get_loc(term)\n",
    "            import matplotlib.pyplot as plt\n",
    "            import matplotlib.cm as cm\n",
    "            from mpl_toolkits.mplot3d import Axes3D\n",
    "            rand_point_inds = np.random.random_integers(0, len(np.squeeze(zip(A.ns['mni_coords'].data))), points)\n",
    "            rand_points = np.squeeze(zip(A.ns['mni_coords'].data))[rand_point_inds]\n",
    "            weights = []\n",
    "            inds_of_real_points_with_no_fucking_missing_study_ids = []\n",
    "            for rand_point in range(len(rand_points)):\n",
    "                if len(A.coord_to_terms(rand_points[rand_point].astype(list))) > 0:\n",
    "                    print 'good point' + str(rand_points[rand_point])\n",
    "                    inds_of_real_points_with_no_fucking_missing_study_ids.append(rand_point_inds[rand_point])\n",
    "                    weights.append(A.coord_to_terms(rand_points[rand_point].astype(list))[term_index])\n",
    "                else:\n",
    "                    print 'bad point ' + str(rand_points[rand_point])\n",
    "            fig = plt.figure()\n",
    "            ax = fig.add_subplot(111, projection='3d')\n",
    "            colors = cm.jet(weights/max(weights))\n",
    "            color_map = cm.ScalarMappable(cmap=cm.jet)\n",
    "            color_map.set_array(weights)\n",
    "            fig.colorbar(color_map)\n",
    "            x = A.ns['mni_coords'].data[inds_of_real_points_with_no_fucking_missing_study_ids, 0]\n",
    "            y = A.ns['mni_coords'].data[inds_of_real_points_with_no_fucking_missing_study_ids, 1]\n",
    "            z = A.ns['mni_coords'].data[inds_of_real_points_with_no_fucking_missing_study_ids, 2]\n",
    "        else:\n",
    "            print 'Term '+term + ' has not been initialized. Use self.get_ns_act(' + term + ',thresh = 0.01)'\n",
    "        ax.scatter(x, y, z, c=colors, alpha=0.4)\n",
    "        ax.set_title('Estimation of ' + term)\n",
    "\n",
    "        return fig\n",
    "    \n",
    "visualize_ns('attention')"
   ]
  },
  {
   "cell_type": "code",
   "execution_count": null,
   "metadata": {
    "collapsed": true
   },
   "outputs": [],
   "source": []
  }
 ],
 "metadata": {
  "kernelspec": {
   "display_name": "Python 2",
   "language": "python",
   "name": "python2"
  },
  "language_info": {
   "codemirror_mode": {
    "name": "ipython",
    "version": 2
   },
   "file_extension": ".py",
   "mimetype": "text/x-python",
   "name": "python",
   "nbconvert_exporter": "python",
   "pygments_lexer": "ipython2",
   "version": "2.7.8"
  }
 },
 "nbformat": 4,
 "nbformat_minor": 0
}
