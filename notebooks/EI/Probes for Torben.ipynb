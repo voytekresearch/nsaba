{
 "cells": [
  {
   "cell_type": "code",
   "execution_count": 7,
   "metadata": {
    "collapsed": true
   },
   "outputs": [],
   "source": [
    "from nsaba.nsaba import Nsaba\n",
    "import os\n",
    "import numpy as np"
   ]
  },
  {
   "cell_type": "code",
   "execution_count": 2,
   "metadata": {
    "collapsed": false
   },
   "outputs": [
    {
     "name": "stdout",
     "output_type": "stream",
     "text": [
      "This may take a minute or two ...\n",
      "SampleAnnot.csv loaded.\n",
      "MicroarrayExpression.csv loaded.\n",
      "Probes.csv loaded.\n",
      "Nsaba.aba['mni_coords'] initialized.\n",
      "\n",
      "This may take a minute or two ...\n",
      "database.txt loaded.\n",
      "features.txt loaded.\n",
      "Nsaba.ns['mni_coords'] initialized.\n",
      "\n"
     ]
    }
   ],
   "source": [
    "# Simon Path IO\n",
    "\n",
    "data_dir = '../../data_dir'\n",
    "os.chdir(data_dir)\n",
    "Nsaba.aba_load()\n",
    "Nsaba.ns_load()"
   ]
  },
  {
   "cell_type": "code",
   "execution_count": 3,
   "metadata": {
    "collapsed": true
   },
   "outputs": [],
   "source": [
    "A = Nsaba()"
   ]
  },
  {
   "cell_type": "markdown",
   "metadata": {},
   "source": [
    "genes = [4204,\n",
    " 27067,\n",
    " 9698,\n",
    " 22839,\n",
    " 9456,\n",
    " 81858,\n",
    " 9378,\n",
    " 22871,\n",
    " 4205,\n",
    " 266743,\n",
    " 2332,\n",
    " 9456,\n",
    " 10243,\n",
    " 9378,\n",
    " 57555,\n",
    " 2562,\n",
    " 2890,\n",
    " 2891,\n",
    " 2892,\n",
    " 2893,\n",
    " 2560,\n",
    " 2561,\n",
    " 2562,\n",
    " 2563,\n",
    " 2564,\n",
    " 2565,\n",
    " 2566,\n",
    " 2567,\n",
    " 2568,\n",
    " 55879,\n",
    " 2569,\n",
    " 2570,\n",
    " 200959,\n",
    " 11337,\n",
    " 23710,\n",
    " 11345,\n",
    " 23766,\n",
    " 2554,\n",
    " 2555,\n",
    " 2556,\n",
    " 2557,\n",
    " 2558,\n",
    " 2559]"
   ]
  },
  {
   "cell_type": "markdown",
   "metadata": {},
   "source": [
    "Our genes of interest."
   ]
  },
  {
   "cell_type": "code",
   "execution_count": 17,
   "metadata": {
    "collapsed": false
   },
   "outputs": [],
   "source": [
    "coords = [(np.random.uniform(-50,50), np.random.uniform(-50,50), np.random.uniform(-50,50)) for _ in range(50)]\n",
    "A.estimate_aba_ge(genes, coords=coords, radius=10)"
   ]
  },
  {
   "cell_type": "markdown",
   "metadata": {},
   "source": [
    "Coords here are randomly generated; use Richards."
   ]
  },
  {
   "cell_type": "code",
   "execution_count": 18,
   "metadata": {
    "collapsed": false
   },
   "outputs": [
    {
     "data": {
      "text/plain": [
       "[1056616, 'mean', 'coord_type', 1056614, 1056615]"
      ]
     },
     "execution_count": 18,
     "metadata": {},
     "output_type": "execute_result"
    }
   ],
   "source": [
    "# Using Entrez 2559\n",
    "A.ge[2559].keys()"
   ]
  },
  {
   "cell_type": "code",
   "execution_count": 19,
   "metadata": {
    "collapsed": false
   },
   "outputs": [
    {
     "data": {
      "text/plain": [
       "'Custom'"
      ]
     },
     "execution_count": 19,
     "metadata": {},
     "output_type": "execute_result"
    }
   ],
   "source": [
    "A.ge[2559]['coord_type']"
   ]
  },
  {
   "cell_type": "markdown",
   "metadata": {},
   "source": [
    "The number above correspond to probes numbers for entrez 2559. mean contains our old act method: averaging probe expression."
   ]
  },
  {
   "cell_type": "code",
   "execution_count": 21,
   "metadata": {
    "collapsed": false
   },
   "outputs": [
    {
     "data": {
      "text/plain": [
       "array([        nan,         nan,         nan,         nan,         nan,\n",
       "               nan,  2.87356544,         nan,         nan,         nan,\n",
       "        2.38588122,         nan,         nan,         nan,         nan,\n",
       "               nan,         nan,         nan,  2.67828054,         nan,\n",
       "               nan,  2.42661694,         nan,  2.77515231,         nan])"
      ]
     },
     "execution_count": 21,
     "metadata": {},
     "output_type": "execute_result"
    }
   ],
   "source": [
    "A.ge[2559][1056616][\"GE\"][:25]"
   ]
  },
  {
   "cell_type": "markdown",
   "metadata": {},
   "source": [
    "Using the \"GE\" key you can access the gene expression estimated for that probe. Here I just pick the first 25 coeffs. You're smart Torben; use this info (key-values) to make the matrix."
   ]
  },
  {
   "cell_type": "code",
   "execution_count": null,
   "metadata": {
    "collapsed": true
   },
   "outputs": [],
   "source": []
  }
 ],
 "metadata": {
  "kernelspec": {
   "display_name": "Python 2",
   "language": "python",
   "name": "python2"
  },
  "language_info": {
   "codemirror_mode": {
    "name": "ipython",
    "version": 2
   },
   "file_extension": ".py",
   "mimetype": "text/x-python",
   "name": "python",
   "nbconvert_exporter": "python",
   "pygments_lexer": "ipython2",
   "version": "2.7.11"
  }
 },
 "nbformat": 4,
 "nbformat_minor": 0
}
