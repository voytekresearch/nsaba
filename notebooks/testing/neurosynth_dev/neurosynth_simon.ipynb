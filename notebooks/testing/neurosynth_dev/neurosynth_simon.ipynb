{
 "cells": [
  {
   "cell_type": "code",
   "execution_count": 12,
   "metadata": {
    "collapsed": true
   },
   "outputs": [],
   "source": [
    "import os\n",
    "import numpy as np\n",
    "import pandas as pd\n",
    "import scipy.spatial as sp\n",
    "import random as rn"
   ]
  },
  {
   "cell_type": "code",
   "execution_count": 2,
   "metadata": {
    "collapsed": true
   },
   "outputs": [],
   "source": [
    "os.chdir('C:\\Users\\John\\Documents\\Code\\\\Python\\\\nsaba\\\\data_dir')"
   ]
  },
  {
   "cell_type": "code",
   "execution_count": 3,
   "metadata": {
    "collapsed": true
   },
   "outputs": [],
   "source": [
    "# Loading up DataFrames\n",
    "\n",
    "db_table = pd.read_table('database.txt')\n",
    "feat_table = pd.read_table('features.txt')\n",
    "expres_aba = pd.read_csv('MicroArrayExpression.csv')\n",
    "annot_aba = pd.read_csv('SampleAnnot.csv')\n",
    "probes_aba = pd.read_csv('Probes.csv')"
   ]
  },
  {
   "cell_type": "code",
   "execution_count": 4,
   "metadata": {
    "collapsed": false
   },
   "outputs": [
    {
     "data": {
      "text/plain": [
       "array([      733,       735,       740, ...,    402778,    404266,\n",
       "       100329135])"
      ]
     },
     "execution_count": 4,
     "metadata": {},
     "output_type": "execute_result"
    }
   ],
   "source": [
    "probes_aba['entrez_id'].unique().astype(int)"
   ]
  },
  {
   "cell_type": "code",
   "execution_count": 5,
   "metadata": {
    "collapsed": false
   },
   "outputs": [
    {
     "data": {
      "text/plain": [
       "array([      733,       735,       740, ...,    402778,    404266,\n",
       "       100329135])"
      ]
     },
     "execution_count": 5,
     "metadata": {},
     "output_type": "execute_result"
    }
   ],
   "source": [
    "# Generating np.array of all Entrez IDs\n",
    "probes_aba['entrez_id'][probes_aba['entrez_id'].notnull()].unique().astype(int)"
   ]
  },
  {
   "cell_type": "code",
   "execution_count": 10,
   "metadata": {
    "collapsed": false
   },
   "outputs": [
    {
     "name": "stdout",
     "output_type": "stream",
     "text": [
      "(10903, 3407)\n",
      "(386455, 13)\n"
     ]
    }
   ],
   "source": [
    "# Checking koscherness\n",
    "print feat_table.shape\n",
    "print db_table.shape"
   ]
  },
  {
   "cell_type": "code",
   "execution_count": 13,
   "metadata": {
    "collapsed": false
   },
   "outputs": [
    {
     "name": "stdout",
     "output_type": "stream",
     "text": [
      "[[  6.1  27.2  32.2]\n",
      " [  5.1  27.1  28.6]\n",
      " [ 21.8  27.8  40.4]\n",
      " [ -8.3  17.2  33. ]]\n"
     ]
    }
   ],
   "source": [
    "#KDTree for efficient MNI Coordinate Extraction\n",
    "mni_coords = annot_aba.as_matrix()[1:, 10:].astype(float)\n",
    "coord_tree = sp.KDTree(mni_coords)\n",
    "\n",
    "pts = [10, 20, 30]\n",
    "r, i= coord_tree.query(pts,4.0)\n",
    "print coord_tree.data[i]"
   ]
  },
  {
   "cell_type": "code",
   "execution_count": 14,
   "metadata": {
    "collapsed": false
   },
   "outputs": [
    {
     "data": {
      "text/plain": [
       "<scipy.spatial.kdtree.KDTree at 0x3e426470>"
      ]
     },
     "execution_count": 14,
     "metadata": {},
     "output_type": "execute_result"
    }
   ],
   "source": [
    "coord_tree"
   ]
  },
  {
   "cell_type": "code",
   "execution_count": 15,
   "metadata": {
    "collapsed": true
   },
   "outputs": [],
   "source": [
    "# Get only MNI Coordinates\n",
    "dbmni = db_table[db_table.space == 'MNI']"
   ]
  },
  {
   "cell_type": "code",
   "execution_count": 16,
   "metadata": {
    "collapsed": false
   },
   "outputs": [
    {
     "data": {
      "text/plain": [
       "array([[-29.2,   5.8,  -2.6],\n",
       "       [-10.1,   5.9,  -8.4],\n",
       "       [  8.9,   8.5,  -7.4],\n",
       "       ..., \n",
       "       [ 26. , -15.4,  -8.8],\n",
       "       [ 27.2, -15.4,  -8.8],\n",
       "       [ 26. , -15.4,  -9.9]])"
      ]
     },
     "execution_count": 16,
     "metadata": {},
     "output_type": "execute_result"
    }
   ],
   "source": [
    "annot_aba.loc[:,'mni_x':'mni_z'].as_matrix()"
   ]
  },
  {
   "cell_type": "code",
   "execution_count": 17,
   "metadata": {
    "collapsed": true
   },
   "outputs": [],
   "source": [
    "# DataFrame to be actually saved in Nsaba\n",
    "db_table = db_table.loc[db_table.space == 'MNI', ['id','x','y','z']]"
   ]
  },
  {
   "cell_type": "code",
   "execution_count": 18,
   "metadata": {
    "collapsed": false
   },
   "outputs": [
    {
     "data": {
      "text/html": [
       "<div style=\"max-height:1000px;max-width:1500px;overflow:auto;\">\n",
       "<table border=\"1\" class=\"dataframe\">\n",
       "  <thead>\n",
       "    <tr style=\"text-align: right;\">\n",
       "      <th></th>\n",
       "      <th>pmid</th>\n",
       "      <th>accounted</th>\n",
       "      <th>anterior</th>\n",
       "      <th>anterior temporal</th>\n",
       "      <th>bilaterally</th>\n",
       "      <th>blood</th>\n",
       "      <th>blood flow</th>\n",
       "      <th>central</th>\n",
       "      <th>cerebral</th>\n",
       "      <th>cerebral blood</th>\n",
       "      <th>...</th>\n",
       "      <th>stimulation</th>\n",
       "      <th>structures</th>\n",
       "      <th>suggest</th>\n",
       "      <th>temporal</th>\n",
       "      <th>temporal lobe</th>\n",
       "      <th>thresholds</th>\n",
       "      <th>tomography</th>\n",
       "      <th>treatment</th>\n",
       "      <th>using</th>\n",
       "      <th>water</th>\n",
       "    </tr>\n",
       "  </thead>\n",
       "  <tbody>\n",
       "    <tr>\n",
       "      <th>2</th>\n",
       "      <td> 9185551</td>\n",
       "      <td> 0.126286</td>\n",
       "      <td> 0.04888</td>\n",
       "      <td> 0.112669</td>\n",
       "      <td> 0.083018</td>\n",
       "      <td> 0.077009</td>\n",
       "      <td> 0.111414</td>\n",
       "      <td> 0.081773</td>\n",
       "      <td> 0.152437</td>\n",
       "      <td> 0.113549</td>\n",
       "      <td>...</td>\n",
       "      <td> 0.079183</td>\n",
       "      <td> 0.0764</td>\n",
       "      <td> 0.046337</td>\n",
       "      <td> 0.179396</td>\n",
       "      <td> 0.253363</td>\n",
       "      <td> 0.39559</td>\n",
       "      <td> 0.098813</td>\n",
       "      <td> 0.092124</td>\n",
       "      <td> 0.040626</td>\n",
       "      <td> 0.131512</td>\n",
       "    </tr>\n",
       "  </tbody>\n",
       "</table>\n",
       "<p>1 rows × 63 columns</p>\n",
       "</div>"
      ],
      "text/plain": [
       "      pmid  accounted  anterior  anterior temporal  bilaterally     blood  \\\n",
       "2  9185551   0.126286   0.04888           0.112669     0.083018  0.077009   \n",
       "\n",
       "   blood flow   central  cerebral  cerebral blood       ...        \\\n",
       "2    0.111414  0.081773  0.152437        0.113549       ...         \n",
       "\n",
       "   stimulation  structures   suggest  temporal  temporal lobe  thresholds  \\\n",
       "2     0.079183      0.0764  0.046337  0.179396       0.253363     0.39559   \n",
       "\n",
       "   tomography  treatment     using     water  \n",
       "2    0.098813   0.092124  0.040626  0.131512  \n",
       "\n",
       "[1 rows x 63 columns]"
      ]
     },
     "execution_count": 18,
     "metadata": {},
     "output_type": "execute_result"
    }
   ],
   "source": [
    "# ID to terms\n",
    "ID = 9185551\n",
    "df = feat_table.loc[feat_table['pmid'] == ID, feat_table.loc[feat_table['pmid'] == ID].iloc[0] > 0]\n",
    "df"
   ]
  },
  {
   "cell_type": "code",
   "execution_count": 46,
   "metadata": {
    "collapsed": false
   },
   "outputs": [
    {
     "data": {
      "text/html": [
       "<div style=\"max-height:1000px;max-width:1500px;overflow:auto;\">\n",
       "<table border=\"1\" class=\"dataframe\">\n",
       "  <thead>\n",
       "    <tr style=\"text-align: right;\">\n",
       "      <th></th>\n",
       "      <th>pmid</th>\n",
       "      <th>attention</th>\n",
       "    </tr>\n",
       "  </thead>\n",
       "  <tbody>\n",
       "    <tr>\n",
       "      <th>0    </th>\n",
       "      <td>  9106283</td>\n",
       "      <td> 0.000000</td>\n",
       "    </tr>\n",
       "    <tr>\n",
       "      <th>1    </th>\n",
       "      <td>  9177231</td>\n",
       "      <td> 0.000000</td>\n",
       "    </tr>\n",
       "    <tr>\n",
       "      <th>2    </th>\n",
       "      <td>  9185551</td>\n",
       "      <td> 0.000000</td>\n",
       "    </tr>\n",
       "    <tr>\n",
       "      <th>3    </th>\n",
       "      <td>  9256495</td>\n",
       "      <td> 0.000000</td>\n",
       "    </tr>\n",
       "    <tr>\n",
       "      <th>4    </th>\n",
       "      <td>  9288642</td>\n",
       "      <td> 0.000000</td>\n",
       "    </tr>\n",
       "    <tr>\n",
       "      <th>5    </th>\n",
       "      <td>  9395845</td>\n",
       "      <td> 0.000000</td>\n",
       "    </tr>\n",
       "    <tr>\n",
       "      <th>6    </th>\n",
       "      <td>  9405692</td>\n",
       "      <td> 0.000000</td>\n",
       "    </tr>\n",
       "    <tr>\n",
       "      <th>7    </th>\n",
       "      <td>  9408106</td>\n",
       "      <td> 0.059474</td>\n",
       "    </tr>\n",
       "    <tr>\n",
       "      <th>8    </th>\n",
       "      <td>  9412517</td>\n",
       "      <td> 0.000000</td>\n",
       "    </tr>\n",
       "    <tr>\n",
       "      <th>9    </th>\n",
       "      <td>  9465007</td>\n",
       "      <td> 0.000000</td>\n",
       "    </tr>\n",
       "    <tr>\n",
       "      <th>10   </th>\n",
       "      <td>  9491989</td>\n",
       "      <td> 0.000000</td>\n",
       "    </tr>\n",
       "    <tr>\n",
       "      <th>11   </th>\n",
       "      <td>  9501235</td>\n",
       "      <td> 0.000000</td>\n",
       "    </tr>\n",
       "    <tr>\n",
       "      <th>12   </th>\n",
       "      <td>  9593960</td>\n",
       "      <td> 0.000000</td>\n",
       "    </tr>\n",
       "    <tr>\n",
       "      <th>13   </th>\n",
       "      <td>  9620697</td>\n",
       "      <td> 0.000000</td>\n",
       "    </tr>\n",
       "    <tr>\n",
       "      <th>14   </th>\n",
       "      <td>  9620698</td>\n",
       "      <td> 0.000000</td>\n",
       "    </tr>\n",
       "    <tr>\n",
       "      <th>15   </th>\n",
       "      <td>  9620699</td>\n",
       "      <td> 0.000000</td>\n",
       "    </tr>\n",
       "    <tr>\n",
       "      <th>16   </th>\n",
       "      <td>  9636217</td>\n",
       "      <td> 0.000000</td>\n",
       "    </tr>\n",
       "    <tr>\n",
       "      <th>17   </th>\n",
       "      <td>  9714705</td>\n",
       "      <td> 0.000000</td>\n",
       "    </tr>\n",
       "    <tr>\n",
       "      <th>18   </th>\n",
       "      <td>  9728909</td>\n",
       "      <td> 0.000000</td>\n",
       "    </tr>\n",
       "    <tr>\n",
       "      <th>19   </th>\n",
       "      <td>  9770542</td>\n",
       "      <td> 0.000000</td>\n",
       "    </tr>\n",
       "    <tr>\n",
       "      <th>20   </th>\n",
       "      <td>  9787003</td>\n",
       "      <td> 0.167045</td>\n",
       "    </tr>\n",
       "    <tr>\n",
       "      <th>21   </th>\n",
       "      <td>  9808463</td>\n",
       "      <td> 0.111859</td>\n",
       "    </tr>\n",
       "    <tr>\n",
       "      <th>22   </th>\n",
       "      <td>  9838166</td>\n",
       "      <td> 0.000000</td>\n",
       "    </tr>\n",
       "    <tr>\n",
       "      <th>23   </th>\n",
       "      <td>  9886448</td>\n",
       "      <td> 0.055644</td>\n",
       "    </tr>\n",
       "    <tr>\n",
       "      <th>24   </th>\n",
       "      <td>  9988836</td>\n",
       "      <td> 0.000000</td>\n",
       "    </tr>\n",
       "    <tr>\n",
       "      <th>25   </th>\n",
       "      <td>  9990082</td>\n",
       "      <td> 0.000000</td>\n",
       "    </tr>\n",
       "    <tr>\n",
       "      <th>26   </th>\n",
       "      <td> 10022492</td>\n",
       "      <td> 0.000000</td>\n",
       "    </tr>\n",
       "    <tr>\n",
       "      <th>27   </th>\n",
       "      <td> 10022494</td>\n",
       "      <td> 0.000000</td>\n",
       "    </tr>\n",
       "    <tr>\n",
       "      <th>28   </th>\n",
       "      <td> 10022496</td>\n",
       "      <td> 0.000000</td>\n",
       "    </tr>\n",
       "    <tr>\n",
       "      <th>29   </th>\n",
       "      <td> 10051677</td>\n",
       "      <td> 0.000000</td>\n",
       "    </tr>\n",
       "    <tr>\n",
       "      <th>...</th>\n",
       "      <td>...</td>\n",
       "      <td>...</td>\n",
       "    </tr>\n",
       "    <tr>\n",
       "      <th>10873</th>\n",
       "      <td> 25592803</td>\n",
       "      <td> 0.000000</td>\n",
       "    </tr>\n",
       "    <tr>\n",
       "      <th>10874</th>\n",
       "      <td> 25592995</td>\n",
       "      <td> 0.000000</td>\n",
       "    </tr>\n",
       "    <tr>\n",
       "      <th>10875</th>\n",
       "      <td> 25592998</td>\n",
       "      <td> 0.000000</td>\n",
       "    </tr>\n",
       "    <tr>\n",
       "      <th>10876</th>\n",
       "      <td> 25595179</td>\n",
       "      <td> 0.000000</td>\n",
       "    </tr>\n",
       "    <tr>\n",
       "      <th>10877</th>\n",
       "      <td> 25595222</td>\n",
       "      <td> 0.000000</td>\n",
       "    </tr>\n",
       "    <tr>\n",
       "      <th>10878</th>\n",
       "      <td> 25595501</td>\n",
       "      <td> 0.000000</td>\n",
       "    </tr>\n",
       "    <tr>\n",
       "      <th>10879</th>\n",
       "      <td> 25596443</td>\n",
       "      <td> 0.000000</td>\n",
       "    </tr>\n",
       "    <tr>\n",
       "      <th>10880</th>\n",
       "      <td> 25596444</td>\n",
       "      <td> 0.148209</td>\n",
       "    </tr>\n",
       "    <tr>\n",
       "      <th>10881</th>\n",
       "      <td> 25598049</td>\n",
       "      <td> 0.000000</td>\n",
       "    </tr>\n",
       "    <tr>\n",
       "      <th>10882</th>\n",
       "      <td> 25601007</td>\n",
       "      <td> 0.000000</td>\n",
       "    </tr>\n",
       "    <tr>\n",
       "      <th>10883</th>\n",
       "      <td> 25609637</td>\n",
       "      <td> 0.000000</td>\n",
       "    </tr>\n",
       "    <tr>\n",
       "      <th>10884</th>\n",
       "      <td> 25610763</td>\n",
       "      <td> 0.037302</td>\n",
       "    </tr>\n",
       "    <tr>\n",
       "      <th>10885</th>\n",
       "      <td> 25610767</td>\n",
       "      <td> 0.000000</td>\n",
       "    </tr>\n",
       "    <tr>\n",
       "      <th>10886</th>\n",
       "      <td> 25610773</td>\n",
       "      <td> 0.000000</td>\n",
       "    </tr>\n",
       "    <tr>\n",
       "      <th>10887</th>\n",
       "      <td> 25610777</td>\n",
       "      <td> 0.000000</td>\n",
       "    </tr>\n",
       "    <tr>\n",
       "      <th>10888</th>\n",
       "      <td> 25610783</td>\n",
       "      <td> 0.133153</td>\n",
       "    </tr>\n",
       "    <tr>\n",
       "      <th>10889</th>\n",
       "      <td> 25610794</td>\n",
       "      <td> 0.000000</td>\n",
       "    </tr>\n",
       "    <tr>\n",
       "      <th>10890</th>\n",
       "      <td> 25613405</td>\n",
       "      <td> 0.377714</td>\n",
       "    </tr>\n",
       "    <tr>\n",
       "      <th>10891</th>\n",
       "      <td> 25613438</td>\n",
       "      <td> 0.000000</td>\n",
       "    </tr>\n",
       "    <tr>\n",
       "      <th>10892</th>\n",
       "      <td> 25614233</td>\n",
       "      <td> 0.000000</td>\n",
       "    </tr>\n",
       "    <tr>\n",
       "      <th>10893</th>\n",
       "      <td> 25619684</td>\n",
       "      <td> 0.000000</td>\n",
       "    </tr>\n",
       "    <tr>\n",
       "      <th>10894</th>\n",
       "      <td> 25619848</td>\n",
       "      <td> 0.000000</td>\n",
       "    </tr>\n",
       "    <tr>\n",
       "      <th>10895</th>\n",
       "      <td> 25620492</td>\n",
       "      <td> 0.000000</td>\n",
       "    </tr>\n",
       "    <tr>\n",
       "      <th>10896</th>\n",
       "      <td> 25623601</td>\n",
       "      <td> 0.000000</td>\n",
       "    </tr>\n",
       "    <tr>\n",
       "      <th>10897</th>\n",
       "      <td> 25623846</td>\n",
       "      <td> 0.000000</td>\n",
       "    </tr>\n",
       "    <tr>\n",
       "      <th>10898</th>\n",
       "      <td> 25631055</td>\n",
       "      <td> 0.000000</td>\n",
       "    </tr>\n",
       "    <tr>\n",
       "      <th>10899</th>\n",
       "      <td> 25631056</td>\n",
       "      <td> 0.000000</td>\n",
       "    </tr>\n",
       "    <tr>\n",
       "      <th>10900</th>\n",
       "      <td> 25632119</td>\n",
       "      <td> 0.000000</td>\n",
       "    </tr>\n",
       "    <tr>\n",
       "      <th>10901</th>\n",
       "      <td> 25632133</td>\n",
       "      <td> 0.000000</td>\n",
       "    </tr>\n",
       "    <tr>\n",
       "      <th>10902</th>\n",
       "      <td> 25632152</td>\n",
       "      <td> 0.000000</td>\n",
       "    </tr>\n",
       "  </tbody>\n",
       "</table>\n",
       "<p>10903 rows × 2 columns</p>\n",
       "</div>"
      ],
      "text/plain": [
       "           pmid  attention\n",
       "0       9106283   0.000000\n",
       "1       9177231   0.000000\n",
       "2       9185551   0.000000\n",
       "3       9256495   0.000000\n",
       "4       9288642   0.000000\n",
       "5       9395845   0.000000\n",
       "6       9405692   0.000000\n",
       "7       9408106   0.059474\n",
       "8       9412517   0.000000\n",
       "9       9465007   0.000000\n",
       "10      9491989   0.000000\n",
       "11      9501235   0.000000\n",
       "12      9593960   0.000000\n",
       "13      9620697   0.000000\n",
       "14      9620698   0.000000\n",
       "15      9620699   0.000000\n",
       "16      9636217   0.000000\n",
       "17      9714705   0.000000\n",
       "18      9728909   0.000000\n",
       "19      9770542   0.000000\n",
       "20      9787003   0.167045\n",
       "21      9808463   0.111859\n",
       "22      9838166   0.000000\n",
       "23      9886448   0.055644\n",
       "24      9988836   0.000000\n",
       "25      9990082   0.000000\n",
       "26     10022492   0.000000\n",
       "27     10022494   0.000000\n",
       "28     10022496   0.000000\n",
       "29     10051677   0.000000\n",
       "...         ...        ...\n",
       "10873  25592803   0.000000\n",
       "10874  25592995   0.000000\n",
       "10875  25592998   0.000000\n",
       "10876  25595179   0.000000\n",
       "10877  25595222   0.000000\n",
       "10878  25595501   0.000000\n",
       "10879  25596443   0.000000\n",
       "10880  25596444   0.148209\n",
       "10881  25598049   0.000000\n",
       "10882  25601007   0.000000\n",
       "10883  25609637   0.000000\n",
       "10884  25610763   0.037302\n",
       "10885  25610767   0.000000\n",
       "10886  25610773   0.000000\n",
       "10887  25610777   0.000000\n",
       "10888  25610783   0.133153\n",
       "10889  25610794   0.000000\n",
       "10890  25613405   0.377714\n",
       "10891  25613438   0.000000\n",
       "10892  25614233   0.000000\n",
       "10893  25619684   0.000000\n",
       "10894  25619848   0.000000\n",
       "10895  25620492   0.000000\n",
       "10896  25623601   0.000000\n",
       "10897  25623846   0.000000\n",
       "10898  25631055   0.000000\n",
       "10899  25631056   0.000000\n",
       "10900  25632119   0.000000\n",
       "10901  25632133   0.000000\n",
       "10902  25632152   0.000000\n",
       "\n",
       "[10903 rows x 2 columns]"
      ]
     },
     "execution_count": 46,
     "metadata": {},
     "output_type": "execute_result"
    }
   ],
   "source": [
    "# Term to IDs\n",
    "\n",
    "term = 'attention'\n",
    "term_ids_act = feat_table.loc[feat_table[term] > -1, ['pmid', term]]\n",
    "term_ids = term_ids_act['pmid'].tolist()\n",
    "term_ids_act"
   ]
  },
  {
   "cell_type": "code",
   "execution_count": 47,
   "metadata": {
    "collapsed": false
   },
   "outputs": [],
   "source": [
    "# IDs to Coords\n",
    "term_coords = db_table.loc[db_table['id'].isin(term_ids)]\n",
    "tc = term_coords.loc[:,'x':'z'].as_matrix().astype(float)\n",
    "ns_coord_tree = sp.KDTree(tc)\n",
    "\n",
    "term_ids_act.rename(columns={'pmid':'id'}, inplace=True)\n",
    "df = term_coords.merge(term_ids_act)"
   ]
  },
  {
   "cell_type": "code",
   "execution_count": 48,
   "metadata": {
    "collapsed": false
   },
   "outputs": [
    {
     "data": {
      "text/plain": [
       "array([[ 10.,  20.,  30.],\n",
       "       [ 10.,  20.,  30.],\n",
       "       [ 10.,  20.,  30.],\n",
       "       [ 10.,  21.,  30.],\n",
       "       [  8.,  20.,  30.],\n",
       "       [  8.,  20.,  30.],\n",
       "       [  8.,  20.,  30.],\n",
       "       [ 10.,  20.,  28.],\n",
       "       [ 10.,  20.,  32.],\n",
       "       [  8.,  19.,  30.],\n",
       "       [  8.,  19.,  30.],\n",
       "       [ 12.,  21.,  30.],\n",
       "       [  9.,  18.,  30.],\n",
       "       [ 10.,  21.,  32.],\n",
       "       [ 12.,  21.,  30.],\n",
       "       [ 10.,  18.,  32.],\n",
       "       [ 10.,  18.,  32.],\n",
       "       [  8.,  20.,  28.],\n",
       "       [ 12.,  20.,  32.],\n",
       "       [ 10.,  18.,  32.]])"
      ]
     },
     "execution_count": 48,
     "metadata": {},
     "output_type": "execute_result"
    }
   ],
   "source": [
    "max_rad = 5\n",
    "r, ind = ns_coord_tree.query(pts, 20)\n",
    "ns_coord_tree.data[ind[r<max_rad]]"
   ]
  },
  {
   "cell_type": "code",
   "execution_count": 110,
   "metadata": {
    "collapsed": false
   },
   "outputs": [
    {
     "name": "stdout",
     "output_type": "stream",
     "text": [
      "100 loops, best of 3: 5.44 ms per loop\n"
     ]
    },
    {
     "data": {
      "text/plain": [
       "2"
      ]
     },
     "execution_count": 110,
     "metadata": {},
     "output_type": "execute_result"
    }
   ],
   "source": [
    "# Getting activation based on Coordinate\n",
    "# NOTE!!! : Major speed bottleneck below in Nsaba\n",
    "\n",
    "coords = (6,6,5)\n",
    "%timeit mean = df.ix[(df['x'] == coords[0]) & (df['y'] == coords[1]) & (df['z'] == coords[2])][term]\n",
    "mean.count()"
   ]
  },
  {
   "cell_type": "code",
   "execution_count": 111,
   "metadata": {
    "collapsed": false
   },
   "outputs": [
    {
     "name": "stdout",
     "output_type": "stream",
     "text": [
      "100 loops, best of 3: 9.11 ms per loop\n"
     ]
    }
   ],
   "source": [
    "expre = 'x == %d and y == %d and z == %d' % (coords[0], coords[1], coords[2])\n",
    "%timeit df.query(expre, engine='numexpr')[term]"
   ]
  },
  {
   "cell_type": "code",
   "execution_count": null,
   "metadata": {
    "collapsed": true
   },
   "outputs": [],
   "source": []
  },
  {
   "cell_type": "code",
   "execution_count": 39,
   "metadata": {
    "collapsed": false
   },
   "outputs": [],
   "source": [
    "# Returns Sphere about point\n",
    "\n",
    "def sphere():\n",
    "    sphere_bucket = []\n",
    "    set_bucket = []\n",
    "    for i, r in enumerate(range(4,0,-1)):\n",
    "        pts = ns_coord_tree.query_ball_point([-2,6,3], r)\n",
    "        set_bucket.append(set(map(tuple, ns_coord_tree.data[pts])))\n",
    "   \n",
    "    for i in range(0,3):\n",
    "        sphere_bucket.append(list(set_bucket[i].difference(set_bucket[i+1])))\n",
    "    sphere_bucket.append(list(set_bucket[3]))\n",
    "    rev_iter = reversed(sphere_bucket)\n",
    "    \n",
    "    return np.array([layer for layer in rev_iter])\n"
   ]
  },
  {
   "cell_type": "code",
   "execution_count": 42,
   "metadata": {
    "collapsed": false
   },
   "outputs": [
    {
     "name": "stdout",
     "output_type": "stream",
     "text": [
      "Wall time: 24.7 s\n"
     ]
    }
   ],
   "source": [
    "%time for i in range(800): sphere()"
   ]
  },
  {
   "cell_type": "code",
   "execution_count": 43,
   "metadata": {
    "collapsed": false
   },
   "outputs": [
    {
     "name": "stdout",
     "output_type": "stream",
     "text": [
      "Wall time: 32 ms\n"
     ]
    },
    {
     "data": {
      "text/plain": [
       "array([[], [], [(-2.0, 4.0, 2.0)], []], dtype=object)"
      ]
     },
     "execution_count": 43,
     "metadata": {},
     "output_type": "execute_result"
    }
   ],
   "source": [
    "%time sphere()"
   ]
  },
  {
   "cell_type": "code",
   "execution_count": null,
   "metadata": {
    "collapsed": true
   },
   "outputs": [],
   "source": []
  }
 ],
 "metadata": {
  "kernelspec": {
   "display_name": "Python 2",
   "language": "python",
   "name": "python2"
  },
  "language_info": {
   "codemirror_mode": {
    "name": "ipython",
    "version": 2
   },
   "file_extension": ".py",
   "mimetype": "text/x-python",
   "name": "python",
   "nbconvert_exporter": "python",
   "pygments_lexer": "ipython2",
   "version": "2.7.8"
  }
 },
 "nbformat": 4,
 "nbformat_minor": 0
}
