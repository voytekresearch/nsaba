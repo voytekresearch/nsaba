{
 "cells": [
  {
   "cell_type": "code",
   "execution_count": 92,
   "metadata": {
    "collapsed": false
   },
   "outputs": [],
   "source": [
    "import nsaba.nsaba as na\n",
    "from sklearn.ensemble import RandomForestRegressor\n",
    "from sklearn.neighbors import KNeighborsRegressor, RadiusNeighborsRegressor\n",
    "from sklearn.tree import DecisionTreeRegressor\n",
    "from sklearn.grid_search import GridSearchCV\n",
    "from sklearn.learning_curve import validation_curve\n",
    "from tabulate import tabulate\n",
    "import numpy as np\n",
    "import scipy as sp\n",
    "import random as rn\n",
    "\n",
    "import matplotlib as mt\n",
    "import matplotlib.pyplot as plt\n",
    "mt.style.use('ggplot')\n",
    "%matplotlib inline"
   ]
  },
  {
   "cell_type": "code",
   "execution_count": 2,
   "metadata": {
    "collapsed": false
   },
   "outputs": [
    {
     "name": "stdout",
     "output_type": "stream",
     "text": [
      "This may take a minute or two ...\n",
      "SampleAnnot.csv loaded.\n",
      "MicroarrayExpression.csv loaded.\n",
      "Probes.csv loaded.\n",
      "Nsaba.aba['mni_coords'] initialized.\n",
      "\n",
      "This may take a minute or two ...\n",
      "database.txt loaded.\n",
      "features.txt loaded.\n",
      "Nsaba.ns['mni_coords'] initialized.\n",
      "\n"
     ]
    }
   ],
   "source": [
    "dd = '../../data_dir'\n",
    "na.Nsaba.aba_load(dd)\n",
    "na.Nsaba.ns_load(dd)"
   ]
  },
  {
   "cell_type": "code",
   "execution_count": 3,
   "metadata": {
    "collapsed": false
   },
   "outputs": [
    {
     "name": "stdout",
     "output_type": "stream",
     "text": [
      "This may take a minute or two ...\n"
     ]
    }
   ],
   "source": [
    "na.Nsaba.ns_load_id_dict()"
   ]
  },
  {
   "cell_type": "code",
   "execution_count": 4,
   "metadata": {
    "collapsed": false
   },
   "outputs": [
    {
     "name": "stdout",
     "output_type": "stream",
     "text": [
      "This may take a minute or two ...\n",
      "'ge' dictionary successfully loaded\n"
     ]
    }
   ],
   "source": [
    "para = na.Nsaba()\n",
    "para.load_ge_pickle('Nsaba_ABA_ge.pkl', dd)"
   ]
  },
  {
   "cell_type": "code",
   "execution_count": 5,
   "metadata": {
    "collapsed": false
   },
   "outputs": [],
   "source": [
    "feat_df = para.get_ns_struct(\"features_df\")"
   ]
  },
  {
   "cell_type": "markdown",
   "metadata": {},
   "source": [
    "# Term Activation"
   ]
  },
  {
   "cell_type": "code",
   "execution_count": 6,
   "metadata": {
    "collapsed": false
   },
   "outputs": [],
   "source": [
    "term = 'reward'\n",
    "_, df = para._term_to_coords(term, -1)"
   ]
  },
  {
   "cell_type": "code",
   "execution_count": 7,
   "metadata": {
    "collapsed": false
   },
   "outputs": [
    {
     "data": {
      "image/png": "[encoded data removed]",
      "text/plain": [
       "<matplotlib.figure.Figure at 0x117c8b250>"
      ]
     },
     "metadata": {},
     "output_type": "display_data"
    }
   ],
   "source": [
    "df.reward.hist(bins=10);\n",
    "plt.title(\"Term Distribution\");\n",
    "plt.yscale('log')\n",
    "plt.xlabel(term);"
   ]
  },
  {
   "cell_type": "code",
   "execution_count": 44,
   "metadata": {
    "collapsed": false
   },
   "outputs": [],
   "source": [
    "X = df.loc[:, 'x':'z'].as_matrix()\n",
    "y = df.loc[:, 'reward'].as_matrix()"
   ]
  },
  {
   "cell_type": "code",
   "execution_count": 64,
   "metadata": {
    "collapsed": false
   },
   "outputs": [
    {
     "data": {
      "text/plain": [
       "[[array([ 56., -34.,  26.]), 0.0],\n",
       " [array([ 46., -68.,   0.]), 0.0],\n",
       " [array([-40.6, -60.9,  42.9]), 0.0],\n",
       " [array([ 14., -66.,  66.]), 0.0],\n",
       " [array([ 42., -40.,  38.]), 0.38891951417699999],\n",
       " [array([-38., -52.,  34.]), 0.0],\n",
       " [array([-50., -44., -26.]), 0.0],\n",
       " [array([-63., -15.,  39.]), 0.0],\n",
       " [array([ -4., -60., -30.]), 0.0],\n",
       " [array([-48.,  54.,  -6.]), 0.0],\n",
       " [array([ 22., -66.,  28.]), 0.0],\n",
       " [array([ 14., -56.,  34.]), 0.0],\n",
       " [array([ 27.,   0.,  57.]), 0.0],\n",
       " [array([ 20., -25.,  53.]), 0.0],\n",
       " [array([ 6.,  8.,  2.]), 0.0],\n",
       " [array([-65., -31.,  15.]), 0.0],\n",
       " [array([-30.,  25.,  -6.]), 0.0],\n",
       " [array([-48., -40.,  30.]), 0.0],\n",
       " [array([-30., -52.,   4.]), 0.0],\n",
       " [array([-27., -45.,  -9.]), 0.0]]"
      ]
     },
     "execution_count": 64,
     "metadata": {},
     "output_type": "execute_result"
    }
   ],
   "source": []
  },
  {
   "cell_type": "code",
   "execution_count": 97,
   "metadata": {
    "collapsed": false
   },
   "outputs": [],
   "source": [
    "# Validation Helpers\n",
    "def plot_vc(pars, train_scores, valid_scores, score, par_name, model):\n",
    "    plt.plot(pars, np.mean(train_scores,1), label=\"Train\")\n",
    "    plt.plot(pars, np.mean(valid_scores,1), label=\"Validation\")\n",
    "    plt.legend()\n",
    "    plt.title(\"Validation Curve: %s\" % model)\n",
    "    plt.xlabel(par_name);\n",
    "    plt.ylabel(score);\n",
    "    \n",
    "def print_score(pars, train_scores, valid_scores, par_name, error=False):\n",
    "    entries = []\n",
    "    if error:\n",
    "        headers = [par_name, \"Mean Training Error\", \"Mean CV Error\"]\n",
    "        t_means = -np.mean(train_scores,1)\n",
    "        v_means = -np.mean(valid_scores,1)\n",
    "        for par, t_err, v_err in zip(pars, t_means, v_means):\n",
    "            entries.append([par, t_err, v_err]) \n",
    "    else:\n",
    "        headers = [par_name, \"Mean Training Score\", \"Mean CV Score\"]\n",
    "        t_means = np.mean(train_scores,1)\n",
    "        v_means = np.mean(valid_scores,1)\n",
    "        for par, t_err, v_err in zip(pars, t_means, v_means):\n",
    "            entries.append([par, t_err, v_err]) \n",
    "    print tabulate(entries, headers=headers)"
   ]
  },
  {
   "cell_type": "markdown",
   "metadata": {},
   "source": [
    "# Decision Tree"
   ]
  },
  {
   "cell_type": "code",
   "execution_count": 98,
   "metadata": {
    "collapsed": false
   },
   "outputs": [
    {
     "name": "stdout",
     "output_type": "stream",
     "text": [
      "  Max Depth    Mean Training Score    Mean CV Score\n",
      "-----------  ---------------------  ---------------\n",
      "        500               0.748351         -1.0203\n",
      "       1000               0.748351         -1.02537\n",
      "      10000               0.748351         -1.02719\n",
      "     100000               0.748351         -1.0306\n",
      "    1000000               0.748351         -1.02524\n"
     ]
    },
    {
     "data": {
      "image/png": "[encoded data removed]",
      "text/plain": [
       "<matplotlib.figure.Figure at 0x1126ae610>"
      ]
     },
     "metadata": {},
     "output_type": "display_data"
    }
   ],
   "source": [
    "depth=[500,1000,10000,100000,1000000]\n",
    "score = 'r2'\n",
    "\n",
    "train_scores, valid_scores = validation_curve(DecisionTreeRegressor(),\n",
    "                                              X, y, \"max_depth\", depth, \n",
    "                                              scoring=score, n_jobs=4, cv=10)\n",
    "plot_vc(np.log(depth), train_scores, valid_scores, score, \"Depth (log)\", \"Decision Trees\")\n",
    "print_score(depth, train_scores, valid_scores, \"Max Depth\")"
   ]
  },
  {
   "cell_type": "code",
   "execution_count": 100,
   "metadata": {
    "collapsed": false
   },
   "outputs": [
    {
     "name": "stdout",
     "output_type": "stream",
     "text": [
      "  Max Depth    Mean Training Score    Mean CV Score\n",
      "-----------  ---------------------  ---------------\n",
      "        500           -0.000827079      -0.00634981\n",
      "       1000           -0.000827079      -0.0063663\n",
      "      10000           -0.000827079      -0.00637197\n",
      "     100000           -0.000827079      -0.00638307\n",
      "    1000000           -0.000827079      -0.00637138\n"
     ]
    },
    {
     "data": {
      "image/png": "[encoded data removed]",
      "text/plain": [
       "<matplotlib.figure.Figure at 0x1187bf2d0>"
      ]
     },
     "metadata": {},
     "output_type": "display_data"
    }
   ],
   "source": [
    "score = 'mean_squared_error'\n",
    "train_scores, valid_scores = validation_curve(DecisionTreeRegressor(),\n",
    "                                              X, y, \"max_depth\", depth, \n",
    "                                              scoring=score, n_jobs=4, cv=10)\n",
    "plot_vc(np.log(depth), -train_scores, -valid_scores, score, \"Depth (log)\", \"Decision Trees\")\n",
    "print_score(depth, train_scores, valid_scores, \"Max Depth\")"
   ]
  },
  {
   "cell_type": "code",
   "execution_count": null,
   "metadata": {
    "collapsed": true
   },
   "outputs": [],
   "source": []
  },
  {
   "cell_type": "markdown",
   "metadata": {
    "collapsed": false
   },
   "source": [
    "# Random Forests"
   ]
  },
  {
   "cell_type": "code",
   "execution_count": null,
   "metadata": {
    "collapsed": false
   },
   "outputs": [],
   "source": [
    "trees=[10,20,50,100,300]\n",
    "score = 'r2'\n",
    "\n",
    "train_scores, valid_scores = validation_curve(RandomForestRegressor(),\n",
    "                                              X, y, \"n_estimators\", trees, \n",
    "                                              scoring=score, n_jobs=4, cv=5)\n",
    "plot_vc(trees, train_scores, valid_scores, score, \"Trees\", \"Random Forests\")\n",
    "print_score(trees, train_scores, valid_scores, \"Trees\")"
   ]
  },
  {
   "cell_type": "code",
   "execution_count": null,
   "metadata": {
    "collapsed": false
   },
   "outputs": [],
   "source": [
    "score='mean_squared_error'\n",
    "train_scores, valid_scores = validation_curve(RandomForestRegressor(),\n",
    "                                              X, y, \"n_estimators\", trees, \n",
    "                                              scoring=score, n_jobs=4, cv=5)\n",
    "plot_vc(trees, -train_scores, -valid_scores, score, \"Trees\", \"Random Forests\")\n",
    "print_score(trees, train_scores, valid_scores, \"Trees\", error=True)"
   ]
  },
  {
   "cell_type": "code",
   "execution_count": null,
   "metadata": {
    "collapsed": true
   },
   "outputs": [],
   "source": []
  },
  {
   "cell_type": "markdown",
   "metadata": {},
   "source": [
    "## KNN"
   ]
  },
  {
   "cell_type": "code",
   "execution_count": null,
   "metadata": {
    "collapsed": false
   },
   "outputs": [],
   "source": [
    "score = 'r2'\n",
    "neighbors = [5,10,15,20,50,100]\n",
    "train_scores, valid_scores = validation_curve(KNeighborsRegressor(),\n",
    "                                              X, y, \"n_neighbors\", neighbors, \n",
    "                                              scoring=score, n_jobs=4, cv=5)\n",
    "plot_vc(neighbors, train_scores, valid_scores, score, \"Neighbors\", \"KNN\")\n",
    "print_score(neighbors, train_scores, valid_scores, \"Neighbors\")"
   ]
  },
  {
   "cell_type": "code",
   "execution_count": null,
   "metadata": {
    "collapsed": false
   },
   "outputs": [],
   "source": [
    "score='mean_squared_error'\n",
    "train_scores, valid_scores = validation_curve(KNeighborsRegressor(),\n",
    "                                              X, y, \"n_neighbors\", neighbors, \n",
    "                                              scoring=score, n_jobs=4, cv=5)\n",
    "plot_vc(neighbors, -train_scores, -valid_scores, score, \"Neighbors\", \"KNN\")\n",
    "print_score(neighbors, train_scores, valid_scores, \"Neighbors\", error=True)"
   ]
  },
  {
   "cell_type": "code",
   "execution_count": null,
   "metadata": {
    "collapsed": true
   },
   "outputs": [],
   "source": []
  },
  {
   "cell_type": "code",
   "execution_count": null,
   "metadata": {
    "collapsed": true
   },
   "outputs": [],
   "source": []
  }
 ],
 "metadata": {
  "kernelspec": {
   "display_name": "Python 2",
   "language": "python",
   "name": "python2"
  },
  "language_info": {
   "codemirror_mode": {
    "name": "ipython",
    "version": 2
   },
   "file_extension": ".py",
   "mimetype": "text/x-python",
   "name": "python",
   "nbconvert_exporter": "python",
   "pygments_lexer": "ipython2",
   "version": "2.7.11"
  }
 },
 "nbformat": 4,
 "nbformat_minor": 0
}
