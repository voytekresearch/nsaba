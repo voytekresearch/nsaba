{
 "cells": [
  {
   "cell_type": "markdown",
   "metadata": {},
   "source": [
    "# Testing Nsaba Functionality\n",
    "\n",
    "##### Current Methods\n",
    "- est_aba_ge()\n",
    "- ge_ratio()\n",
    "- est_ns_act()\n",
    "- make_ge_ns_mat()\n",
    "\n",
    "NsabaVisualizer methods also tested."
   ]
  },
  {
   "cell_type": "code",
   "execution_count": 1,
   "metadata": {
    "collapsed": false
   },
   "outputs": [],
   "source": [
    "from nsaba.nsaba import Nsaba\n",
    "from nsaba.nsaba.builder import NsabaBuilder\n",
    "from nsaba.nsaba.visualizer import NsabaVisualizer\n",
    "import numpy as np\n",
    "import os\n",
    "import matplotlib.pyplot as plt\n",
    "import pandas as pd\n",
    "import itertools\n",
    "%matplotlib inline\n",
    "%config InlineBackend.figure_format = 'retina'"
   ]
  },
  {
   "cell_type": "code",
   "execution_count": 2,
   "metadata": {
    "collapsed": false
   },
   "outputs": [],
   "source": [
    "%load_ext line_profiler"
   ]
  },
  {
   "cell_type": "code",
   "execution_count": 3,
   "metadata": {
    "collapsed": false
   },
   "outputs": [
    {
     "name": "stdout",
     "output_type": "stream",
     "text": [
      "This may take a minute or two ...\n",
      "SampleAnnot.csv loaded.\n",
      "MicroarrayExpression.csv loaded.\n",
      "Probes.csv loaded.\n",
      "Nsaba.aba['mni_coords'] initialized.\n",
      "\n",
      "This may take a minute or two ...\n",
      "database.txt loaded.\n",
      "features.txt loaded.\n",
      "Nsaba.ns['mni_coords'] initialized.\n",
      "\n"
     ]
    }
   ],
   "source": [
    "# Simon Path IO\n",
    "\n",
    "data_dir = '../../data_dir'\n",
    "os.chdir(data_dir)\n",
    "Nsaba.aba_load()\n",
    "Nsaba.ns_load()"
   ]
  },
  {
   "cell_type": "code",
   "execution_count": null,
   "metadata": {
    "collapsed": false
   },
   "outputs": [],
   "source": [
    "# Loading gene expression for all ABA registered Entrez IDs.\n",
    "A = Nsaba()\n",
    "# A.load_ge_pickle('Nsaba_ABA_ge.pkl')"
   ]
  },
  {
   "cell_type": "code",
   "execution_count": null,
   "metadata": {
    "collapsed": false
   },
   "outputs": [],
   "source": [
    "entrids = [1813,1816]\n",
    "coords = [(np.random.uniform(-50,50), np.random.uniform(-50,50), np.random.uniform(-50,50)) for _ in range(50)]\n",
    "A.ge_ratio(entrids, np.array(coords), rnn_args={'radius':10})"
   ]
  },
  {
   "cell_type": "code",
   "execution_count": null,
   "metadata": {
    "collapsed": false
   },
   "outputs": [],
   "source": [
    "entrids = [1813,1816]\n",
    "A.estimate_aba_ge(entrids, radius=10)"
   ]
  },
  {
   "cell_type": "code",
   "execution_count": null,
   "metadata": {
    "collapsed": false
   },
   "outputs": [],
   "source": [
    "%time A.estimate_ns_act('attention')\n",
    "A.estimate_ns_act('reward')"
   ]
  },
  {
   "cell_type": "markdown",
   "metadata": {},
   "source": [
    "## Visualization Methods (testing)"
   ]
  },
  {
   "cell_type": "code",
   "execution_count": null,
   "metadata": {
    "collapsed": true
   },
   "outputs": [],
   "source": [
    "NV = NsabaVisualizer(A)"
   ]
  },
  {
   "cell_type": "code",
   "execution_count": null,
   "metadata": {
    "collapsed": false
   },
   "outputs": [],
   "source": [
    "NV.visualize_ge([1813])"
   ]
  },
  {
   "cell_type": "code",
   "execution_count": null,
   "metadata": {
    "collapsed": false
   },
   "outputs": [],
   "source": [
    "NV.visualize_ns('attention', alpha=.3)"
   ]
  },
  {
   "cell_type": "code",
   "execution_count": null,
   "metadata": {
    "collapsed": false
   },
   "outputs": [],
   "source": [
    "NV.lstsq_ns_ge('attention', [1813]);"
   ]
  },
  {
   "cell_type": "code",
   "execution_count": null,
   "metadata": {
    "collapsed": false
   },
   "outputs": [],
   "source": [
    "NV.lstsq_ge_ge(1813, 1816);"
   ]
  },
  {
   "cell_type": "code",
   "execution_count": null,
   "metadata": {
    "collapsed": false
   },
   "outputs": [],
   "source": [
    "NV.lstsq_ns_ns('attention', 'reward');"
   ]
  },
  {
   "cell_type": "code",
   "execution_count": null,
   "metadata": {
    "collapsed": false
   },
   "outputs": [],
   "source": [
    "A.matrix_builder(['reward'], [1813,1816])"
   ]
  },
  {
   "cell_type": "code",
   "execution_count": null,
   "metadata": {
    "collapsed": true
   },
   "outputs": [],
   "source": []
  }
 ],
 "metadata": {
  "kernelspec": {
   "display_name": "Python 2",
   "language": "python",
   "name": "python2"
  },
  "language_info": {
   "codemirror_mode": {
    "name": "ipython",
    "version": 2
   },
   "file_extension": ".py",
   "mimetype": "text/x-python",
   "name": "python",
   "nbconvert_exporter": "python",
   "pygments_lexer": "ipython2",
   "version": "2.7.11"
  }
 },
 "nbformat": 4,
 "nbformat_minor": 0
}
