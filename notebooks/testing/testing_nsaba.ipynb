{
 "cells": [
  {
   "cell_type": "markdown",
   "metadata": {},
   "source": [
    "# Testing Nsaba Functionality\n",
    "\n",
    "##### Current Methods\n",
    "- est_aba_ge()\n",
    "- ge_ratio()\n",
    "- est_ns_act()\n",
    "- make_ge_ns_mat()"
   ]
  },
  {
   "cell_type": "code",
   "execution_count": 3,
   "metadata": {
    "collapsed": false
   },
   "outputs": [],
   "source": [
    "from nsaba.nsaba import Nsaba\n",
    "from nsaba.nsaba.visualizer import NsabaVisualizer\n",
    "import numpy as np\n",
    "import os\n",
    "import matplotlib.pyplot as plt\n",
    "import pandas as pd\n",
    "import itertools\n",
    "%matplotlib inline\n",
    "%config InlineBackend.figure_format = 'retina'"
   ]
  },
  {
   "cell_type": "code",
   "execution_count": 4,
   "metadata": {
    "collapsed": false
   },
   "outputs": [],
   "source": [
    "%load_ext line_profiler"
   ]
  },
  {
   "cell_type": "code",
   "execution_count": 5,
   "metadata": {
    "collapsed": false
   },
   "outputs": [
    {
     "name": "stdout",
     "output_type": "stream",
     "text": [
      "This may take a minute or two ...\n",
      "SampleAnnot.csv loaded.\n",
      "MicroarrayExpression.csv loaded.\n",
      "Probes.csv loaded.\n",
      "Nsaba.aba['mni_coords'] initialized.\n",
      "\n",
      "This may take a minute or two ...\n",
      "database.txt loaded.\n",
      "features.txt loaded.\n",
      "Nsaba.ns['mni_coords'] initialized.\n",
      "\n"
     ]
    }
   ],
   "source": [
    "# Simon Path IO\n",
    "\n",
    "data_dir = '../../data_dir'\n",
    "os.chdir(data_dir)\n",
    "Nsaba.aba_load()\n",
    "Nsaba.ns_load()"
   ]
  },
  {
   "cell_type": "code",
   "execution_count": 6,
   "metadata": {
    "collapsed": false
   },
   "outputs": [
    {
     "name": "stdout",
     "output_type": "stream",
     "text": [
      "This may take a minute or two ...\n",
      "'ge' dictionary successfully loaded\n"
     ]
    }
   ],
   "source": [
    "# Loading gene expression for all ABA registered Entrez IDs.\n",
    "A = Nsaba()\n",
    "A.load_ge_pickle('Nsaba_ABA_ge.pkl')"
   ]
  },
  {
   "cell_type": "code",
   "execution_count": 7,
   "metadata": {
    "collapsed": false
   },
   "outputs": [],
   "source": [
    "entrids = [1813,1816]\n",
    "A.est_aba_ge(entrids)"
   ]
  },
  {
   "cell_type": "code",
   "execution_count": 8,
   "metadata": {
    "collapsed": false
   },
   "outputs": [
    {
     "name": "stdout",
     "output_type": "stream",
     "text": [
      "CPU times: user 2.2 s, sys: 233 ms, total: 2.43 s\n",
      "Wall time: 2.48 s\n"
     ]
    }
   ],
   "source": [
    "%time A.est_ns_act('attention')\n",
    "A.est_ns_act('reward')"
   ]
  },
  {
   "cell_type": "code",
   "execution_count": 10,
   "metadata": {
    "collapsed": false
   },
   "outputs": [
    {
     "data": {
      "text/plain": [
       "array([ 0.53195243,  0.71901029,  0.62738444,  0.68786718,  0.60710342,\n",
       "        0.54278858,  0.52091298,  0.55144109,  0.44188912,  0.56045267,\n",
       "        0.52110638,  0.59955231,  0.86670357,  0.60604761,  0.59571993,\n",
       "        0.5618057 ,  0.54795856,  0.59834501,  0.7222495 ,  0.79880423,\n",
       "        0.59955231,  0.9278288 ,  0.5853057 ,  0.54963733,  0.54451312,\n",
       "        0.55576765,  0.75263454,  0.70201724,  0.60133307,  0.70551149,\n",
       "        0.51447634,  0.50760902,  0.78952273,  0.54431862,  0.59158027,\n",
       "        0.63677844,  0.54677302,  0.4894527 ,  0.57069322,  0.54508108,\n",
       "        0.45988252,  0.55713287,  0.5959749 ,  0.51486909,  0.55549998,\n",
       "        0.50406268,  0.54243879,  0.74506107,  0.56773107,  0.54685921])"
      ]
     },
     "execution_count": 10,
     "metadata": {},
     "output_type": "execute_result"
    }
   ],
   "source": [
    "coords = [(np.random.uniform(-50,50), np.random.uniform(-50,50), np.random.uniform(-50,50)) for _ in range(50)]\n",
    "A.ge_ratio(entrids, np.array(coords))"
   ]
  },
  {
   "cell_type": "markdown",
   "metadata": {},
   "source": [
    "## Visualization Methods (testing)"
   ]
  },
  {
   "cell_type": "code",
   "execution_count": null,
   "metadata": {
    "collapsed": true
   },
   "outputs": [],
   "source": [
    "NV = NsabaVisualizer(A)"
   ]
  },
  {
   "cell_type": "code",
   "execution_count": null,
   "metadata": {
    "collapsed": false
   },
   "outputs": [],
   "source": [
    "NV.visualize_ge([1813])"
   ]
  },
  {
   "cell_type": "code",
   "execution_count": null,
   "metadata": {
    "collapsed": false
   },
   "outputs": [],
   "source": [
    "NV.visualize_ns('attention', alpha=.3)"
   ]
  },
  {
   "cell_type": "code",
   "execution_count": null,
   "metadata": {
    "collapsed": false
   },
   "outputs": [],
   "source": [
    "NV.lstsq_ns_ge('attention', [1813]);"
   ]
  },
  {
   "cell_type": "code",
   "execution_count": null,
   "metadata": {
    "collapsed": false
   },
   "outputs": [],
   "source": [
    "NV.lstsq_ge_ge(1813, 1816);"
   ]
  },
  {
   "cell_type": "code",
   "execution_count": null,
   "metadata": {
    "collapsed": false
   },
   "outputs": [],
   "source": [
    "NV.lstsq_ns_ns('attention', 'reward');"
   ]
  },
  {
   "cell_type": "code",
   "execution_count": null,
   "metadata": {
    "collapsed": false
   },
   "outputs": [],
   "source": [
    "A.make_ge_ns_mat('reward', [1813,1816,733]);"
   ]
  },
  {
   "cell_type": "code",
   "execution_count": null,
   "metadata": {
    "collapsed": true
   },
   "outputs": [],
   "source": []
  }
 ],
 "metadata": {
  "kernelspec": {
   "display_name": "Python 2",
   "language": "python",
   "name": "python2"
  }
 },
 "nbformat": 4,
 "nbformat_minor": 0
}
