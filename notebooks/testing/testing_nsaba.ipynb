{
 "cells": [
  {
   "cell_type": "markdown",
   "metadata": {},
   "source": [
    "# Testing Nsaba Functionality\n",
    "\n",
    "##### Current Methods\n",
    "- est_aba_ge()\n",
    "- ge_ratio()\n",
    "- est_ns_act()\n",
    "- make_ge_ns_mat()\n",
    "\n",
    "NsabaVisualizer methods also tested."
   ]
  },
  {
   "cell_type": "code",
   "execution_count": 1,
   "metadata": {
    "collapsed": false
   },
   "outputs": [],
   "source": [
    "from nsaba.nsaba import Nsaba\n",
    "from nsaba.nsaba.visualizer import NsabaVisualizer\n",
    "import numpy as np\n",
    "import os\n",
    "import matplotlib.pyplot as plt\n",
    "import pandas as pd\n",
    "import itertools\n",
    "%matplotlib inline\n",
    "%config InlineBackend.figure_format = 'retina'"
   ]
  },
  {
   "cell_type": "code",
   "execution_count": 2,
   "metadata": {
    "collapsed": false
   },
   "outputs": [],
   "source": [
    "%load_ext line_profiler"
   ]
  },
  {
   "cell_type": "code",
   "execution_count": 3,
   "metadata": {
    "collapsed": false
   },
   "outputs": [
    {
     "name": "stdout",
     "output_type": "stream",
     "text": [
      "This may take a minute or two ...\n",
      "SampleAnnot.csv loaded.\n",
      "MicroarrayExpression.csv loaded.\n",
      "Probes.csv loaded.\n",
      "Nsaba.aba['mni_coords'] initialized.\n",
      "\n",
      "This may take a minute or two ...\n",
      "database.txt loaded.\n",
      "features.txt loaded.\n",
      "Nsaba.ns['mni_coords'] initialized.\n",
      "\n"
     ]
    }
   ],
   "source": [
    "# Simon Path IO\n",
    "\n",
    "data_dir = '../../data_dir'\n",
    "os.chdir(data_dir)\n",
    "Nsaba.aba_load()\n",
    "Nsaba.ns_load()"
   ]
  },
  {
   "cell_type": "code",
   "execution_count": 6,
   "metadata": {
    "collapsed": false
   },
   "outputs": [],
   "source": [
    "# Loading gene expression for all ABA registered Entrez IDs.\n",
    "A = Nsaba()\n",
    "# A.load_ge_pickle('Nsaba_ABA_ge.pkl')"
   ]
  },
  {
   "cell_type": "code",
   "execution_count": 24,
   "metadata": {
    "collapsed": false
   },
   "outputs": [
    {
     "data": {
      "text/plain": [
       "array([        nan,  0.46101267,         nan,         nan,         nan,\n",
       "        1.29863454,  0.46767585,  0.54803596,  0.5424098 ,  0.6102441 ,\n",
       "               nan,  1.25713839,  0.50261043,  0.72005311,  0.61401404,\n",
       "        0.55603219,  0.53315377,         nan,         nan,         nan,\n",
       "        0.47466528,  0.57446139,  0.51203572,  0.74924179,  1.13694337,\n",
       "               nan,         nan,         nan,  0.518115  ,  0.46028177,\n",
       "        0.59801775,  0.74915265,  0.59348125,         nan,  0.64046317,\n",
       "               nan,  0.49174621,         nan,         nan,  0.54735262,\n",
       "               nan,         nan,  0.61095538,         nan,         nan,\n",
       "               nan,  0.49135148,  0.51203572,  0.52147863,  1.08939184])"
      ]
     },
     "execution_count": 24,
     "metadata": {},
     "output_type": "execute_result"
    }
   ],
   "source": [
    "entrids = [1813,1816]\n",
    "coords = [(np.random.uniform(-50,50), np.random.uniform(-50,50), np.random.uniform(-50,50)) for _ in range(50)]\n",
    "A.ge_ratio(entrids, np.array(coords), rnn_args={'radius':10})"
   ]
  },
  {
   "cell_type": "code",
   "execution_count": 25,
   "metadata": {
    "collapsed": false
   },
   "outputs": [],
   "source": [
    "entrids = [1813,1816]\n",
    "A.estimate_aba_ge(entrids, coords=coords, radius=5)"
   ]
  },
  {
   "cell_type": "code",
   "execution_count": 26,
   "metadata": {
    "collapsed": false
   },
   "outputs": [
    {
     "data": {
      "text/plain": [
       "{'GE': array([        nan,         nan,         nan,         nan,         nan,\n",
       "                nan,         nan,  3.30760913,         nan,         nan,\n",
       "                nan,         nan,         nan,         nan,         nan,\n",
       "                nan,         nan,         nan,         nan,         nan,\n",
       "                nan,         nan,         nan,         nan,         nan,\n",
       "                nan,         nan,         nan,  2.02509563,         nan,\n",
       "                nan,  4.02299513,         nan,         nan,         nan,\n",
       "                nan,         nan,         nan,         nan,         nan,\n",
       "                nan,         nan,  2.76059745,         nan,         nan,\n",
       "                nan,         nan,         nan,         nan,         nan]),\n",
       " 'classifer': RadiusNeighborsRegressor(algorithm='auto', leaf_size=30, metric='minkowski',\n",
       "              metric_params=None, p=2, radius=5, weights='uniform')}"
      ]
     },
     "execution_count": 26,
     "metadata": {},
     "output_type": "execute_result"
    }
   ],
   "source": [
    "A.ge[1813][1030282]"
   ]
  },
  {
   "cell_type": "code",
   "execution_count": 30,
   "metadata": {
    "collapsed": false
   },
   "outputs": [
    {
     "data": {
      "text/plain": [
       "{'GE': array([        nan,         nan,         nan,         nan,         nan,\n",
       "                nan,         nan,  3.40855287,         nan,         nan,\n",
       "                nan,         nan,         nan,         nan,         nan,\n",
       "                nan,         nan,         nan,         nan,         nan,\n",
       "                nan,         nan,         nan,         nan,         nan,\n",
       "                nan,         nan,         nan,  3.10039167,         nan,\n",
       "                nan,  5.74378313,         nan,         nan,         nan,\n",
       "                nan,         nan,         nan,         nan,         nan,\n",
       "                nan,         nan,  3.36705027,         nan,         nan,\n",
       "                nan,         nan,         nan,         nan,         nan]),\n",
       " 'classifer': RadiusNeighborsRegressor(algorithm='auto', leaf_size=30, metric='minkowski',\n",
       "              metric_params=None, p=2, radius=5, weights='uniform')}"
      ]
     },
     "execution_count": 30,
     "metadata": {},
     "output_type": "execute_result"
    }
   ],
   "source": [
    "A.ge[1813][\"mean\"]"
   ]
  },
  {
   "cell_type": "code",
   "execution_count": null,
   "metadata": {
    "collapsed": false
   },
   "outputs": [],
   "source": [
    "%time A.estimate_ns_act('attention')\n",
    "A.estimate_ns_act('reward')"
   ]
  },
  {
   "cell_type": "markdown",
   "metadata": {},
   "source": [
    "## Visualization Methods (testing)"
   ]
  },
  {
   "cell_type": "code",
   "execution_count": 32,
   "metadata": {
    "collapsed": true
   },
   "outputs": [],
   "source": [
    "NV = NsabaVisualizer(A)"
   ]
  },
  {
   "cell_type": "code",
   "execution_count": 33,
   "metadata": {
    "collapsed": false
   },
   "outputs": [
    {
     "data": {
      "text/plain": [
       "array([        nan,         nan,         nan,         nan,         nan,\n",
       "               nan,         nan,  3.40855287,         nan,         nan,\n",
       "               nan,         nan,         nan,         nan,         nan,\n",
       "               nan,         nan,         nan,         nan,         nan,\n",
       "               nan,         nan,         nan,         nan,         nan,\n",
       "               nan,         nan,         nan,  3.10039167,         nan,\n",
       "               nan,  5.74378313,         nan,         nan,         nan,\n",
       "               nan,         nan,         nan,         nan,         nan,\n",
       "               nan,         nan,  3.36705027,         nan,         nan,\n",
       "               nan,         nan,         nan,         nan,         nan])"
      ]
     },
     "execution_count": 33,
     "metadata": {},
     "output_type": "execute_result"
    }
   ],
   "source": [
    "A.ge[1813][\"mean\"][\"GE\"]"
   ]
  },
  {
   "cell_type": "code",
   "execution_count": null,
   "metadata": {
    "collapsed": false
   },
   "outputs": [
    {
     "name": "stdout",
     "output_type": "stream",
     "text": [
      "NOTE: Enter 'c' at the ipdb>  prompt to continue execution.\n",
      "> \u001b[0;32m<string>\u001b[0m(1)\u001b[0;36m<module>\u001b[0;34m()\u001b[0m\n",
      "\n",
      "ipdb> s\n",
      "--Call--\n",
      "> \u001b[0;32m/Users/simonhaxby/Code/Python/nsaba/nsaba/visualizer.py\u001b[0m(24)\u001b[0;36mvisualize_ge\u001b[0;34m()\u001b[0m\n",
      "\u001b[0;32m     23 \u001b[0;31m\u001b[0;34m\u001b[0m\u001b[0m\n",
      "\u001b[0m\u001b[0;32m---> 24 \u001b[0;31m    \u001b[0;32mdef\u001b[0m \u001b[0mvisualize_ge\u001b[0m\u001b[0;34m(\u001b[0m\u001b[0mself\u001b[0m\u001b[0;34m,\u001b[0m \u001b[0mgene\u001b[0m\u001b[0;34m,\u001b[0m \u001b[0malpha\u001b[0m\u001b[0;34m=\u001b[0m\u001b[0;36m0.4\u001b[0m\u001b[0;34m)\u001b[0m\u001b[0;34m:\u001b[0m\u001b[0;34m\u001b[0m\u001b[0m\n",
      "\u001b[0m\u001b[0;32m     25 \u001b[0;31m        \"\"\"\n",
      "\u001b[0m\n",
      "ipdb> n\n",
      "> \u001b[0;32m/Users/simonhaxby/Code/Python/nsaba/nsaba/visualizer.py\u001b[0m(36)\u001b[0;36mvisualize_ge\u001b[0;34m()\u001b[0m\n",
      "\u001b[0;32m     35 \u001b[0;31m        \"\"\"\n",
      "\u001b[0m\u001b[0;32m---> 36 \u001b[0;31m        \u001b[0;32mfor\u001b[0m \u001b[0me\u001b[0m \u001b[0;32min\u001b[0m \u001b[0mgene\u001b[0m\u001b[0;34m:\u001b[0m\u001b[0;34m\u001b[0m\u001b[0m\n",
      "\u001b[0m\u001b[0;32m     37 \u001b[0;31m            \u001b[0;32mif\u001b[0m \u001b[0me\u001b[0m \u001b[0;32min\u001b[0m \u001b[0mself\u001b[0m\u001b[0;34m.\u001b[0m\u001b[0mno\u001b[0m\u001b[0;34m.\u001b[0m\u001b[0mge\u001b[0m\u001b[0;34m:\u001b[0m\u001b[0;34m\u001b[0m\u001b[0m\n",
      "\u001b[0m\n",
      "ipdb> n\n",
      "> \u001b[0;32m/Users/simonhaxby/Code/Python/nsaba/nsaba/visualizer.py\u001b[0m(37)\u001b[0;36mvisualize_ge\u001b[0;34m()\u001b[0m\n",
      "\u001b[0;32m     36 \u001b[0;31m        \u001b[0;32mfor\u001b[0m \u001b[0me\u001b[0m \u001b[0;32min\u001b[0m \u001b[0mgene\u001b[0m\u001b[0;34m:\u001b[0m\u001b[0;34m\u001b[0m\u001b[0m\n",
      "\u001b[0m\u001b[0;32m---> 37 \u001b[0;31m            \u001b[0;32mif\u001b[0m \u001b[0me\u001b[0m \u001b[0;32min\u001b[0m \u001b[0mself\u001b[0m\u001b[0;34m.\u001b[0m\u001b[0mno\u001b[0m\u001b[0;34m.\u001b[0m\u001b[0mge\u001b[0m\u001b[0;34m:\u001b[0m\u001b[0;34m\u001b[0m\u001b[0m\n",
      "\u001b[0m\u001b[0;32m     38 \u001b[0;31m                \u001b[0mfig\u001b[0m \u001b[0;34m=\u001b[0m \u001b[0mplt\u001b[0m\u001b[0;34m.\u001b[0m\u001b[0mfigure\u001b[0m\u001b[0;34m(\u001b[0m\u001b[0;34m)\u001b[0m\u001b[0;34m\u001b[0m\u001b[0m\n",
      "\u001b[0m\n",
      "ipdb> n\n",
      "> \u001b[0;32m/Users/simonhaxby/Code/Python/nsaba/nsaba/visualizer.py\u001b[0m(38)\u001b[0;36mvisualize_ge\u001b[0;34m()\u001b[0m\n",
      "\u001b[0;32m     37 \u001b[0;31m            \u001b[0;32mif\u001b[0m \u001b[0me\u001b[0m \u001b[0;32min\u001b[0m \u001b[0mself\u001b[0m\u001b[0;34m.\u001b[0m\u001b[0mno\u001b[0m\u001b[0;34m.\u001b[0m\u001b[0mge\u001b[0m\u001b[0;34m:\u001b[0m\u001b[0;34m\u001b[0m\u001b[0m\n",
      "\u001b[0m\u001b[0;32m---> 38 \u001b[0;31m                \u001b[0mfig\u001b[0m \u001b[0;34m=\u001b[0m \u001b[0mplt\u001b[0m\u001b[0;34m.\u001b[0m\u001b[0mfigure\u001b[0m\u001b[0;34m(\u001b[0m\u001b[0;34m)\u001b[0m\u001b[0;34m\u001b[0m\u001b[0m\n",
      "\u001b[0m\u001b[0;32m     39 \u001b[0;31m                \u001b[0max\u001b[0m \u001b[0;34m=\u001b[0m \u001b[0mfig\u001b[0m\u001b[0;34m.\u001b[0m\u001b[0madd_subplot\u001b[0m\u001b[0;34m(\u001b[0m\u001b[0;36m111\u001b[0m\u001b[0;34m,\u001b[0m \u001b[0mprojection\u001b[0m\u001b[0;34m=\u001b[0m\u001b[0;34m'3d'\u001b[0m\u001b[0;34m)\u001b[0m\u001b[0;34m\u001b[0m\u001b[0m\n",
      "\u001b[0m\n",
      "ipdb> p e\n",
      "1813\n",
      "ipdb> n\n",
      "> \u001b[0;32m/Users/simonhaxby/Code/Python/nsaba/nsaba/visualizer.py\u001b[0m(39)\u001b[0;36mvisualize_ge\u001b[0;34m()\u001b[0m\n",
      "\u001b[0;32m     38 \u001b[0;31m                \u001b[0mfig\u001b[0m \u001b[0;34m=\u001b[0m \u001b[0mplt\u001b[0m\u001b[0;34m.\u001b[0m\u001b[0mfigure\u001b[0m\u001b[0;34m(\u001b[0m\u001b[0;34m)\u001b[0m\u001b[0;34m\u001b[0m\u001b[0m\n",
      "\u001b[0m\u001b[0;32m---> 39 \u001b[0;31m                \u001b[0max\u001b[0m \u001b[0;34m=\u001b[0m \u001b[0mfig\u001b[0m\u001b[0;34m.\u001b[0m\u001b[0madd_subplot\u001b[0m\u001b[0;34m(\u001b[0m\u001b[0;36m111\u001b[0m\u001b[0;34m,\u001b[0m \u001b[0mprojection\u001b[0m\u001b[0;34m=\u001b[0m\u001b[0;34m'3d'\u001b[0m\u001b[0;34m)\u001b[0m\u001b[0;34m\u001b[0m\u001b[0m\n",
      "\u001b[0m\u001b[0;32m     40 \u001b[0;31m                \u001b[0mweights\u001b[0m \u001b[0;34m=\u001b[0m \u001b[0mself\u001b[0m\u001b[0;34m.\u001b[0m\u001b[0mno\u001b[0m\u001b[0;34m.\u001b[0m\u001b[0mge\u001b[0m\u001b[0;34m[\u001b[0m\u001b[0me\u001b[0m\u001b[0;34m]\u001b[0m\u001b[0;34m[\u001b[0m\u001b[0;34m\"mean\"\u001b[0m\u001b[0;34m]\u001b[0m\u001b[0;34m[\u001b[0m\u001b[0;34m'GE'\u001b[0m\u001b[0;34m]\u001b[0m\u001b[0;34m\u001b[0m\u001b[0m\n",
      "\u001b[0m\n",
      "ipdb> n\n",
      "> \u001b[0;32m/Users/simonhaxby/Code/Python/nsaba/nsaba/visualizer.py\u001b[0m(40)\u001b[0;36mvisualize_ge\u001b[0;34m()\u001b[0m\n",
      "\u001b[0;32m     39 \u001b[0;31m                \u001b[0max\u001b[0m \u001b[0;34m=\u001b[0m \u001b[0mfig\u001b[0m\u001b[0;34m.\u001b[0m\u001b[0madd_subplot\u001b[0m\u001b[0;34m(\u001b[0m\u001b[0;36m111\u001b[0m\u001b[0;34m,\u001b[0m \u001b[0mprojection\u001b[0m\u001b[0;34m=\u001b[0m\u001b[0;34m'3d'\u001b[0m\u001b[0;34m)\u001b[0m\u001b[0;34m\u001b[0m\u001b[0m\n",
      "\u001b[0m\u001b[0;32m---> 40 \u001b[0;31m                \u001b[0mweights\u001b[0m \u001b[0;34m=\u001b[0m \u001b[0mself\u001b[0m\u001b[0;34m.\u001b[0m\u001b[0mno\u001b[0m\u001b[0;34m.\u001b[0m\u001b[0mge\u001b[0m\u001b[0;34m[\u001b[0m\u001b[0me\u001b[0m\u001b[0;34m]\u001b[0m\u001b[0;34m[\u001b[0m\u001b[0;34m\"mean\"\u001b[0m\u001b[0;34m]\u001b[0m\u001b[0;34m[\u001b[0m\u001b[0;34m'GE'\u001b[0m\u001b[0;34m]\u001b[0m\u001b[0;34m\u001b[0m\u001b[0m\n",
      "\u001b[0m\u001b[0;32m     41 \u001b[0;31m                \u001b[0mcolors\u001b[0m \u001b[0;34m=\u001b[0m \u001b[0mcm\u001b[0m\u001b[0;34m.\u001b[0m\u001b[0mjet\u001b[0m\u001b[0;34m(\u001b[0m\u001b[0mweights\u001b[0m\u001b[0;34m/\u001b[0m\u001b[0mmax\u001b[0m\u001b[0;34m(\u001b[0m\u001b[0mweights\u001b[0m\u001b[0;34m)\u001b[0m\u001b[0;34m)\u001b[0m\u001b[0;34m\u001b[0m\u001b[0m\n",
      "\u001b[0m\n",
      "ipdb> p self.no.ge\n",
      "{1816: {1057496: {'GE': array([        nan,         nan,         nan,         nan,         nan,\n",
      "               nan,         nan,  7.63404982,         nan,         nan,\n",
      "               nan,         nan,         nan,         nan,         nan,\n",
      "               nan,         nan,         nan,         nan,         nan,\n",
      "               nan,         nan,         nan,         nan,         nan,\n",
      "               nan,         nan,         nan,  7.30652235,         nan,\n",
      "               nan,  6.16070636,         nan,         nan,         nan,\n",
      "               nan,         nan,         nan,         nan,         nan,\n",
      "               nan,         nan,  6.76689957,         nan,         nan,\n",
      "               nan,         nan,         nan,         nan,         nan]), 'classifer': RadiusNeighborsRegressor(algorithm='auto', leaf_size=30, metric='minkowski',\n",
      "             metric_params=None, p=2, radius=5, weights='uniform')}, 1057497: {'GE': array([        nan,         nan,         nan,         nan,         nan,\n",
      "               nan,         nan,  6.20937211,         nan,         nan,\n",
      "               nan,         nan,         nan,         nan,         nan,\n",
      "               nan,         nan,         nan,         nan,         nan,\n",
      "               nan,         nan,         nan,         nan,         nan,\n",
      "               nan,         nan,         nan,  6.09210848,         nan,\n",
      "               nan,  4.35054658,         nan,         nan,         nan,\n",
      "               nan,         nan,         nan,         nan,         nan,\n",
      "               nan,         nan,  5.29679659,         nan,         nan,\n",
      "               nan,         nan,         nan,         nan,         nan]), 'classifer': RadiusNeighborsRegressor(algorithm='auto', leaf_size=30, metric='minkowski',\n",
      "             metric_params=None, p=2, radius=5, weights='uniform')}, 'mean': {'GE': array([        nan,         nan,         nan,         nan,         nan,\n",
      "               nan,         nan,  6.21957883,         nan,         nan,\n",
      "               nan,         nan,         nan,         nan,         nan,\n",
      "               nan,         nan,         nan,         nan,         nan,\n",
      "               nan,         nan,         nan,         nan,         nan,\n",
      "               nan,         nan,         nan,  6.00449008,         nan,\n",
      "               nan,  4.63322754,         nan,         nan,         nan,\n",
      "               nan,         nan,         nan,         nan,         nan,\n",
      "               nan,         nan,  5.2749435 ,         nan,         nan,\n",
      "               nan,         nan,         nan,         nan,         nan]), 'classifer': RadiusNeighborsRegressor(algorithm='auto', leaf_size=30, metric='minkowski',\n",
      "             metric_params=None, p=2, radius=5, weights='uniform')}, 'coord_type': 'Custom', 1057503: {'GE': array([        nan,         nan,         nan,         nan,         nan,\n",
      "               nan,         nan,  4.81531456,         nan,         nan,\n",
      "               nan,         nan,         nan,         nan,         nan,\n",
      "               nan,         nan,         nan,         nan,         nan,\n",
      "               nan,         nan,         nan,         nan,         nan,\n",
      "               nan,         nan,         nan,  4.6148394 ,         nan,\n",
      "               nan,  3.38842969,         nan,         nan,         nan,\n",
      "               nan,         nan,         nan,         nan,         nan,\n",
      "               nan,         nan,  3.76113434,         nan,         nan,\n",
      "               nan,         nan,         nan,         nan,         nan]), 'classifer': RadiusNeighborsRegressor(algorithm='auto', leaf_size=30, metric='minkowski',\n",
      "             metric_params=None, p=2, radius=5, weights='uniform')}}, 1813: {1057544: {'GE': array([        nan,         nan,         nan,         nan,         nan,\n",
      "               nan,         nan,  1.37169197,         nan,         nan,\n",
      "               nan,         nan,         nan,         nan,         nan,\n",
      "               nan,         nan,         nan,         nan,         nan,\n",
      "               nan,         nan,         nan,         nan,         nan,\n",
      "               nan,         nan,         nan,  2.0081685 ,         nan,\n",
      "               nan,  3.97330938,         nan,         nan,         nan,\n",
      "               nan,         nan,         nan,         nan,         nan,\n",
      "               nan,         nan,  1.32464917,         nan,         nan,\n",
      "               nan,         nan,         nan,         nan,         nan]), 'classifer': RadiusNeighborsRegressor(algorithm='auto', leaf_size=30, metric='minkowski',\n",
      "             metric_params=None, p=2, radius=5, weights='uniform')}, 1030282: {'GE': array([        nan,         nan,         nan,         nan,         nan,\n",
      "               nan,         nan,  3.30760913,         nan,         nan,\n",
      "               nan,         nan,         nan,         nan,         nan,\n",
      "               nan,         nan,         nan,         nan,         nan,\n",
      "               nan,         nan,         nan,         nan,         nan,\n",
      "               nan,         nan,         nan,  2.02509563,         nan,\n",
      "               nan,  4.02299513,         nan,         nan,         nan,\n",
      "               nan,         nan,         nan,         nan,         nan,\n",
      "               nan,         nan,  2.76059745,         nan,         nan,\n",
      "               nan,         nan,         nan,         nan,         nan]), 'classifer': RadiusNeighborsRegressor(algorithm='auto', leaf_size=30, metric='minkowski',\n",
      "             metric_params=None, p=2, radius=5, weights='uniform')}, 1030280: {'GE': array([        nan,         nan,         nan,         nan,         nan,\n",
      "               nan,         nan,  4.95390566,         nan,         nan,\n",
      "               nan,         nan,         nan,         nan,         nan,\n",
      "               nan,         nan,         nan,         nan,         nan,\n",
      "               nan,         nan,         nan,         nan,         nan,\n",
      "               nan,         nan,         nan,  4.09202217,         nan,\n",
      "               nan,  6.88007476,         nan,         nan,         nan,\n",
      "               nan,         nan,         nan,         nan,         nan,\n",
      "               nan,         nan,  5.22409442,         nan,         nan,\n",
      "               nan,         nan,         nan,         nan,         nan]), 'classifer': RadiusNeighborsRegressor(algorithm='auto', leaf_size=30, metric='minkowski',\n",
      "             metric_params=None, p=2, radius=5, weights='uniform')}, 1030291: {'GE': array([        nan,         nan,         nan,         nan,         nan,\n",
      "               nan,         nan,  1.27904901,         nan,         nan,\n",
      "               nan,         nan,         nan,         nan,         nan,\n",
      "               nan,         nan,         nan,         nan,         nan,\n",
      "               nan,         nan,         nan,         nan,         nan,\n",
      "               nan,         nan,         nan,  1.76103905,         nan,\n",
      "               nan,  3.56552742,         nan,         nan,         nan,\n",
      "               nan,         nan,         nan,         nan,         nan,\n",
      "               nan,         nan,  1.86965569,         nan,         nan,\n",
      "               nan,         nan,         nan,         nan,         nan]), 'classifer': RadiusNeighborsRegressor(algorithm='auto', leaf_size=30, metric='minkowski',\n",
      "             metric_params=None, p=2, radius=5, weights='uniform')}, 'coord_type': 'Custom', 1030267: {'GE': array([         nan,          nan,          nan,          nan,\n",
      "                nan,          nan,          nan,   6.13050858,\n",
      "                nan,          nan,          nan,          nan,\n",
      "                nan,          nan,          nan,          nan,\n",
      "                nan,          nan,          nan,          nan,\n",
      "                nan,          nan,          nan,          nan,\n",
      "                nan,          nan,          nan,          nan,\n",
      "         5.61563304,          nan,          nan,  10.27700898,\n",
      "                nan,          nan,          nan,          nan,\n",
      "                nan,          nan,          nan,          nan,\n",
      "                nan,          nan,   5.65625465,          nan,\n",
      "                nan,          nan,          nan,          nan,\n",
      "                nan,          nan]), 'classifer': RadiusNeighborsRegressor(algorithm='auto', leaf_size=30, metric='minkowski',\n",
      "             metric_params=None, p=2, radius=5, weights='uniform')}, 'mean': {'GE': array([        nan,         nan,         nan,         nan,         nan,\n",
      "               nan,         nan,  3.40855287,         nan,         nan,\n",
      "               nan,         nan,         nan,         nan,         nan,\n",
      "               nan,         nan,         nan,         nan,         nan,\n",
      "               nan,         nan,         nan,         nan,         nan,\n",
      "               nan,         nan,         nan,  3.10039167,         nan,\n",
      "               nan,  5.74378313,         nan,         nan,         nan,\n",
      "               nan,         nan,         nan,         nan,         nan,\n",
      "               nan,         nan,  3.36705027,         nan,         nan,\n",
      "               nan,         nan,         nan,         nan,         nan]), 'classifer': RadiusNeighborsRegressor(algorithm='auto', leaf_size=30, metric='minkowski',\n",
      "             metric_params=None, p=2, radius=5, weights='uniform')}}}\n",
      "ipdb> p self.no.ge[e][\"mean\"]\n",
      "{'GE': array([        nan,         nan,         nan,         nan,         nan,\n",
      "               nan,         nan,  3.40855287,         nan,         nan,\n",
      "               nan,         nan,         nan,         nan,         nan,\n",
      "               nan,         nan,         nan,         nan,         nan,\n",
      "               nan,         nan,         nan,         nan,         nan,\n",
      "               nan,         nan,         nan,  3.10039167,         nan,\n",
      "               nan,  5.74378313,         nan,         nan,         nan,\n",
      "               nan,         nan,         nan,         nan,         nan,\n",
      "               nan,         nan,  3.36705027,         nan,         nan,\n",
      "               nan,         nan,         nan,         nan,         nan]), 'classifer': RadiusNeighborsRegressor(algorithm='auto', leaf_size=30, metric='minkowski',\n",
      "             metric_params=None, p=2, radius=5, weights='uniform')}\n",
      "ipdb> n\n",
      "KeyError: ('GE',)\n",
      "> \u001b[0;32m/Users/simonhaxby/Code/Python/nsaba/nsaba/visualizer.py\u001b[0m(40)\u001b[0;36mvisualize_ge\u001b[0;34m()\u001b[0m\n",
      "\u001b[0;32m     39 \u001b[0;31m                \u001b[0max\u001b[0m \u001b[0;34m=\u001b[0m \u001b[0mfig\u001b[0m\u001b[0;34m.\u001b[0m\u001b[0madd_subplot\u001b[0m\u001b[0;34m(\u001b[0m\u001b[0;36m111\u001b[0m\u001b[0;34m,\u001b[0m \u001b[0mprojection\u001b[0m\u001b[0;34m=\u001b[0m\u001b[0;34m'3d'\u001b[0m\u001b[0;34m)\u001b[0m\u001b[0;34m\u001b[0m\u001b[0m\n",
      "\u001b[0m\u001b[0;32m---> 40 \u001b[0;31m                \u001b[0mweights\u001b[0m \u001b[0;34m=\u001b[0m \u001b[0mself\u001b[0m\u001b[0;34m.\u001b[0m\u001b[0mno\u001b[0m\u001b[0;34m.\u001b[0m\u001b[0mge\u001b[0m\u001b[0;34m[\u001b[0m\u001b[0me\u001b[0m\u001b[0;34m]\u001b[0m\u001b[0;34m[\u001b[0m\u001b[0;34m\"mean\"\u001b[0m\u001b[0;34m]\u001b[0m\u001b[0;34m[\u001b[0m\u001b[0;34m'GE'\u001b[0m\u001b[0;34m]\u001b[0m\u001b[0;34m\u001b[0m\u001b[0m\n",
      "\u001b[0m\u001b[0;32m     41 \u001b[0;31m                \u001b[0mcolors\u001b[0m \u001b[0;34m=\u001b[0m \u001b[0mcm\u001b[0m\u001b[0;34m.\u001b[0m\u001b[0mjet\u001b[0m\u001b[0;34m(\u001b[0m\u001b[0mweights\u001b[0m\u001b[0;34m/\u001b[0m\u001b[0mmax\u001b[0m\u001b[0;34m(\u001b[0m\u001b[0mweights\u001b[0m\u001b[0;34m)\u001b[0m\u001b[0;34m)\u001b[0m\u001b[0;34m\u001b[0m\u001b[0m\n",
      "\u001b[0m\n",
      "ipdb> p self.no.ge[e][\"mean\"]['GE']\n",
      "array([        nan,         nan,         nan,         nan,         nan,\n",
      "               nan,         nan,  3.40855287,         nan,         nan,\n",
      "               nan,         nan,         nan,         nan,         nan,\n",
      "               nan,         nan,         nan,         nan,         nan,\n",
      "               nan,         nan,         nan,         nan,         nan,\n",
      "               nan,         nan,         nan,  3.10039167,         nan,\n",
      "               nan,  5.74378313,         nan,         nan,         nan,\n",
      "               nan,         nan,         nan,         nan,         nan,\n",
      "               nan,         nan,  3.36705027,         nan,         nan,\n",
      "               nan,         nan,         nan,         nan,         nan])\n",
      "ipdb> n\n",
      "--Return--\n",
      "None\n",
      "> \u001b[0;32m/Users/simonhaxby/Code/Python/nsaba/nsaba/visualizer.py\u001b[0m(40)\u001b[0;36mvisualize_ge\u001b[0;34m()\u001b[0m\n",
      "\u001b[0;32m     39 \u001b[0;31m                \u001b[0max\u001b[0m \u001b[0;34m=\u001b[0m \u001b[0mfig\u001b[0m\u001b[0;34m.\u001b[0m\u001b[0madd_subplot\u001b[0m\u001b[0;34m(\u001b[0m\u001b[0;36m111\u001b[0m\u001b[0;34m,\u001b[0m \u001b[0mprojection\u001b[0m\u001b[0;34m=\u001b[0m\u001b[0;34m'3d'\u001b[0m\u001b[0;34m)\u001b[0m\u001b[0;34m\u001b[0m\u001b[0m\n",
      "\u001b[0m\u001b[0;32m---> 40 \u001b[0;31m                \u001b[0mweights\u001b[0m \u001b[0;34m=\u001b[0m \u001b[0mself\u001b[0m\u001b[0;34m.\u001b[0m\u001b[0mno\u001b[0m\u001b[0;34m.\u001b[0m\u001b[0mge\u001b[0m\u001b[0;34m[\u001b[0m\u001b[0me\u001b[0m\u001b[0;34m]\u001b[0m\u001b[0;34m[\u001b[0m\u001b[0;34m\"mean\"\u001b[0m\u001b[0;34m]\u001b[0m\u001b[0;34m[\u001b[0m\u001b[0;34m'GE'\u001b[0m\u001b[0;34m]\u001b[0m\u001b[0;34m\u001b[0m\u001b[0m\n",
      "\u001b[0m\u001b[0;32m     41 \u001b[0;31m                \u001b[0mcolors\u001b[0m \u001b[0;34m=\u001b[0m \u001b[0mcm\u001b[0m\u001b[0;34m.\u001b[0m\u001b[0mjet\u001b[0m\u001b[0;34m(\u001b[0m\u001b[0mweights\u001b[0m\u001b[0;34m/\u001b[0m\u001b[0mmax\u001b[0m\u001b[0;34m(\u001b[0m\u001b[0mweights\u001b[0m\u001b[0;34m)\u001b[0m\u001b[0;34m)\u001b[0m\u001b[0;34m\u001b[0m\u001b[0m\n",
      "\u001b[0m\n",
      "ipdb> n\n",
      "KeyError: ('GE',)\n",
      "> \u001b[0;32m<string>\u001b[0m(1)\u001b[0;36m<module>\u001b[0;34m()\u001b[0m\n",
      "\n"
     ]
    }
   ],
   "source": [
    "%debug NV.visualize_ge([1813])"
   ]
  },
  {
   "cell_type": "code",
   "execution_count": null,
   "metadata": {
    "collapsed": false
   },
   "outputs": [],
   "source": [
    "NV.visualize_ns('attention', alpha=.3)"
   ]
  },
  {
   "cell_type": "code",
   "execution_count": null,
   "metadata": {
    "collapsed": false
   },
   "outputs": [],
   "source": [
    "NV.lstsq_ns_ge('attention', [1813]);"
   ]
  },
  {
   "cell_type": "code",
   "execution_count": null,
   "metadata": {
    "collapsed": false
   },
   "outputs": [],
   "source": [
    "NV.lstsq_ge_ge(1813, 1816);"
   ]
  },
  {
   "cell_type": "code",
   "execution_count": null,
   "metadata": {
    "collapsed": false
   },
   "outputs": [],
   "source": [
    "NV.lstsq_ns_ns('attention', 'reward');"
   ]
  },
  {
   "cell_type": "code",
   "execution_count": null,
   "metadata": {
    "collapsed": false
   },
   "outputs": [],
   "source": [
    "A.matrix_builder(['reward'], [1813,1816])"
   ]
  },
  {
   "cell_type": "code",
   "execution_count": null,
   "metadata": {
    "collapsed": true
   },
   "outputs": [],
   "source": []
  }
 ],
 "metadata": {
  "kernelspec": {
   "display_name": "Python 2",
   "language": "python",
   "name": "python2"
  },
  "language_info": {
   "codemirror_mode": {
    "name": "ipython",
    "version": 2
   },
   "file_extension": ".py",
   "mimetype": "text/x-python",
   "name": "python",
   "nbconvert_exporter": "python",
   "pygments_lexer": "ipython2",
   "version": "2.7.11"
  }
 },
 "nbformat": 4,
 "nbformat_minor": 0
}
