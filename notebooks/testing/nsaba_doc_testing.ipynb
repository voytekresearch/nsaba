{
 "cells": [
  {
   "cell_type": "code",
   "execution_count": 1,
   "metadata": {
    "collapsed": true
   },
   "outputs": [],
   "source": [
    "import nsaba.nsaba as na\n",
    "import numpy as np"
   ]
  },
  {
   "cell_type": "code",
   "execution_count": null,
   "metadata": {
    "collapsed": false
   },
   "outputs": [],
   "source": [
    "reload(na)"
   ]
  },
  {
   "cell_type": "code",
   "execution_count": 2,
   "metadata": {
    "collapsed": false
   },
   "outputs": [
    {
     "name": "stdout",
     "output_type": "stream",
     "text": [
      "This may take a minute or two ...\n",
      "SampleAnnot.csv loaded.\n",
      "MicroarrayExpression.csv loaded.\n",
      "Probes.csv loaded.\n",
      "Nsaba.aba['mni_coords'] initialized.\n",
      "\n",
      "This may take a minute or two ...\n",
      "database.txt loaded.\n",
      "features.txt loaded.\n",
      "Nsaba.ns['mni_coords'] initialized.\n",
      "\n",
      "This may take a minute or two ...\n"
     ]
    }
   ],
   "source": [
    "na.Nsaba.aba_load('../../data_dir')\n",
    "na.Nsaba.ns_load('../../data_dir')\n",
    "na.Nsaba.ns_load_id_dict()"
   ]
  },
  {
   "cell_type": "code",
   "execution_count": 6,
   "metadata": {
    "collapsed": true
   },
   "outputs": [],
   "source": [
    "ei = [33,1,1813,1816,100]"
   ]
  },
  {
   "cell_type": "code",
   "execution_count": 4,
   "metadata": {
    "collapsed": false
   },
   "outputs": [],
   "source": [
    "A = na.Nsaba()"
   ]
  },
  {
   "cell_type": "code",
   "execution_count": 7,
   "metadata": {
    "collapsed": false
   },
   "outputs": [],
   "source": [
    "A.get_aba_ge(ei)"
   ]
  },
  {
   "cell_type": "code",
   "execution_count": 8,
   "metadata": {
    "collapsed": false
   },
   "outputs": [
    {
     "name": "stdout",
     "output_type": "stream",
     "text": [
      "This may take a few minutes...\n"
     ]
    }
   ],
   "source": [
    "A.get_ns_act('reward')"
   ]
  },
  {
   "cell_type": "code",
   "execution_count": 17,
   "metadata": {
    "collapsed": false
   },
   "outputs": [
    {
     "data": {
      "text/plain": [
       "array([ 0.,  0.,  0., ...,  0.,  0.,  0.])"
      ]
     },
     "execution_count": 17,
     "metadata": {},
     "output_type": "execute_result"
    }
   ],
   "source": [
    "A.coord_to_ns_act((0,0,0))"
   ]
  },
  {
   "cell_type": "code",
   "execution_count": 24,
   "metadata": {
    "collapsed": false
   },
   "outputs": [
    {
     "data": {
      "text/plain": [
       "array([[ 0.,  0.]])"
      ]
     },
     "execution_count": 24,
     "metadata": {},
     "output_type": "execute_result"
    }
   ],
   "source": [
    "A.coords_to_term([(0,0,0), (1,1,1)], 'reward', 50)"
   ]
  },
  {
   "cell_type": "code",
   "execution_count": 28,
   "metadata": {
    "collapsed": false
   },
   "outputs": [
    {
     "data": {
      "text/plain": [
       "array([ [(52.0, -4.0, -2.0), (-56.0, -6.0, 0.0), (10.0, 6.0, -6.0), (-10.0, 8.0, -6.0), (14.0, -4.0, -8.0), (-18.0, -4.0, -8.0), (28.0, 20.0, -14.0), (-30.0, 20.0, -12.0), (2.0, 40.0, 10.0), (6.0, -2.0, 28.0), (-2.0, -22.0, -16.0), (22.0, -30.0, -2.0), (-22.0, -30.0, -4.0), (32.0, -88.0, -2.0), (-34.0, -72.0, -4.0), (32.0, -92.0, 0.0), (52.0, -74.0, 16.0), (-32.0, -92.0, 4.0), (-42.0, -70.0, 10.0), (34.0, -62.0, -10.0), (-34.0, -66.0, -8.0), (16.0, -90.0, 16.0), (-14.0, -92.0, 16.0), (10.0, -76.0, -6.0), (-10.0, -74.0, -6.0), (-56.0, -10.0, -4.0), (58.0, 2.0, -12.0), (-12.0, 62.0, 20.0), (36.0, -12.0, 24.0), (30.0, 22.0, -6.0), (-44.0, -72.0, 32.0), (50.0, -72.0, 30.0), (-6.0, -54.0, 18.0)],\n",
       "       [(54.0, 6.0, 46.0), (34.0, 8.0, 38.0), (46.0, 16.0, 42.0), (36.0, -76.0, -12.0), (46.0, -58.0, -16.0), (-10.0, 10.0, -2.0), (-15.0, 14.0, -6.0), (42.0, -58.0, 16.0), (50.0, -54.0, 14.0), (-46.0, 48.0, 22.0), (-38.0, 58.0, 18.0), (40.0, 56.0, 8.0), (46.0, 52.0, 0.0), (34.0, 26.0, -4.0), (-50.0, -50.0, 56.0), (-56.0, -42.0, 54.0), (-46.0, -74.0, -6.0), (-46.0, -66.0, -16.0), (-48.0, -48.0, -18.0), (8.0, 20.0, -6.0), (14.0, 16.0, -8.0), (42.0, -42.0, 52.0), (38.0, -54.0, 52.0), (20.0, -54.0, 52.0), (-42.0, -50.0, -22.0), (-44.0, -56.0, -14.0), (-38.0, -70.0, -16.0), (40.0, 0.0, 44.0), (38.0, -62.0, -14.0), (2.0, 8.0, 56.0), (34.0, -76.0, 16.0), (36.0, -54.0, -10.0), (46.0, 30.0, 52.0), (36.0, 2.0, 40.0), (20.0, -54.0, 46.0), (24.0, -64.0, 44.0), (30.0, -66.0, 38.0), (34.0, -62.0, -14.0)],\n",
       "       [(15.0, 3.0, -3.0), (18.0, 12.0, 3.0), (0.0, 48.0, -6.0), (-45.0, 57.0, -9.0), (48.0, 51.0, -12.0), (6.0, -3.0, 30.0), (-3.0, -9.0, 9.0), (-45.0, 6.0, 36.0), (33.0, -3.0, 24.0), (15.0, 0.0, -3.0), (-3.0, 30.0, 15.0), (33.0, 18.0, -9.0), (-42.0, 9.0, 12.0), (0.0, 12.0, 24.0), (-6.0, -27.0, 0.0)]], dtype=object)"
      ]
     },
     "execution_count": 28,
     "metadata": {},
     "output_type": "execute_result"
    }
   ],
   "source": [
    "A.term_to_coords('reward')"
   ]
  },
  {
   "cell_type": "code",
   "execution_count": null,
   "metadata": {
    "collapsed": true
   },
   "outputs": [],
   "source": []
  }
 ],
 "metadata": {
  "kernelspec": {
   "display_name": "Python 2",
   "language": "python",
   "name": "python2"
  },
  "language_info": {
   "codemirror_mode": {
    "name": "ipython",
    "version": 2
   },
   "file_extension": ".py",
   "mimetype": "text/x-python",
   "name": "python",
   "nbconvert_exporter": "python",
   "pygments_lexer": "ipython2",
   "version": "2.7.10"
  }
 },
 "nbformat": 4,
 "nbformat_minor": 0
}
