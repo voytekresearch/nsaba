{
 "cells": [
  {
   "cell_type": "code",
   "execution_count": 1,
   "metadata": {
    "collapsed": false
   },
   "outputs": [],
   "source": [
    "import nsaba.nsaba as na\n",
    "from sklearn.linear_model import SGDRegressor\n",
    "from sklearn.kernel_approximation import RBFSampler\n",
    "import numpy as np\n",
    "import time\n",
    "\n",
    "import matplotlib as mt\n",
    "import matplotlib.pyplot as plt\n",
    "mt.style.use('ggplot')\n",
    "%matplotlib inline"
   ]
  },
  {
   "cell_type": "code",
   "execution_count": 2,
   "metadata": {
    "collapsed": false
   },
   "outputs": [
    {
     "name": "stdout",
     "output_type": "stream",
     "text": [
      "This may take a minute or two ...\n",
      "SampleAnnot.csv loaded.\n",
      "MicroarrayExpression.csv loaded.\n",
      "Probes.csv loaded.\n",
      "Nsaba.aba['mni_coords'] initialized.\n",
      "\n",
      "This may take a minute or two ...\n",
      "database.txt loaded.\n",
      "features.txt loaded.\n",
      "Nsaba.ns['mni_coords'] initialized.\n",
      "\n"
     ]
    }
   ],
   "source": [
    "dd = '../../data_dir'\n",
    "na.Nsaba.aba_load(dd)\n",
    "na.Nsaba.ns_load(dd)"
   ]
  },
  {
   "cell_type": "code",
   "execution_count": 3,
   "metadata": {
    "collapsed": false
   },
   "outputs": [
    {
     "name": "stdout",
     "output_type": "stream",
     "text": [
      "This may take a minute or two ...\n"
     ]
    }
   ],
   "source": [
    "na.Nsaba.ns_load_id_dict()"
   ]
  },
  {
   "cell_type": "code",
   "execution_count": 4,
   "metadata": {
    "collapsed": true
   },
   "outputs": [],
   "source": [
    "para = na.Nsaba()"
   ]
  },
  {
   "cell_type": "code",
   "execution_count": 5,
   "metadata": {
    "collapsed": false
   },
   "outputs": [],
   "source": [
    "_, df = para._term_to_coords('reward', -1)"
   ]
  },
  {
   "cell_type": "code",
   "execution_count": 6,
   "metadata": {
    "collapsed": false
   },
   "outputs": [
    {
     "data": {
      "image/png": "[encoded data removed]",
      "text/plain": [
       "<matplotlib.figure.Figure at 0x113d65ed0>"
      ]
     },
     "metadata": {},
     "output_type": "display_data"
    }
   ],
   "source": [
    "df.reward.hist(bins=10);\n",
    "plt.title(\"Term Distribution\");\n",
    "plt.yscale('log')\n",
    "plt.xlabel('reward');"
   ]
  },
  {
   "cell_type": "code",
   "execution_count": 7,
   "metadata": {
    "collapsed": false
   },
   "outputs": [],
   "source": [
    "X = df.loc[:, 'x':'z'].as_matrix()\n",
    "y = df.loc[:, 'reward'].as_matrix()"
   ]
  },
  {
   "cell_type": "code",
   "execution_count": 8,
   "metadata": {
    "collapsed": false
   },
   "outputs": [],
   "source": [
    "rbf_transformer = RBFSampler(gamma=1, random_state=1)\n",
    "rbf = lambda x: rbf_transformer.fit_transform(x)\n",
    "X_rbf = rbf(X)"
   ]
  },
  {
   "cell_type": "code",
   "execution_count": 9,
   "metadata": {
    "collapsed": false
   },
   "outputs": [
    {
     "data": {
      "text/plain": [
       "SGDRegressor(alpha=0.0001, average=False, epsilon=0.1, eta0=0.01,\n",
       "       fit_intercept=True, l1_ratio=0.15, learning_rate='invscaling',\n",
       "       loss='squared_loss', n_iter=5, penalty='l2', power_t=0.25,\n",
       "       random_state=None, shuffle=True, verbose=0, warm_start=False)"
      ]
     },
     "execution_count": 9,
     "metadata": {},
     "output_type": "execute_result"
    }
   ],
   "source": [
    "clf = SGDRegressor()\n",
    "clf.fit(X_rbf,y)"
   ]
  },
  {
   "cell_type": "code",
   "execution_count": 22,
   "metadata": {
    "collapsed": false
   },
   "outputs": [
    {
     "name": "stdout",
     "output_type": "stream",
     "text": [
      "(52, -4, -2)\n",
      "SGD (RBF) Classifer: 0.010313\n",
      "Data Mean: 0.737604\n"
     ]
    }
   ],
   "source": [
    "coord = (52,-4,-2)\n",
    "print coord\n",
    "print \"SGD (RBF) Classifer: %f\" % clf.predict(rbf([coord]))\n",
    "if para.coord_to_ns_act(coord) is not []:\n",
    "    print \"Data Mean: %f\" % para.coord_to_ns_act(coord, 'dict')['reward']"
   ]
  },
  {
   "cell_type": "code",
   "execution_count": 23,
   "metadata": {
    "collapsed": false
   },
   "outputs": [
    {
     "data": {
      "text/plain": [
       "[PMID_coord_pair(pmid=23904492, coords=[(52.0, -4.0, -2.0), (-56.0, -6.0, 0.0), (10.0, 6.0, -6.0), (-10.0, 8.0, -6.0), (14.0, -4.0, -8.0), (-18.0, -4.0, -8.0), (28.0, 20.0, -14.0), (-30.0, 20.0, -12.0), (2.0, 40.0, 10.0), (6.0, -2.0, 28.0), (-2.0, -22.0, -16.0), (22.0, -30.0, -2.0), (-22.0, -30.0, -4.0), (32.0, -88.0, -2.0), (-34.0, -72.0, -4.0), (32.0, -92.0, 0.0), (52.0, -74.0, 16.0), (-32.0, -92.0, 4.0), (-42.0, -70.0, 10.0), (34.0, -62.0, -10.0), (-34.0, -66.0, -8.0), (16.0, -90.0, 16.0), (-14.0, -92.0, 16.0), (10.0, -76.0, -6.0), (-10.0, -74.0, -6.0), (-56.0, -10.0, -4.0), (58.0, 2.0, -12.0), (-12.0, 62.0, 20.0), (36.0, -12.0, 24.0), (30.0, 22.0, -6.0), (-44.0, -72.0, 32.0), (50.0, -72.0, 30.0), (-6.0, -54.0, 18.0)])]"
      ]
     },
     "execution_count": 23,
     "metadata": {},
     "output_type": "execute_result"
    }
   ],
   "source": [
    "para.term_to_coords('reward', 1)"
   ]
  },
  {
   "cell_type": "code",
   "execution_count": 27,
   "metadata": {
    "collapsed": false
   },
   "outputs": [
    {
     "data": {
      "text/plain": [
       "array([ 0.07308741,  0.        ])"
      ]
     },
     "execution_count": 27,
     "metadata": {},
     "output_type": "execute_result"
    }
   ],
   "source": [
    "np.squeeze(para.coords_to_ns_act([coord, (0,0,0)], 'reward'))"
   ]
  },
  {
   "cell_type": "code",
   "execution_count": null,
   "metadata": {
    "collapsed": true
   },
   "outputs": [],
   "source": []
  }
 ],
 "metadata": {
  "kernelspec": {
   "display_name": "Python 2",
   "language": "python",
   "name": "python2"
  },
  "language_info": {
   "codemirror_mode": {
    "name": "ipython",
    "version": 2
   },
   "file_extension": ".py",
   "mimetype": "text/x-python",
   "name": "python",
   "nbconvert_exporter": "python",
   "pygments_lexer": "ipython2",
   "version": "2.7.11"
  }
 },
 "nbformat": 4,
 "nbformat_minor": 0
}
