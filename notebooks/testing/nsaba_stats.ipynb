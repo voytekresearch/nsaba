{
 "cells": [
  {
   "cell_type": "code",
   "execution_count": 36,
   "metadata": {
    "collapsed": false
   },
   "outputs": [],
   "source": [
    "from nsaba.nsaba import Nsaba\n",
    "from nsaba.nsaba.visualizer import NsabaVisualizer\n",
    "from nsaba.nsaba.geneinfo import gene_info\n",
    "import pandas as pd\n",
    "from scipy import stats\n",
    "import numpy as np\n",
    "import random\n",
    "import seaborn as sns\n",
    "import matplotlib.pyplot as plt\n",
    "from sklearn.cluster import KMeans\n",
    "from sklearn import mixture\n",
    "plt.style.use('ggplot')\n",
    "%matplotlib inline"
   ]
  },
  {
   "cell_type": "code",
   "execution_count": 37,
   "metadata": {
    "collapsed": false,
    "scrolled": true
   },
   "outputs": [
    {
     "name": "stdout",
     "output_type": "stream",
     "text": [
      "This may take a minute or two ...\n",
      "SampleAnnot.csv loaded.\n",
      "MicroarrayExpression.csv loaded.\n",
      "Probes.csv loaded.\n",
      "Nsaba.aba['mni_coords'] initialized.\n",
      "\n",
      "This may take a minute or two ...\n",
      "database.txt loaded.\n",
      "features.txt loaded.\n",
      "Nsaba.ns['mni_coords'] initialized.\n",
      "\n"
     ]
    }
   ],
   "source": [
    "# Loading NS & ABA datafiles\n",
    "\n",
    "data_dir = '../../data_dir'\n",
    "Nsaba.aba_load(data_dir)\n",
    "Nsaba.ns_load(data_dir)"
   ]
  },
  {
   "cell_type": "code",
   "execution_count": 28,
   "metadata": {
    "collapsed": false
   },
   "outputs": [
    {
     "name": "stdout",
     "output_type": "stream",
     "text": [
      "This may take a minute or two ...\n",
      "'ge' dictionary successfully loaded\n"
     ]
    }
   ],
   "source": [
    "# Intializing Nsaba object and loading gene expression\n",
    "\n",
    "tnsaba = Nsaba()\n",
    "tnsaba.load_ge_pickle('../../data_dir/Nsaba_ABA_ge.pkl')"
   ]
  },
  {
   "cell_type": "code",
   "execution_count": 79,
   "metadata": {
    "collapsed": false
   },
   "outputs": [
    {
     "data": {
      "text/plain": [
       "True"
      ]
     },
     "execution_count": 79,
     "metadata": {},
     "output_type": "execute_result"
    }
   ],
   "source": [
    "tnsaba.is_term('olfactory')"
   ]
  },
  {
   "cell_type": "code",
   "execution_count": 110,
   "metadata": {
    "collapsed": false
   },
   "outputs": [],
   "source": [
    "# Setting term and Entrez IDs\n",
    "\n",
    "term = 'olfactory'\n",
    "gene = [9288]"
   ]
  },
  {
   "cell_type": "code",
   "execution_count": 111,
   "metadata": {
    "collapsed": false
   },
   "outputs": [
    {
     "name": "stdout",
     "output_type": "stream",
     "text": [
      "This may take a few minutes...\n"
     ]
    }
   ],
   "source": [
    "# Generating estimated tf-idf coefficients\n",
    "\n",
    "tnsaba.get_ns_act(term, thresh=-1)"
   ]
  },
  {
   "cell_type": "code",
   "execution_count": 112,
   "metadata": {
    "collapsed": false
   },
   "outputs": [
    {
     "name": "stdout",
     "output_type": "stream",
     "text": [
      "Gene 9288 has not been initialized. Use self.no.get_aba_ge([9288])\n"
     ]
    },
    {
     "ename": "UnboundLocalError",
     "evalue": "local variable 'ax' referenced before assignment",
     "output_type": "error",
     "traceback": [
      "\u001b[1;31m---------------------------------------------------------------------------\u001b[0m",
      "\u001b[1;31mUnboundLocalError\u001b[0m                         Traceback (most recent call last)",
      "\u001b[1;32m<ipython-input-112-acc8022970a1>\u001b[0m in \u001b[0;36m<module>\u001b[1;34m()\u001b[0m\n\u001b[0;32m      2\u001b[0m \u001b[1;33m\u001b[0m\u001b[0m\n\u001b[0;32m      3\u001b[0m \u001b[0mV\u001b[0m \u001b[1;33m=\u001b[0m \u001b[0mNsabaVisualizer\u001b[0m\u001b[1;33m(\u001b[0m\u001b[0mtnsaba\u001b[0m\u001b[1;33m)\u001b[0m\u001b[1;33m\u001b[0m\u001b[0m\n\u001b[1;32m----> 4\u001b[1;33m \u001b[0mV\u001b[0m\u001b[1;33m.\u001b[0m\u001b[0mvisualize_ge\u001b[0m\u001b[1;33m(\u001b[0m\u001b[0mgene\u001b[0m\u001b[1;33m)\u001b[0m\u001b[1;33m\u001b[0m\u001b[0m\n\u001b[0m\u001b[0;32m      5\u001b[0m \u001b[0mV\u001b[0m\u001b[1;33m.\u001b[0m\u001b[0mvisualize_ns\u001b[0m\u001b[1;33m(\u001b[0m\u001b[0mterm\u001b[0m\u001b[1;33m)\u001b[0m\u001b[1;33m\u001b[0m\u001b[0m\n",
      "\u001b[1;32mC:\\Users\\John\\Documents\\Code\\Python\\nsaba\\nsaba\\visualizer.pyc\u001b[0m in \u001b[0;36mvisualize_ge\u001b[1;34m(self, gene, alpha)\u001b[0m\n\u001b[0;32m     37\u001b[0m             \u001b[1;32melse\u001b[0m\u001b[1;33m:\u001b[0m\u001b[1;33m\u001b[0m\u001b[0m\n\u001b[0;32m     38\u001b[0m                 \u001b[1;32mprint\u001b[0m \u001b[1;34m'Gene '\u001b[0m\u001b[1;33m+\u001b[0m\u001b[0mstr\u001b[0m\u001b[1;33m(\u001b[0m\u001b[0me\u001b[0m\u001b[1;33m)\u001b[0m \u001b[1;33m+\u001b[0m \u001b[1;34m' has not been initialized. Use self.no.get_aba_ge(['\u001b[0m \u001b[1;33m+\u001b[0m \u001b[0mstr\u001b[0m\u001b[1;33m(\u001b[0m\u001b[0me\u001b[0m\u001b[1;33m)\u001b[0m \u001b[1;33m+\u001b[0m \u001b[1;34m'])'\u001b[0m\u001b[1;33m\u001b[0m\u001b[0m\n\u001b[1;32m---> 39\u001b[1;33m         \u001b[0max\u001b[0m\u001b[1;33m.\u001b[0m\u001b[0mset_title\u001b[0m\u001b[1;33m(\u001b[0m\u001b[1;34m'Gene Expression of gene ID '\u001b[0m \u001b[1;33m+\u001b[0m \u001b[0mstr\u001b[0m\u001b[1;33m(\u001b[0m\u001b[0mgene\u001b[0m\u001b[1;33m)\u001b[0m\u001b[1;33m)\u001b[0m\u001b[1;33m\u001b[0m\u001b[0m\n\u001b[0m\u001b[0;32m     40\u001b[0m \u001b[1;33m\u001b[0m\u001b[0m\n\u001b[0;32m     41\u001b[0m     \u001b[1;32mdef\u001b[0m \u001b[0mvisualize_ns\u001b[0m\u001b[1;33m(\u001b[0m\u001b[0mself\u001b[0m\u001b[1;33m,\u001b[0m \u001b[0mterm\u001b[0m\u001b[1;33m,\u001b[0m \u001b[0mno_ids\u001b[0m\u001b[1;33m=\u001b[0m\u001b[1;36m10\u001b[0m\u001b[1;33m,\u001b[0m \u001b[0malpha\u001b[0m\u001b[1;33m=\u001b[0m\u001b[1;36m0.2\u001b[0m\u001b[1;33m)\u001b[0m\u001b[1;33m:\u001b[0m\u001b[1;33m\u001b[0m\u001b[0m\n",
      "\u001b[1;31mUnboundLocalError\u001b[0m: local variable 'ax' referenced before assignment"
     ]
    }
   ],
   "source": [
    "# Visualizing coefficient distribution\n",
    "\n",
    "V = NsabaVisualizer(tnsaba)\n",
    "V.visualize_ge(gene)\n",
    "V.visualize_ns(term)"
   ]
  },
  {
   "cell_type": "code",
   "execution_count": null,
   "metadata": {
    "collapsed": false
   },
   "outputs": [],
   "source": [
    "# Descriptive statistics of term and gene coefficients\n",
    "\n",
    "analmat = tnsaba.make_ge_ns_mat(term, gene)\n",
    "tsaba_df = pd.DataFrame(analmat)\n",
    "tsaba_df.describe()"
   ]
  },
  {
   "cell_type": "code",
   "execution_count": null,
   "metadata": {
    "collapsed": false
   },
   "outputs": [],
   "source": [
    "# Hypothesis testing pre-processing\n",
    "thres = 0\n",
    "\n",
    "gt_thres = [row[0] for row in analmat if row[1] > thres]\n",
    "lt_thres = [row[0] for row in analmat if row[1] <= thres]\n",
    "len(gt_thres)"
   ]
  },
  {
   "cell_type": "code",
   "execution_count": 93,
   "metadata": {
    "collapsed": false
   },
   "outputs": [
    {
     "name": "stdout",
     "output_type": "stream",
     "text": [
      "3\n"
     ]
    }
   ],
   "source": [
    "# Clustering to determine control and functional coordinate groups\n",
    "\n",
    "X = [[x] for x in analmat[:,1]]\n",
    "kmn = KMeans(n_clusters=2)\n",
    "kmn.fit(X)\n",
    "group1 = [row[0] for row in analmat if kmn.predict(row[1]) == 0]\n",
    "group2 = [row[0] for row in analmat if kmn.predict(row[1]) == 1]\n",
    "print min([len(group1), len(group2)])"
   ]
  },
  {
   "cell_type": "code",
   "execution_count": 94,
   "metadata": {
    "collapsed": false
   },
   "outputs": [
    {
     "name": "stdout",
     "output_type": "stream",
     "text": [
      "3\n"
     ]
    }
   ],
   "source": [
    "gm = mixture.GMM(n_components=2)\n",
    "gm.fit(X)\n",
    "\n",
    "group1 = [row[0] for row in analmat if gm.predict([row[1]]) == 0]\n",
    "group2 = [row[0] for row in analmat if gm.predict([row[1]]) == 1]\n",
    "print min([len(group1), len(group2)])"
   ]
  },
  {
   "cell_type": "code",
   "execution_count": 105,
   "metadata": {
    "collapsed": false
   },
   "outputs": [
    {
     "data": {
      "image/png": "[encoded data removed]",
      "text/plain": [
       "<matplotlib.figure.Figure at 0x2d59e630>"
      ]
     },
     "metadata": {},
     "output_type": "display_data"
    }
   ],
   "source": [
    "\n",
    "plt.hist(analmat[:,1], bins=20, log=True);"
   ]
  },
  {
   "cell_type": "code",
   "execution_count": 96,
   "metadata": {
    "collapsed": false
   },
   "outputs": [],
   "source": [
    "# Effect Size\n",
    "\n",
    "def cohen_d(x1, x2, n1, n2):\n",
    "    return (np.mean(x1) - np.mean(x2)) / np.sqrt( ((n1-1)*np.var(x1) + (n2-1)*np.var(x2)) / (n1 + n2 -2) )"
   ]
  },
  {
   "cell_type": "code",
   "execution_count": 106,
   "metadata": {
    "collapsed": false,
    "scrolled": true
   },
   "outputs": [
    {
     "name": "stdout",
     "output_type": "stream",
     "text": [
      "t-value: -0.5197 \n",
      "p-value: 6.034E-01\n",
      "Effect size: -0.0813 \n",
      "\n",
      "Rank: 17251 \n",
      "p-value: 3.328E-01 \n"
     ]
    }
   ],
   "source": [
    "# T-Test\n",
    "print \"t-value: %.4f \\np-value: %.3E\" % stats.ttest_ind(lt_thres, gt_thres)\n",
    "print \"Effect size: %.4f \\n\" % cohen_d(lt_thres,gt_thres,len(lt_thres),len(gt_thres))\n",
    "# U-Test\n",
    "print \"Rank: %d \\np-value: %.3E \" % stats.mannwhitneyu(lt_thres, gt_thres)"
   ]
  },
  {
   "cell_type": "code",
   "execution_count": 39,
   "metadata": {
    "collapsed": false
   },
   "outputs": [
    {
     "data": {
      "image/png": "[encoded data removed]",
      "text/plain": [
       "<matplotlib.figure.Figure at 0x35d6b780>"
      ]
     },
     "metadata": {},
     "output_type": "display_data"
    }
   ],
   "source": [
    "# Distributions of LT & GT thresholds\n",
    "\n",
    "sns.distplot(gt_thres);\n",
    "sns.distplot(lt_thres);"
   ]
  },
  {
   "cell_type": "code",
   "execution_count": 48,
   "metadata": {
    "collapsed": true
   },
   "outputs": [],
   "source": [
    "# Combining it all ...\n",
    "\n",
    "def gene_term_ttest(gene, term, quant):\n",
    "    analmat = tnsaba.make_ge_ns_mat(term, [gene])\n",
    "    tsaba_df = pd.DataFrame(analmat)\n",
    "    thres = tsaba_df.quantile(quant)[1]\n",
    "    gt_thres = [row[0] for row in analmat if row[1] > thres]\n",
    "    lt_thres = [row[0] for row in analmat if row[1] <= thres]\n",
    "    # T-Test\n",
    "    print \"t-value: %.4f \\np-value: %.3E\" % stats.ttest_ind(lt_thres, gt_thres)\n",
    "    print \"Effect size: %.4f \\n\" % cohen_d(lt_thres,gt_thres,len(lt_thres),len(gt_thres))\n",
    "    sns.distplot(gt_thres);\n",
    "    sns.distplot(lt_thres);"
   ]
  },
  {
   "cell_type": "code",
   "execution_count": null,
   "metadata": {
    "collapsed": true
   },
   "outputs": [],
   "source": []
  },
  {
   "cell_type": "code",
   "execution_count": 57,
   "metadata": {
    "collapsed": false
   },
   "outputs": [
    {
     "name": "stdout",
     "output_type": "stream",
     "text": [
      "t-value: -5.3812 \n",
      "p-value: 9.504E-08\n",
      "Effect size: -0.5089 \n",
      "\n"
     ]
    },
    {
     "data": {
      "image/png": "[encoded data removed]",
      "text/plain": [
       "<matplotlib.figure.Figure at 0x207dc630>"
      ]
     },
     "metadata": {},
     "output_type": "display_data"
    }
   ],
   "source": [
    "gene_term_ttest(1813, 'reward', .85)"
   ]
  },
  {
   "cell_type": "code",
   "execution_count": null,
   "metadata": {
    "collapsed": true
   },
   "outputs": [],
   "source": []
  },
  {
   "cell_type": "code",
   "execution_count": 64,
   "metadata": {
    "collapsed": false
   },
   "outputs": [
    {
     "name": "stdout",
     "output_type": "stream",
     "text": [
      "This may take a few minutes...\n"
     ]
    }
   ],
   "source": [
    "# Setting term\n",
    "term_ = 'reward'\n",
    "tnsaba.get_ns_act(term_, thresh=-1)"
   ]
  },
  {
   "cell_type": "code",
   "execution_count": 10,
   "metadata": {
    "collapsed": false,
    "scrolled": true
   },
   "outputs": [],
   "source": [
    "# Finding smallest p-values across all Entrez IDs\n",
    "\n",
    "## Parameters:\n",
    "term = 'reward'\n",
    "sample_num = len(tnsaba.ge.keys())\n",
    "top_id_return = 25\n",
    "thres = pd.DataFrame(tnsaba.term[term]['ns_act_vector']).quantile(.85)[0]\n",
    "##\n",
    "\n",
    "if len(tnsaba.ge) < sample_num:\n",
    "    raise ValueError(\"Sample number exceeds stored number of Entrez IDs\")\n",
    "    \n",
    "sam_ids = random.sample(tnsaba.ge.keys(), sample_num)\n",
    "ge_mat = tnsaba.make_ge_ns_mat(term, sam_ids).T[:-1]\n",
    "aba_sam_num = len(ge_mat[0])\n",
    "\n",
    "gene_p = []\n",
    "for eid, ge in zip(sam_ids, ge_mat):\n",
    "    gt_thres = [ge[i] for i in xrange(aba_sam_num) if tnsaba.term[term]['ns_act_vector'][i] > thres]\n",
    "    lt_thres = [ge[i] for i in xrange(aba_sam_num) if tnsaba.term[term]['ns_act_vector'][i] <= thres]\n",
    "    test_stats = stats.ttest_ind(lt_thres, gt_thres)\n",
    "    d = cohen_d(lt_thres, gt_thres, len(lt_thres), len(gt_thres))\n",
    "    if test_stats[0] <= 0:\n",
    "        gene_p.append( (eid, d, test_stats[1]) )\n",
    "    else:\n",
    "        continue\n",
    "\n",
    "# Sorting from greatest magnitude of effect size\n",
    "gene_p.sort(key=lambda ge: ge[1])"
   ]
  },
  {
   "cell_type": "code",
   "execution_count": 8,
   "metadata": {
    "collapsed": false
   },
   "outputs": [],
   "source": [
    "# Using K-Means instead of variance cuts.\n",
    "\n",
    "## Parameters:\n",
    "term = 'reward'\n",
    "sample_num = len(tnsaba.ge.keys())\n",
    "top_id_return = 25\n",
    "##\n",
    "\n",
    "if len(tnsaba.ge) < sample_num:\n",
    "    raise ValueError(\"Sample number exceeds stored number of Entrez IDs\")\n",
    "    \n",
    "sam_ids = random.sample(tnsaba.ge.keys(), sample_num)\n",
    "ge_mat = tnsaba.make_ge_ns_mat(term, sam_ids).T[:-1]\n",
    "aba_sam_num = len(ge_mat[0])\n",
    "kmn = KMeans(n_clusters=2)\n",
    "X = [[x] for x in tnsaba.term[term]['ns_act_vector']]\n",
    "Y = kmn.fit_predict(X)\n",
    "\n",
    "gene_p = []\n",
    "for eid, ge in zip(sam_ids, ge_mat):\n",
    "    gt_thres = [ge[i] for i in xrange(aba_sam_num) if Y[i] == 1]\n",
    "    lt_thres = [ge[i] for i in xrange(aba_sam_num) if Y[i] == 0]\n",
    "    test_stats = stats.ttest_ind(lt_thres, gt_thres)\n",
    "    d = cohen_d(lt_thres, gt_thres, len(lt_thres), len(gt_thres))\n",
    "    if test_stats[0] <= 0:\n",
    "        gene_p.append( (eid, d, test_stats[1]) )\n",
    "    else:\n",
    "        continue\n",
    "\n",
    "# Sorting from greatest magnitude of effect size\n",
    "gene_p.sort(key=lambda ge: ge[1])"
   ]
  },
  {
   "cell_type": "code",
   "execution_count": 10,
   "metadata": {
    "collapsed": false
   },
   "outputs": [],
   "source": [
    "top_genes = []\n",
    "for i in xrange(top_id_return):\n",
    "    try:\n",
    "        top_genes.append( (gene_p[i][0], gene_p[i][1], gene_p[i][2], gene_info(str(gene_p[i][0]))[0]) )\n",
    "    except TypeError:\n",
    "        continue\n",
    "## Some ABA genes are not registered with NIH"
   ]
  },
  {
   "cell_type": "code",
   "execution_count": 11,
   "metadata": {
    "collapsed": false
   },
   "outputs": [
    {
     "name": "stdout",
     "output_type": "stream",
     "text": [
      "Corrected Bonferoni Alpha: 2.405E-06\n",
      "\n",
      "\n",
      "7349 (p = 1.044E-06; d = -0.619): urocortin\n",
      "\n",
      "\n",
      "374462 (p = 1.937E-05; d = -0.540): protein tyrosine phosphatase, receptor type, Q\n",
      "\n",
      "\n",
      "401433 (p = 1.142E-04; d = -0.487): uncharacterized LOC401433\n",
      "\n",
      "\n",
      "282890 (p = 1.240E-04; d = -0.484): zinc finger protein 311\n",
      "\n",
      "\n",
      "167681 (p = 1.273E-04; d = -0.483): protease, serine, 35\n",
      "\n",
      "\n",
      "56886 (p = 2.039E-04; d = -0.469): UDP-glucose glycoprotein glucosyltransferase 1\n",
      "\n",
      "\n",
      "5456 (p = 2.207E-04; d = -0.466): POU class 3 homeobox 4\n",
      "\n",
      "\n",
      "93556 (p = 2.860E-04; d = -0.457): EGF-like and EMI domain containing 1, pseudogene\n",
      "\n",
      "\n",
      "3169 (p = 2.902E-04; d = -0.457): forkhead box A1\n",
      "\n",
      "\n",
      "5277 (p = 3.055E-04; d = -0.455): phosphatidylinositol glycan anchor biosynthesis, class A\n",
      "\n",
      "\n",
      "140828 (p = 3.936E-04; d = -0.447): long intergenic non-protein coding RNA 261\n",
      "\n",
      "\n",
      "4319 (p = 4.151E-04; d = -0.446): matrix metallopeptidase 10\n",
      "\n",
      "\n",
      "114882 (p = 4.474E-04; d = -0.443): oxysterol binding protein-like 8\n",
      "\n",
      "\n",
      "441052 (p = 5.929E-04; d = -0.433): uncharacterized LOC441052\n",
      "\n",
      "\n",
      "60558 (p = 6.551E-04; d = -0.429): GUF1 homolog, GTPase\n",
      "\n",
      "\n",
      "441208 (p = 7.259E-04; d = -0.426): zinc and ring finger 2 pseudogene 1\n",
      "\n",
      "\n",
      "5445 (p = 7.865E-04; d = -0.423): paraoxonase 2\n",
      "\n",
      "\n",
      "10140 (p = 8.345E-04; d = -0.421): transducer of ERBB2, 1\n",
      "\n",
      "\n",
      "2983 (p = 8.461E-04; d = -0.420): guanylate cyclase 1, soluble, beta 3\n",
      "\n",
      "\n",
      "55553 (p = 8.996E-04; d = -0.418): SRY (sex determining region Y)-box 6\n",
      "\n",
      "\n",
      "7637 (p = 9.615E-04; d = -0.416): zinc finger protein 84\n",
      "\n",
      "\n",
      "729866 (p = 1.270E-03; d = -0.407): hCG1994895\n",
      "\n",
      "\n",
      "54674 (p = 1.261E-03; d = -0.406): leucine rich repeat neuronal 3\n",
      "\n",
      "\n",
      "83604 (p = 1.328E-03; d = -0.404): transmembrane protein 47\n",
      "\n",
      "\n",
      "4330 (p = 1.381E-03; d = -0.403): meningioma (disrupted in balanced translocation) 1\n",
      "\n",
      "\n"
     ]
    }
   ],
   "source": [
    "alpha = .05\n",
    "print \"Corrected Bonferoni Alpha: %.3E\\n\\n\" % (alpha/float(sample_num))\n",
    "for eid, coh_d, p_val, descr in top_genes:\n",
    "    if len(descr) == 1:\n",
    "        print \"%d (p = %.3E; d = %.3f): < No description found >\\n\\n\" % (eid, p_val, coh_d)    \n",
    "    else:\n",
    "        print \"%d (p = %.3E; d = %.3f): %s\\n\\n\" % (eid, p_val, coh_d, descr)"
   ]
  },
  {
   "cell_type": "code",
   "execution_count": 12,
   "metadata": {
    "collapsed": false
   },
   "outputs": [
    {
     "name": "stdout",
     "output_type": "stream",
     "text": [
      "Percent Significant (Bonferroni Correction; alpha = .05): 0.005 %\n"
     ]
    },
    {
     "data": {
      "image/png": "[encoded data removed]",
      "text/plain": [
       "<matplotlib.figure.Figure at 0x29be4198>"
      ]
     },
     "metadata": {},
     "output_type": "display_data"
    }
   ],
   "source": [
    "# Visualizing p-value distribution\n",
    "p_vals = [p[2] for p in gene_p ]\n",
    "sig = sum([ p < .05/sample_num for p in p_vals])\n",
    "print \"Percent Significant (Bonferroni Correction; alpha = .05): %.3f %%\" % (100*sig/float(sample_num))\n",
    "sns.distplot(p_vals, norm_hist=False, bins=75, kde=False);"
   ]
  },
  {
   "cell_type": "code",
   "execution_count": 23,
   "metadata": {
    "collapsed": false
   },
   "outputs": [
    {
     "data": {
      "image/png": "[encoded data removed]",
      "text/plain": [
       "<matplotlib.figure.Figure at 0x29be4470>"
      ]
     },
     "metadata": {},
     "output_type": "display_data"
    }
   ],
   "source": [
    "# Log-scale Visualization of p-values\n",
    "plt.hist(p_vals, bins=np.logspace(-13, -1, 20));\n",
    "plt.xscale('log')"
   ]
  },
  {
   "cell_type": "code",
   "execution_count": 14,
   "metadata": {
    "collapsed": false
   },
   "outputs": [
    {
     "data": {
      "text/plain": [
       "<matplotlib.axes._subplots.AxesSubplot at 0x202b8fd0>"
      ]
     },
     "execution_count": 14,
     "metadata": {},
     "output_type": "execute_result"
    },
    {
     "data": {
      "image/png": "[encoded data removed]",
      "text/plain": [
       "<matplotlib.figure.Figure at 0x666c0b38>"
      ]
     },
     "metadata": {},
     "output_type": "display_data"
    }
   ],
   "source": [
    "# Visualizing effect-size distribution\n",
    "p_vals = [p[1] for p in gene_p ]\n",
    "sns.distplot(p_vals, norm_hist=False, bins=75, kde=False);\n",
    "sns.rugplot([-0.5386], height=495);\n",
    "# Green line DRD2 effect size"
   ]
  },
  {
   "cell_type": "code",
   "execution_count": 15,
   "metadata": {
    "collapsed": false
   },
   "outputs": [
    {
     "name": "stdout",
     "output_type": "stream",
     "text": [
      " p-values less than DRD2 gene p-value: 43.147 %\n"
     ]
    }
   ],
   "source": [
    "p_less_than_d2 = sum([ p < 1.297E-08 for p in p_vals])\n",
    "print \" p-values less than DRD2 gene p-value: %.3f %%\" % (100*p_less_than_d2/float(sample_num))"
   ]
  },
  {
   "cell_type": "code",
   "execution_count": 16,
   "metadata": {
    "collapsed": false
   },
   "outputs": [
    {
     "name": "stdout",
     "output_type": "stream",
     "text": [
      "Writing test.txt\n"
     ]
    }
   ],
   "source": []
  },
  {
   "cell_type": "code",
   "execution_count": null,
   "metadata": {
    "collapsed": true
   },
   "outputs": [],
   "source": []
  }
 ],
 "metadata": {
  "kernelspec": {
   "display_name": "Python 2",
   "language": "python",
   "name": "python2"
  },
  "language_info": {
   "codemirror_mode": {
    "name": "ipython",
    "version": 2
   },
   "file_extension": ".py",
   "mimetype": "text/x-python",
   "name": "python",
   "nbconvert_exporter": "python",
   "pygments_lexer": "ipython2",
   "version": "2.7.8"
  }
 },
 "nbformat": 4,
 "nbformat_minor": 0
}
