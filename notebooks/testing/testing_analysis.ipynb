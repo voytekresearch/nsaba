{
 "cells": [
  {
   "cell_type": "code",
   "execution_count": 2,
   "metadata": {
    "collapsed": true
   },
   "outputs": [],
   "source": [
    "from nsaba import Nsaba\n",
    "from nsaba import analysis\n",
    "import os\n",
    "%matplotlib inline"
   ]
  },
  {
   "cell_type": "code",
   "execution_count": 3,
   "metadata": {
    "collapsed": true
   },
   "outputs": [],
   "source": [
    "data_dir = \"../../data_dir\""
   ]
  },
  {
   "cell_type": "code",
   "execution_count": 4,
   "metadata": {
    "collapsed": false
   },
   "outputs": [
    {
     "name": "stdout",
     "output_type": "stream",
     "text": [
      "This may take a minute or two ...\n",
      "SampleAnnot.csv loaded.\n",
      "MicroarrayExpression.csv loaded.\n",
      "Probes.csv loaded.\n",
      "Nsaba.aba['mni_coords'] initialized.\n",
      "\n",
      "This may take a minute or two ...\n",
      "database.txt loaded.\n",
      "features.txt loaded.\n",
      "Nsaba.ns['mni_coords'] initialized.\n",
      "\n"
     ]
    }
   ],
   "source": [
    "# loading class DataFrames\n",
    "Nsaba.aba_load(data_dir)\n",
    "Nsaba.ns_load(data_dir)"
   ]
  },
  {
   "cell_type": "code",
   "execution_count": 5,
   "metadata": {
    "collapsed": false
   },
   "outputs": [
    {
     "name": "stdout",
     "output_type": "stream",
     "text": [
      "This may take a minute or two ...\n",
      "'ge' dictionary successfully loaded\n"
     ]
    }
   ],
   "source": [
    "# Intializing instance and loading gene expression\n",
    "tsaba = Nsaba()\n",
    "tsaba.load_ge_pickle(path=data_dir)"
   ]
  },
  {
   "cell_type": "code",
   "execution_count": 6,
   "metadata": {
    "collapsed": false
   },
   "outputs": [
    {
     "data": {
      "text/plain": [
       "True"
      ]
     },
     "execution_count": 6,
     "metadata": {},
     "output_type": "execute_result"
    }
   ],
   "source": [
    "term = 'reward'\n",
    "tsaba.is_term(term)"
   ]
  },
  {
   "cell_type": "code",
   "execution_count": 7,
   "metadata": {
    "collapsed": false
   },
   "outputs": [
    {
     "name": "stdout",
     "output_type": "stream",
     "text": [
      "This may take a few minutes...\n"
     ]
    }
   ],
   "source": [
    "tsaba.get_ns_act(term, thresh=-1, search_radii=2.5)"
   ]
  },
  {
   "cell_type": "code",
   "execution_count": 8,
   "metadata": {
    "collapsed": false,
    "scrolled": true
   },
   "outputs": [
    {
     "name": "stdout",
     "output_type": "stream",
     "text": [
      "To use inline plotting functionality in Jupyter, '%matplotlib inline' must be enabled\n"
     ]
    }
   ],
   "source": [
    "anal = analysis.NsabaAnalysis(tsaba)"
   ]
  },
  {
   "cell_type": "code",
   "execution_count": 9,
   "metadata": {
    "collapsed": false
   },
   "outputs": [
    {
     "name": "stdout",
     "output_type": "stream",
     "text": [
      "t-value: -5.3763 \n",
      "p-value: 9.847E-08\n",
      "Effect size: -0.5183 \n",
      "\n"
     ]
    },
    {
     "data": {
      "image/png": "[encoded data removed]",
      "text/plain": [
       "<matplotlib.figure.Figure at 0x36c8e80>"
      ]
     },
     "metadata": {},
     "output_type": "display_data"
    }
   ],
   "source": [
    "anal.t_test(term, 1813, 85)"
   ]
  },
  {
   "cell_type": "code",
   "execution_count": 10,
   "metadata": {
    "collapsed": false
   },
   "outputs": [
    {
     "name": "stdout",
     "output_type": "stream",
     "text": [
      "This may take a couple of minutes ...\n"
     ]
    }
   ],
   "source": [
    "ttest_metr = anal.t_test_multi(term)"
   ]
  },
  {
   "cell_type": "code",
   "execution_count": 11,
   "metadata": {
    "collapsed": false
   },
   "outputs": [
    {
     "name": "stdout",
     "output_type": "stream",
     "text": [
      "Fetching NIH gene descriptions ...\n",
      "\n",
      "Corrected Bonferroni Alpha: 2.405E-06\n",
      "\n",
      "\n",
      "253970 (p = 4.522E-10; d = -0.608): < No description found >\n",
      "\n",
      "\n",
      "5456 (p = 9.458E-09; d = -0.559): This gene encodes a member of the POU-III class of neural transcription factors. This family member plays a role in inner ear development. The protein is thought to be involved in the mediation of epigenetic signals which induce striatal neuron-precursor differentiation. Mutations in this gene are associated with X chromosome-linked nonsyndromic mixed deafness. [provided by RefSeq, Dec 2012]\n",
      "\n",
      "\n",
      "152573 (p = 2.272E-08; d = -0.544): < No description found >\n",
      "\n",
      "\n",
      "54874 (p = 2.860E-08; d = -0.540): The protein encoded by this gene binds to both CDC42 and N-WASP. This protein promotes CDC42-induced actin polymerization by activating the N-WASP-WIP complex and, therefore, is involved in a pathway that links cell surface signals to the actin cytoskeleton. Alternative splicing results in multiple transcript variants encoding different isoforms. [provided by RefSeq, Jul 2008]\n",
      "\n",
      "\n",
      "3169 (p = 3.131E-08; d = -0.539): This gene encodes a member of the forkhead class of DNA-binding proteins. These hepatocyte nuclear factors are transcriptional activators for liver-specific transcripts such as albumin and transthyretin, and they also interact with chromatin. Similar family members in mice have roles in the regulation of metabolism and in the differentiation of the pancreas and liver. [provided by RefSeq, Jul 2008]\n",
      "\n",
      "\n",
      "23620 (p = 5.455E-08; d = -0.529): The protein encoded by this gene belongs to the G protein-coupled receptor family that activate a phosphatidylinositol-calcium second messenger system. Binding and pharmacological studies demonstrate that this receptor binds neurotensin as well as several other ligands already described for neurotensin NT1 receptor. However, unlike NT1 receptor, this gene recognizes, with high affinity, levocabastine, a histamine H1 receptor antagonist previously shown to compete with neurotensin for low-affinity binding sites in brain. These activities suggest that this receptor may be of physiological importance and that a natural agonist for the receptor may exist. [provided by RefSeq, Jul 2008]\n",
      "\n",
      "\n",
      "128414 (p = 7.826E-08; d = -0.522): NKAIN4 is a member of a family of mammalian proteins (see NKAIN1; MIM 612871) with similarity to Drosophila Nkain and interacts with the beta subunit of Na,K-ATPase (ATP1B1; MIM 182330) (Gorokhova et al., 2007 [PubMed 17606467]).[supplied by OMIM, Jun 2009]\n",
      "\n",
      "\n",
      "1814 (p = 8.010E-08; d = -0.522): This gene encodes the D3 subtype of the five (D1-D5) dopamine receptors. The activity of the D3 subtype receptor is mediated by G proteins which inhibit adenylyl cyclase. This receptor is localized to the limbic areas of the brain, which are associated with cognitive, emotional, and endocrine functions. Genetic variation in this gene may be associated with susceptibility to hereditary essential tremor 1. Alternative splicing of this gene results in transcript variants encoding different isoforms, although some variants may be subject to nonsense-mediated decay (NMD). [provided by RefSeq, Jul 2008]\n",
      "\n",
      "\n",
      "341 (p = 7.932E-08; d = -0.522): The protein encoded by this gene is a member of the apolipoprotein C1 family. This gene is expressed primarily in the liver, and it is activated when monocytes differentiate into macrophages. A pseudogene of this gene is located 4 kb downstream in the same orientation, on the same chromosome. This gene is mapped to chromosome 19, where it resides within a apolipoprotein gene cluster. Alternatively spliced transcript variants have been found for this gene, but the biological validity of some variants has not been determined. [provided by RefSeq, Jul 2008]\n",
      "\n",
      "\n",
      "1813 (p = 9.847E-08; d = -0.518): This gene encodes the D2 subtype of the dopamine receptor. This G-protein coupled receptor inhibits adenylyl cyclase activity. A missense mutation in this gene causes myoclonus dystonia; other mutations have been associated with schizophrenia. Alternative splicing of this gene results in two transcript variants encoding different isoforms. A third variant has been described, but it has not been determined whether this form is normal or due to aberrant splicing. [provided by RefSeq, Jul 2008]\n",
      "\n",
      "\n",
      "441052 (p = 1.413E-07; d = -0.512): < No description found >\n",
      "\n",
      "\n",
      "5445 (p = 1.720E-07; d = -0.508): < No description found >\n",
      "\n",
      "\n",
      "6295 (p = 2.745E-07; d = -0.500): Members of arrestin/beta-arrestin protein family are thought to participate in agonist-mediated desensitization of G-protein-coupled receptors and cause specific dampening of cellular responses to stimuli such as hormones, neurotransmitters, or sensory signals. S-arrestin, also known as S-antigen, is a major soluble photoreceptor protein that is involved in desensitization of the photoactivated transduction cascade. It is expressed in the retina and the pineal gland and inhibits coupling of rhodopsin to transducin in vitro. Additionally, S-arrestin is highly antigenic, and is capable of inducing experimental autoimmune uveoretinitis. Mutations in this gene have been associated with Oguchi disease, a rare autosomal recessive form of night blindness. [provided by RefSeq, Jul 2008]\n",
      "\n",
      "\n",
      "4935 (p = 3.008E-07; d = -0.498): This gene encodes a protein that binds to heterotrimeric G proteins and is targeted to melanosomes in pigment cells. This protein is thought to be involved in intracellular signal transduction mechanisms. Mutations in this gene cause ocular albinism type 1, also referred to as Nettleship-Falls type ocular albinism, a severe visual disorder. A related pseudogene has been identified on chromosome Y. [provided by RefSeq, Dec 2009]\n",
      "\n",
      "\n",
      "157506 (p = 3.032E-07; d = -0.498): This gene encodes a retinol dehydrogenase, which converts all-trans-retinol to all-trans-retinal, with preference for NADP as a cofactor. Studies in mice suggest that this protein is essential for synthesis of embryonic retinoic acid and is required for limb, craniofacial, and organ development. [provided by RefSeq, Dec 2011]\n",
      "\n",
      "\n",
      "2202 (p = 3.652E-07; d = -0.494): This gene encodes a member of the fibulin family of extracellular matrix glycoproteins. Like all members of this family, the encoded protein contains tandemly repeated epidermal growth factor-like repeats followed by a C-terminus fibulin-type domain. This gene is upregulated in malignant gliomas and may play a role in the aggressive nature of these tumors. Mutations in this gene are associated with Doyne honeycomb retinal dystrophy. Alternatively spliced transcript variants that encode the same protein have been described.[provided by RefSeq, Nov 2009]\n",
      "\n",
      "\n",
      "2138 (p = 3.866E-07; d = -0.493): This gene encodes a member of the eyes absent (EYA) family of proteins. The encoded protein may play a role in the developing kidney, branchial arches, eye, and ear. Mutations of this gene have been associated with branchiootorenal dysplasia syndrome, branchiootic syndrome, and sporadic cases of congenital cataracts and ocular anterior segment anomalies. A similar protein in mice can act as a transcriptional activator. Alternatively spliced transcript variants have been identified for this gene. [provided by RefSeq, Dec 2013]\n",
      "\n",
      "\n",
      "23118 (p = 6.016E-07; d = -0.485): The protein encoded by this gene is an activator of MAP3K7/TAK1, which is required for for the IL-1 induced activation of nuclear factor kappaB and MAPK8/JNK. This protein forms a kinase complex with TRAF6, MAP3K7 and TAB1, and it thus serves as an adaptor that links MAP3K7 and TRAF6. This protein, along with TAB1 and MAP3K7, also participates in the signal transduction induced by TNFSF11/RANKl through the activation of the receptor activator of NF-kappaB (TNFRSF11A/RANK), which may regulate the development and function of osteoclasts. Studies of the related mouse protein indicate that it functions to protect against liver damage caused by chemical stressors. Mutations in this gene cause congenital heart defects, multiple types, 2 (CHTD2). Alternative splicing results in multiple transcript variants. [provided by RefSeq, May 2014]\n",
      "\n",
      "\n",
      "19 (p = 8.856E-07; d = -0.477): The membrane-associated protein encoded by this gene is a member of the superfamily of ATP-binding cassette (ABC) transporters.  ABC proteins transport various molecules across extra- and intracellular membranes.  ABC genes are divided into seven distinct subfamilies (ABC1, MDR/TAP, MRP, ALD, OABP, GCN20, White).  This protein is a member of the ABC1 subfamily.  Members of the ABC1 subfamily comprise the only major ABC subfamily found exclusively in multicellular eukaryotes.  With cholesterol as its substrate, this protein functions as a cholesteral efflux pump in the cellular lipid removal pathway.  Mutations in this gene have been associated with Tangier's disease and familial high-density lipoprotein deficiency. [provided by RefSeq, Jul 2008]\n",
      "\n",
      "\n",
      "6383 (p = 1.008E-06; d = -0.475): The protein encoded by this gene is a transmembrane (type I) heparan sulfate proteoglycan and is a member of the syndecan proteoglycan family. The syndecans mediate cell binding, cell signaling, and cytoskeletal organization and syndecan receptors are required for internalization of the HIV-1 tat protein. The syndecan-2 protein functions as an integral membrane protein and participates in cell proliferation, cell migration and cell-matrix interactions via its receptor for extracellular matrix proteins. Altered syndecan-2 expression has been detected in several different tumor types. [provided by RefSeq, Jul 2008]\n",
      "\n",
      "\n"
     ]
    }
   ],
   "source": [
    "anal.fetch_gene_descriptions(ttest_metr)"
   ]
  },
  {
   "cell_type": "code",
   "execution_count": 12,
   "metadata": {
    "collapsed": false
   },
   "outputs": [
    {
     "name": "stdout",
     "output_type": "stream",
     "text": [
      "Percent Significant (Bonferroni Correction; alpha = .05): 0.173 %\n"
     ]
    },
    {
     "data": {
      "image/png": "[encoded data removed]",
      "text/plain": [
       "<matplotlib.figure.Figure at 0x32273cf8>"
      ]
     },
     "metadata": {},
     "output_type": "display_data"
    }
   ],
   "source": [
    "anal.p_val_distr(ttest_metr)"
   ]
  },
  {
   "cell_type": "code",
   "execution_count": 13,
   "metadata": {
    "collapsed": false
   },
   "outputs": [
    {
     "data": {
      "image/png": "[encoded data removed]",
      "text/plain": [
       "<matplotlib.figure.Figure at 0x24a03390>"
      ]
     },
     "metadata": {},
     "output_type": "display_data"
    }
   ],
   "source": [
    "anal.effect_size_distr(ttest_metr)"
   ]
  },
  {
   "cell_type": "code",
   "execution_count": null,
   "metadata": {
    "collapsed": true
   },
   "outputs": [],
   "source": []
  }
 ],
 "metadata": {
  "kernelspec": {
   "display_name": "Python 2",
   "language": "python",
   "name": "python2"
  },
  "language_info": {
   "codemirror_mode": {
    "name": "ipython",
    "version": 2
   },
   "file_extension": ".py",
   "mimetype": "text/x-python",
   "name": "python",
   "nbconvert_exporter": "python",
   "pygments_lexer": "ipython2",
   "version": "2.7.8"
  }
 },
 "nbformat": 4,
 "nbformat_minor": 0
}
