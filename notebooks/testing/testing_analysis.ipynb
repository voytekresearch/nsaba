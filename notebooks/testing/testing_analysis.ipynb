{
 "cells": [
  {
   "cell_type": "code",
   "execution_count": 1,
   "metadata": {
    "collapsed": false
   },
   "outputs": [
    {
     "name": "stderr",
     "output_type": "stream",
     "text": [
      "/Users/simonhaxby/anaconda/envs/py27/lib/python2.7/site-packages/matplotlib/__init__.py:872: UserWarning: axes.color_cycle is deprecated and replaced with axes.prop_cycle; please use the latter.\n",
      "  warnings.warn(self.msg_depr % (key, alt_key))\n"
     ]
    }
   ],
   "source": [
    "from nsaba.nsaba import Nsaba\n",
    "from nsaba.nsaba import analysis\n",
    "from nsaba.nsaba import analysis2\n",
    "from nsaba.nsaba import geneinfo\n",
    "import os\n",
    "%matplotlib inline"
   ]
  },
  {
   "cell_type": "code",
   "execution_count": 2,
   "metadata": {
    "collapsed": true
   },
   "outputs": [],
   "source": [
    "data_dir = \"../../data_dir\""
   ]
  },
  {
   "cell_type": "code",
   "execution_count": 3,
   "metadata": {
    "collapsed": false
   },
   "outputs": [
    {
     "name": "stdout",
     "output_type": "stream",
     "text": [
      "This may take a minute or two ...\n",
      "SampleAnnot.csv loaded.\n",
      "MicroarrayExpression.csv loaded.\n",
      "Probes.csv loaded.\n",
      "Nsaba.aba['mni_coords'] initialized.\n",
      "\n",
      "This may take a minute or two ...\n",
      "database.txt loaded.\n",
      "features.txt loaded.\n",
      "Nsaba.ns['mni_coords'] initialized.\n",
      "\n"
     ]
    }
   ],
   "source": [
    "# loading class DataFrames\n",
    "Nsaba.aba_load(data_dir)\n",
    "Nsaba.ns_load(data_dir)"
   ]
  },
  {
   "cell_type": "code",
   "execution_count": 4,
   "metadata": {
    "collapsed": false
   },
   "outputs": [
    {
     "name": "stdout",
     "output_type": "stream",
     "text": [
      "This may take a minute or two ...\n",
      "'ge' dictionary successfully loaded\n"
     ]
    }
   ],
   "source": [
    "# Intializing instance and loading gene expression\n",
    "tsaba = Nsaba()\n",
    "tsaba.load_ge_pickle(path=data_dir)"
   ]
  },
  {
   "cell_type": "code",
   "execution_count": 5,
   "metadata": {
    "collapsed": false
   },
   "outputs": [
    {
     "data": {
      "text/plain": [
       "True"
      ]
     },
     "execution_count": 5,
     "metadata": {},
     "output_type": "execute_result"
    }
   ],
   "source": [
    "term = 'reward'\n",
    "tsaba.is_term(term)"
   ]
  },
  {
   "cell_type": "code",
   "execution_count": 6,
   "metadata": {
    "collapsed": false
   },
   "outputs": [
    {
     "name": "stdout",
     "output_type": "stream",
     "text": [
      "This may take a few minutes...\n"
     ]
    }
   ],
   "source": [
    "tsaba.get_ns_act(term, thresh=-1, search_radii=2.5)"
   ]
  },
  {
   "cell_type": "code",
   "execution_count": 7,
   "metadata": {
    "collapsed": false,
    "scrolled": true
   },
   "outputs": [
    {
     "name": "stdout",
     "output_type": "stream",
     "text": [
      "To use inline plotting functionality in Jupyter, '%matplotlib inline' must be enabled\n"
     ]
    }
   ],
   "source": [
    "anal = analysis.NsabaAnalysis(tsaba)"
   ]
  },
  {
   "cell_type": "code",
   "execution_count": 8,
   "metadata": {
    "collapsed": false,
    "scrolled": true
   },
   "outputs": [
    {
     "name": "stdout",
     "output_type": "stream",
     "text": [
      "t-value: -4.4783 \n",
      "p-value: 8.559E-06\n",
      "Effect size: -0.4317 \n",
      "\n"
     ]
    },
    {
     "data": {
      "image/png": "[encoded data removed]",
      "text/plain": [
       "<matplotlib.figure.Figure at 0x1129989d0>"
      ]
     },
     "metadata": {},
     "output_type": "display_data"
    }
   ],
   "source": [
    "anal.term_ge_ttest(term, 1813, split_method='quant', graphops='box')"
   ]
  },
  {
   "cell_type": "code",
   "execution_count": null,
   "metadata": {
    "collapsed": false
   },
   "outputs": [],
   "source": [
    "ttest_metr = anal.term_ge_ttest_multi(term)"
   ]
  },
  {
   "cell_type": "code",
   "execution_count": null,
   "metadata": {
    "collapsed": false
   },
   "outputs": [],
   "source": [
    "df = geneinfo.load_gene_file(\"../../\")"
   ]
  },
  {
   "cell_type": "code",
   "execution_count": null,
   "metadata": {
    "collapsed": false
   },
   "outputs": [],
   "source": [
    "anal.fetch_gene_descriptions(ttest_metr, csv_path=\"../../\");"
   ]
  },
  {
   "cell_type": "code",
   "execution_count": null,
   "metadata": {
    "collapsed": false
   },
   "outputs": [],
   "source": [
    "anal.p_val_distr(ttest_metr)"
   ]
  },
  {
   "cell_type": "code",
   "execution_count": null,
   "metadata": {
    "collapsed": false
   },
   "outputs": [],
   "source": [
    "anal.cohen_d_distr(ttest_metr)"
   ]
  },
  {
   "cell_type": "code",
   "execution_count": 9,
   "metadata": {
    "collapsed": false
   },
   "outputs": [
    {
     "name": "stdout",
     "output_type": "stream",
     "text": [
      "This may take a couple of minutes ...\n"
     ]
    }
   ],
   "source": [
    "r_vals = anal.term_ge_spearman_rho(term)"
   ]
  },
  {
   "cell_type": "code",
   "execution_count": 10,
   "metadata": {
    "collapsed": false
   },
   "outputs": [
    {
     "data": {
      "image/png": "[encoded data removed]",
      "text/plain": [
       "<matplotlib.figure.Figure at 0x111244150>"
      ]
     },
     "metadata": {},
     "output_type": "display_data"
    }
   ],
   "source": [
    "anal.rho_distr(r_vals)"
   ]
  },
  {
   "cell_type": "code",
   "execution_count": 11,
   "metadata": {
    "collapsed": false
   },
   "outputs": [
    {
     "name": "stdout",
     "output_type": "stream",
     "text": [
      "Gene 20192 not found in NIH database\n",
      "Gene 20269 not found in NIH database\n",
      "\n",
      "Corrected Bonferroni Alpha: 2.405E-06\n",
      "\n",
      "\n",
      "1816 (r = 0.235): dopamine receptor D5\n",
      " [u'This gene encodes the D5 subtype of the dopamine receptor. The D5 subtype is a G-protein coupled receptor which stimulates adenylyl cyclase. This receptor is expressed in neurons in the limbic regions of the brain. It has a 10-fold higher affinity for dopamine than the D1 subtype. Pseudogenes related to this gene reside on chromosomes 1 and 2. [provided by RefSeq, Jul 2008]']\n",
      "\n",
      "\n",
      "5987 (r = 0.233): tripartite motif containing 27\n",
      " [u'This gene encodes a member of the tripartite motif (TRIM) family. The TRIM motif includes three zinc-binding domains, a RING, a B-box type 1 and a B-box type 2, and a coiled-coil region. This protein localizes to the nuclear matrix. It interacts with the enhancer of polycomb protein and represses gene transcription. It is also thought to be involved in the differentiation of male germ cells. Fusion of the N-terminus of this protein with the truncated C-terminus of the RET gene product has been shown to result in production of the ret transforming protein. [provided by RefSeq, Jul 2008]']\n",
      "\n",
      "\n",
      "1759 (r = 0.228): dynamin 1\n",
      " [u\"This gene encodes a member of the dynamin subfamily of GTP-binding proteins. The encoded protein possesses unique mechanochemical properties used to tubulate and sever membranes, and is involved in clathrin-mediated endocytosis and other vesicular trafficking processes. Actin and other cytoskeletal proteins act as binding partners for the encoded protein, which can also self-assemble leading to stimulation of GTPase activity. More than sixty highly conserved copies of the 3' region of this gene are found elsewhere in the genome, particularly on chromosomes Y and 15. Alternatively spliced transcript variants encoding different isoforms have been described. [provided by RefSeq, Jul 2008]\"]\n",
      "\n",
      "\n",
      "10972 (r = 0.219): transmembrane p24 trafficking protein 10\n",
      " [u\"This gene is a member of the EMP24/GP25L/p24 family and encodes a protein with a GOLD domain. This type I membrane protein is localized to the plasma membrane and golgi cisternae and is involved in vesicular protein trafficking. The protein is also a member of a heteromeric secretase complex and regulates the complex's gamma-secretase activity without affecting its epsilon-secretase activity. Mutations in this gene have been associated with early-onset familial Alzheimer's disease. This gene has a pseudogene on chromosome 8. [provided by RefSeq, Jul 2008]\"]\n",
      "\n",
      "\n",
      "2838 (r = 0.212): G protein-coupled receptor 15\n",
      " [u'This gene encodes a G protein-coupled receptor that acts as a chemokine receptor for human immunodeficiency virus type 1 and 2. The encoded protein localizes to the cell membrane. [provided by RefSeq, Nov 2012]']\n",
      "\n",
      "\n",
      "10172 (r = 0.205): zinc finger protein 256\n",
      " No description found\n",
      "\n",
      "\n",
      "2204 (r = 0.203): Fc fragment of IgA receptor\n",
      " [u'This gene is a member of the immunoglobulin gene superfamily and encodes a receptor for the Fc region of IgA. The receptor is a transmembrane glycoprotein present on the surface of myeloid lineage cells such as neutrophils, monocytes, macrophages, and eosinophils, where it mediates immunologic responses to pathogens. It interacts with IgA-opsonized targets and triggers several immunologic defense processes, including phagocytosis, antibody-dependent cell-mediated cytotoxicity, and stimulation of the release of inflammatory mediators. Multiple alternatively spliced transcript variants encoding different isoforms have been described for this gene. [provided by RefSeq, Jul 2008]']\n",
      "\n",
      "\n",
      "8000 (r = 0.200): prostate stem cell antigen\n",
      " [u'This gene encodes a glycosylphosphatidylinositol-anchored cell membrane glycoprotein. In addition to being highly expressed in the prostate it is also expressed in the bladder, placenta, colon, kidney, and stomach. This gene is up-regulated in a large proportion of prostate cancers and is also detected in cancers of the bladder and pancreas. This gene includes a polymorphism that results in an upstream start codon in some individuals; this polymorphism is thought to be associated with a risk for certain gastric and bladder cancers. Alternative splicing results in multiple transcript variants. [provided by RefSeq, Feb 2010]']\n",
      "\n",
      "\n",
      "220 (r = 0.199): aldehyde dehydrogenase 1 family, member A3\n",
      " [u'This gene encodes an aldehyde dehydrogenase enzyme that uses retinal as a substrate. Mutations in this gene have been associated with microphthalmia, isolated 8, and expression changes have also been detected in tumor cells. Alternative splicing results in multiple transcript variants. [provided by RefSeq, Jun 2014]']\n",
      "\n",
      "\n",
      "4778 (r = 0.198): nuclear factor, erythroid 2\n",
      " No description found\n",
      "\n",
      "\n"
     ]
    },
    {
     "data": {
      "text/plain": [
       "[(1816,\n",
       "  0.23519978177580514,\n",
       "  'dopamine receptor D5',\n",
       "  \"[u'This gene encodes the D5 subtype of the dopamine receptor. The D5 subtype is a G-protein coupled receptor which stimulates adenylyl cyclase. This receptor is expressed in neurons in the limbic regions of the brain. It has a 10-fold higher affinity for dopamine than the D1 subtype. Pseudogenes related to this gene reside on chromosomes 1 and 2. [provided by RefSeq, Jul 2008]']\"),\n",
       " (5987,\n",
       "  0.23282329819897202,\n",
       "  'tripartite motif containing 27',\n",
       "  \"[u'This gene encodes a member of the tripartite motif (TRIM) family. The TRIM motif includes three zinc-binding domains, a RING, a B-box type 1 and a B-box type 2, and a coiled-coil region. This protein localizes to the nuclear matrix. It interacts with the enhancer of polycomb protein and represses gene transcription. It is also thought to be involved in the differentiation of male germ cells. Fusion of the N-terminus of this protein with the truncated C-terminus of the RET gene product has been shown to result in production of the ret transforming protein. [provided by RefSeq, Jul 2008]']\"),\n",
       " (1759,\n",
       "  0.22811323442806894,\n",
       "  'dynamin 1',\n",
       "  '[u\"This gene encodes a member of the dynamin subfamily of GTP-binding proteins. The encoded protein possesses unique mechanochemical properties used to tubulate and sever membranes, and is involved in clathrin-mediated endocytosis and other vesicular trafficking processes. Actin and other cytoskeletal proteins act as binding partners for the encoded protein, which can also self-assemble leading to stimulation of GTPase activity. More than sixty highly conserved copies of the 3\\' region of this gene are found elsewhere in the genome, particularly on chromosomes Y and 15. Alternatively spliced transcript variants encoding different isoforms have been described. [provided by RefSeq, Jul 2008]\"]'),\n",
       " (10972,\n",
       "  0.21871001072457066,\n",
       "  'transmembrane p24 trafficking protein 10',\n",
       "  '[u\"This gene is a member of the EMP24/GP25L/p24 family and encodes a protein with a GOLD domain. This type I membrane protein is localized to the plasma membrane and golgi cisternae and is involved in vesicular protein trafficking. The protein is also a member of a heteromeric secretase complex and regulates the complex\\'s gamma-secretase activity without affecting its epsilon-secretase activity. Mutations in this gene have been associated with early-onset familial Alzheimer\\'s disease. This gene has a pseudogene on chromosome 8. [provided by RefSeq, Jul 2008]\"]'),\n",
       " (2838,\n",
       "  0.21228192162627943,\n",
       "  'G protein-coupled receptor 15',\n",
       "  \"[u'This gene encodes a G protein-coupled receptor that acts as a chemokine receptor for human immunodeficiency virus type 1 and 2. The encoded protein localizes to the cell membrane. [provided by RefSeq, Nov 2012]']\"),\n",
       " (10172,\n",
       "  0.20523702552513548,\n",
       "  'zinc finger protein 256',\n",
       "  'No description found'),\n",
       " (2204,\n",
       "  0.20342297552856181,\n",
       "  'Fc fragment of IgA receptor',\n",
       "  \"[u'This gene is a member of the immunoglobulin gene superfamily and encodes a receptor for the Fc region of IgA. The receptor is a transmembrane glycoprotein present on the surface of myeloid lineage cells such as neutrophils, monocytes, macrophages, and eosinophils, where it mediates immunologic responses to pathogens. It interacts with IgA-opsonized targets and triggers several immunologic defense processes, including phagocytosis, antibody-dependent cell-mediated cytotoxicity, and stimulation of the release of inflammatory mediators. Multiple alternatively spliced transcript variants encoding different isoforms have been described for this gene. [provided by RefSeq, Jul 2008]']\"),\n",
       " (8000,\n",
       "  0.20045061688562055,\n",
       "  'prostate stem cell antigen',\n",
       "  \"[u'This gene encodes a glycosylphosphatidylinositol-anchored cell membrane glycoprotein. In addition to being highly expressed in the prostate it is also expressed in the bladder, placenta, colon, kidney, and stomach. This gene is up-regulated in a large proportion of prostate cancers and is also detected in cancers of the bladder and pancreas. This gene includes a polymorphism that results in an upstream start codon in some individuals; this polymorphism is thought to be associated with a risk for certain gastric and bladder cancers. Alternative splicing results in multiple transcript variants. [provided by RefSeq, Feb 2010]']\"),\n",
       " (220,\n",
       "  0.19902912339124548,\n",
       "  'aldehyde dehydrogenase 1 family, member A3',\n",
       "  \"[u'This gene encodes an aldehyde dehydrogenase enzyme that uses retinal as a substrate. Mutations in this gene have been associated with microphthalmia, isolated 8, and expression changes have also been detected in tumor cells. Alternative splicing results in multiple transcript variants. [provided by RefSeq, Jun 2014]']\"),\n",
       " (4778,\n",
       "  0.19781141694141263,\n",
       "  'nuclear factor, erythroid 2',\n",
       "  'No description found')]"
      ]
     },
     "execution_count": 11,
     "metadata": {},
     "output_type": "execute_result"
    }
   ],
   "source": [
    "anal.fetch_gene_descriptions(r_vals, coeff='spearman', csv_path=\"../..\")"
   ]
  }
 ],
 "metadata": {
  "kernelspec": {
   "display_name": "Python 2",
   "language": "python",
   "name": "python2"
  },
  "language_info": {
   "codemirror_mode": {
    "name": "ipython",
    "version": 2
   },
   "file_extension": ".py",
   "mimetype": "text/x-python",
   "name": "python",
   "nbconvert_exporter": "python",
   "pygments_lexer": "ipython2",
   "version": "2.7.11"
  }
 },
 "nbformat": 4,
 "nbformat_minor": 0
}
