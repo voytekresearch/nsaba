{
 "cells": [
  {
   "cell_type": "code",
   "execution_count": 1,
   "metadata": {
    "collapsed": true
   },
   "outputs": [],
   "source": [
    "from nsaba import Nsaba\n",
    "from nsaba import analysis\n",
    "import os\n",
    "%matplotlib inline"
   ]
  },
  {
   "cell_type": "code",
   "execution_count": 2,
   "metadata": {
    "collapsed": true
   },
   "outputs": [],
   "source": [
    "data_dir = \"../../data_dir\""
   ]
  },
  {
   "cell_type": "code",
   "execution_count": 3,
   "metadata": {
    "collapsed": false
   },
   "outputs": [
    {
     "name": "stdout",
     "output_type": "stream",
     "text": [
      "This may take a minute or two ...\n",
      "SampleAnnot.csv loaded.\n",
      "MicroarrayExpression.csv loaded.\n",
      "Probes.csv loaded.\n",
      "Nsaba.aba['mni_coords'] initialized.\n",
      "\n",
      "This may take a minute or two ...\n",
      "database.txt loaded.\n",
      "features.txt loaded.\n",
      "Nsaba.ns['mni_coords'] initialized.\n",
      "\n"
     ]
    },
    {
     "data": {
      "text/plain": [
       "0"
      ]
     },
     "execution_count": 3,
     "metadata": {},
     "output_type": "execute_result"
    }
   ],
   "source": [
    "# loading class DataFrames\n",
    "Nsaba.aba_load(data_dir)\n",
    "Nsaba.ns_load(data_dir)"
   ]
  },
  {
   "cell_type": "code",
   "execution_count": 4,
   "metadata": {
    "collapsed": false
   },
   "outputs": [
    {
     "name": "stdout",
     "output_type": "stream",
     "text": [
      "This may take a minute or two ...\n",
      "'ge' dictionary successfully loaded\n"
     ]
    }
   ],
   "source": [
    "# Intializing instance and loading gene expression\n",
    "tsaba = Nsaba()\n",
    "tsaba.load_ge_pickle(path=data_dir)"
   ]
  },
  {
   "cell_type": "code",
   "execution_count": 5,
   "metadata": {
    "collapsed": false
   },
   "outputs": [
    {
     "data": {
      "text/plain": [
       "True"
      ]
     },
     "execution_count": 5,
     "metadata": {},
     "output_type": "execute_result"
    }
   ],
   "source": [
    "term = 'reward'\n",
    "tsaba.is_term(term)"
   ]
  },
  {
   "cell_type": "code",
   "execution_count": 6,
   "metadata": {
    "collapsed": false
   },
   "outputs": [
    {
     "name": "stdout",
     "output_type": "stream",
     "text": [
      "This may take a few minutes...\n"
     ]
    }
   ],
   "source": [
    "tsaba.get_ns_act(term, thresh=-1)"
   ]
  },
  {
   "cell_type": "code",
   "execution_count": 7,
   "metadata": {
    "collapsed": false,
    "scrolled": true
   },
   "outputs": [
    {
     "name": "stdout",
     "output_type": "stream",
     "text": [
      "To use seaborn plotting functionality in Jupyter, '%matplotlib inline' must be enabled\n"
     ]
    }
   ],
   "source": [
    "anal = analysis.NsabaAnalysis(tsaba)"
   ]
  },
  {
   "cell_type": "code",
   "execution_count": 8,
   "metadata": {
    "collapsed": false
   },
   "outputs": [
    {
     "name": "stdout",
     "output_type": "stream",
     "text": [
      "t-value: -5.7401 \n",
      "p-value: 1.297E-08\n",
      "Effect size: -0.5386 \n",
      "\n"
     ]
    },
    {
     "data": {
      "image/png": "[encoded data removed]",
      "text/plain": [
       "<matplotlib.figure.Figure at 0x16b0c4e0>"
      ]
     },
     "metadata": {},
     "output_type": "display_data"
    }
   ],
   "source": [
    "anal.t_test('reward', 1813 , 85)"
   ]
  },
  {
   "cell_type": "code",
   "execution_count": 9,
   "metadata": {
    "collapsed": false
   },
   "outputs": [
    {
     "name": "stdout",
     "output_type": "stream",
     "text": [
      "This may take a couple of minutes ...\n"
     ]
    }
   ],
   "source": [
    "ttest_metr = anal.t_test_multi('reward')"
   ]
  },
  {
   "cell_type": "code",
   "execution_count": 10,
   "metadata": {
    "collapsed": false
   },
   "outputs": [
    {
     "name": "stdout",
     "output_type": "stream",
     "text": [
      "Fetching NIH gene descriptions ...\n",
      "374467 isn't registered with the NIH\n",
      "\n",
      "Corrected Bonferroni Alpha: 2.405E-06\n",
      "\n",
      "\n",
      "3169 (p = 6.355E-13; d = -0.686): This gene encodes a member of the forkhead class of DNA-binding proteins. These hepatocyte nuclear factors are transcriptional activators for liver-specific transcripts such as albumin and transthyretin, and they also interact with chromatin. Similar family members in mice have roles in the regulation of metabolism and in the differentiation of the pancreas and liver. [provided by RefSeq, Jul 2008]\n",
      "\n",
      "\n",
      "5445 (p = 3.014E-11; d = -0.632): < No description found >\n",
      "\n",
      "\n",
      "25890 (p = 6.682E-11; d = -0.620): < No description found >\n",
      "\n",
      "\n",
      "253970 (p = 6.935E-11; d = -0.620): < No description found >\n",
      "\n",
      "\n",
      "23620 (p = 9.524E-11; d = -0.615): The protein encoded by this gene belongs to the G protein-coupled receptor family that activate a phosphatidylinositol-calcium second messenger system. Binding and pharmacological studies demonstrate that this receptor binds neurotensin as well as several other ligands already described for neurotensin NT1 receptor. However, unlike NT1 receptor, this gene recognizes, with high affinity, levocabastine, a histamine H1 receptor antagonist previously shown to compete with neurotensin for low-affinity binding sites in brain. These activities suggest that this receptor may be of physiological importance and that a natural agonist for the receptor may exist. [provided by RefSeq, Jul 2008]\n",
      "\n",
      "\n",
      "85440 (p = 1.665E-10; d = -0.607): The protein encoded by this gene is a guanine nucleotide exchange factor (GEF) that plays a role in axon formation and neuronal polarization. The encoded protein displays GEF activity toward RAC1 and RAC3 Rho small GTPases but not toward CDC42. Several transcript variants encoding different isoforms have been found for this gene. [provided by RefSeq, Dec 2012]\n",
      "\n",
      "\n",
      "23089 (p = 1.910E-10; d = -0.605): This is a paternally expressed imprinted gene that is thought to have been derived from the Ty3/Gypsy family of retrotransposons. It contains two overlapping open reading frames, RF1 and RF2, and expresses two proteins: a shorter, gag-like protein (with a CCHC-type zinc finger domain) from RF1; and a longer, gag/pol-like fusion protein (with an additional aspartic protease motif) from RF1/RF2 by -1 translational frameshifting (-1 FS). While -1 FS has been observed in RNA viruses and transposons in both prokaryotes and eukaryotes, this gene represents the first example of -1 FS in a eukaryotic cellular gene. This gene is highly conserved across mammalian species and retains the heptanucleotide (GGGAAAC) and pseudoknot elements required for -1 FS. It is expressed in adult and embryonic tissues (most notably in placenta) and reported to have a role in cell proliferation, differentiation and apoptosis. Overexpression of this gene has been associated with several malignancies, such as hepatocellular carcinoma and B-cell lymphocytic leukemia. Knockout mice lacking this gene showed early embryonic lethality with placental defects, indicating the importance of this gene in embryonic development. Additional isoforms resulting from alternatively spliced transcript variants, and use of upstream non-AUG (CUG) start codon have been reported for this gene. [provided by RefSeq, Oct 2014]\n",
      "\n",
      "\n",
      "167681 (p = 2.366E-10; d = -0.601): < No description found >\n",
      "\n",
      "\n",
      "128414 (p = 2.364E-10; d = -0.601): NKAIN4 is a member of a family of mammalian proteins (see NKAIN1; MIM 612871) with similarity to Drosophila Nkain and interacts with the beta subunit of Na,K-ATPase (ATP1B1; MIM 182330) (Gorokhova et al., 2007 [PubMed 17606467]).[supplied by OMIM, Jun 2009]\n",
      "\n",
      "\n",
      "2202 (p = 3.432E-10; d = -0.596): This gene encodes a member of the fibulin family of extracellular matrix glycoproteins. Like all members of this family, the encoded protein contains tandemly repeated epidermal growth factor-like repeats followed by a C-terminus fibulin-type domain. This gene is upregulated in malignant gliomas and may play a role in the aggressive nature of these tumors. Mutations in this gene are associated with Doyne honeycomb retinal dystrophy. Alternatively spliced transcript variants that encode the same protein have been described.[provided by RefSeq, Nov 2009]\n",
      "\n",
      "\n",
      "4983 (p = 3.740E-10; d = -0.594): This gene encodes a Rho-GTPase-activating protein that promotes GTP hydrolysis of Rho subfamily members. Rho proteins are important mediators of intracellular signal transduction, which affects cell migration and cell morphogenesis. Mutations in this gene are responsible for OPHN1-related X-linked mental retardation with cerebellar hypoplasia and distinctive facial dysmorhphism. [provided by RefSeq, Jul 2008]\n",
      "\n",
      "\n",
      "7347 (p = 6.568E-10; d = -0.586): The protein encoded by this gene is a member of the deubiquitinating enzyme family. Members of this family are proteases that catalyze the removal of ubiquitin from polypeptides and are divided into five classes, depending on the mechanism of catalysis. This protein may hydrolyze the ubiquitinyl-N-epsilon amide bond of ubiquitinated proteins to regenerate ubiquitin for another catalytic cycle. Alternative splicing results in multiple transcript variants that encode different protein isoforms. [provided by RefSeq, Aug 2012]\n",
      "\n",
      "\n",
      "22800 (p = 7.906E-10; d = -0.583): This gene encodes a member of the R-Ras subfamily of Ras-like small GTPases. The encoded protein associates with the plasma membrane and may function as a signal transducer. This protein may play an important role in activating signal transduction pathways that control cell proliferation. Mutations in this gene are associated with the growth of certain tumors. Pseudogenes of this gene are found on chromosomes 1 and 2. Alternate splicing results in multiple transcript variants. [provided by RefSeq, Apr 2010]\n",
      "\n",
      "\n",
      "219681 (p = 8.103E-10; d = -0.583): Armadillo/beta-catenin (CTNNB1; MIM 116806)-like (ARM) domains are imperfect 45-amino acid repeats involved in protein-protein interactions. ARM domain-containing proteins, such as ARMC3, function in signal transduction, development, cell adhesion and mobility, and tumor initiation and metastasis (Li et al., 2006 [PubMed 16915934]).[supplied by OMIM, Mar 2008]\n",
      "\n",
      "\n",
      "5836 (p = 9.717E-10; d = -0.580): This gene encodes a homodimeric protein that catalyses the cleavage of alpha-1,4-glucosidic bonds to release glucose-1-phosphate from liver glycogen stores. This protein switches from inactive phosphorylase B to active phosphorylase A by phosphorylation of serine residue 15. Activity of this enzyme is further regulated by multiple allosteric effectors and hormonal controls. Humans have three glycogen phosphorylase genes that encode distinct isozymes that are primarily expressed in liver, brain and muscle, respectively. The liver isozyme serves the glycemic demands of the body in general while the brain and muscle isozymes supply just those tissues. In glycogen storage disease type VI, also known as Hers disease, mutations in liver glycogen phosphorylase inhibit the conversion of glycogen to glucose and results in moderate hypoglycemia, mild ketosis, growth retardation and hepatomegaly. Alternative splicing results in multiple transcript variants encoding different isoforms.[provided by RefSeq, Feb 2011]\n",
      "\n",
      "\n",
      "4935 (p = 1.349E-09; d = -0.575): This gene encodes a protein that binds to heterotrimeric G proteins and is targeted to melanosomes in pigment cells. This protein is thought to be involved in intracellular signal transduction mechanisms. Mutations in this gene cause ocular albinism type 1, also referred to as Nettleship-Falls type ocular albinism, a severe visual disorder. A related pseudogene has been identified on chromosome Y. [provided by RefSeq, Dec 2009]\n",
      "\n",
      "\n",
      "6531 (p = 1.848E-09; d = -0.571): This gene encodes a dopamine transporter which is a member of the sodium- and chloride-dependent neurotransmitter transporter family. The 3' UTR of this gene contains a 40 bp tandem repeat, referred to as a variable number tandem repeat or VNTR, which can be present in 3 to 11 copies. Variation in the number of repeats is associated with idiopathic epilepsy, attention-deficit hyperactivity disorder, dependence on alcohol and cocaine, susceptibility to Parkinson disease and protection against nicotine dependence.[provided by RefSeq, Nov 2009]\n",
      "\n",
      "\n",
      "84071 (p = 2.473E-09; d = -0.565): < No description found >\n",
      "\n",
      "\n",
      "3598 (p = 2.792E-09; d = -0.563): The protein encoded by this gene is closely related to Il13RA1, a subuint of the interleukin 13 receptor complex. This protein binds IL13 with high affinity, but lacks cytoplasmic domain, and does not appear to function as a signal mediator. It is reported to play a role in the internalization of IL13. [provided by RefSeq, Jul 2008]\n",
      "\n",
      "\n"
     ]
    }
   ],
   "source": [
    "anal.fetch_gene_descriptions(ttest_metr)"
   ]
  },
  {
   "cell_type": "code",
   "execution_count": 11,
   "metadata": {
    "collapsed": false
   },
   "outputs": [
    {
     "name": "stdout",
     "output_type": "stream",
     "text": [
      "Percent Significant (Bonferroni Correction; alpha = .05): 0.736 %\n"
     ]
    },
    {
     "data": {
      "image/png": "[encoded data removed]",
      "text/plain": [
       "<matplotlib.figure.Figure at 0x391e8588>"
      ]
     },
     "metadata": {},
     "output_type": "display_data"
    }
   ],
   "source": [
    "anal.p_val_distr(ttest_metr)"
   ]
  },
  {
   "cell_type": "code",
   "execution_count": 12,
   "metadata": {
    "collapsed": false
   },
   "outputs": [
    {
     "data": {
      "image/png": "[encoded data removed]",
      "text/plain": [
       "<matplotlib.figure.Figure at 0x1fd64ba8>"
      ]
     },
     "metadata": {},
     "output_type": "display_data"
    }
   ],
   "source": [
    "anal.effect_size_distr(ttest_metr)"
   ]
  },
  {
   "cell_type": "code",
   "execution_count": null,
   "metadata": {
    "collapsed": true
   },
   "outputs": [],
   "source": []
  }
 ],
 "metadata": {
  "kernelspec": {
   "display_name": "Python 2",
   "language": "python",
   "name": "python2"
  },
  "language_info": {
   "codemirror_mode": {
    "name": "ipython",
    "version": 2
   },
   "file_extension": ".py",
   "mimetype": "text/x-python",
   "name": "python",
   "nbconvert_exporter": "python",
   "pygments_lexer": "ipython2",
   "version": "2.7.8"
  }
 },
 "nbformat": 4,
 "nbformat_minor": 0
}
